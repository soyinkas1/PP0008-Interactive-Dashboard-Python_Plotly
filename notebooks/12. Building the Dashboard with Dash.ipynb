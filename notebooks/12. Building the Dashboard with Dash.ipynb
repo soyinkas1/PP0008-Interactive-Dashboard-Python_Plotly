{
 "cells": [
  {
   "cell_type": "markdown",
   "metadata": {},
   "source": [
    "# Building the Dashboard with Dash\n",
    "\n",
    "We're finally ready to start building our dashboard with Dash, a free and open source Python library created and maintained by the company Plotly. Dash provides many tools to display data visually as well as allow users to interact with it.\n",
    "\n",
    "Dash is built directly on top of Flask, one of the most popular web frameworks for Python, and react.js, an open source JavaScript library originally created by Facebook. Dash directly integrates with the plotly library. It does not make any plots on its own, but is equipped to present any plotly figure within it.\n",
    "\n",
    "## Parts of a Dash application\n",
    "\n",
    "There are two parts of a Dash application:\n",
    "\n",
    "* Layout\n",
    "* Interactivity (Callbacks)\n",
    "\n",
    "### Layout\n",
    "\n",
    "The layout describes the physical components of the application. There are two broad types of layout components - **HTML elements** and **dash components**. The HTML elements are the exact same elements we covered in the previous notebook. We will not be writing HTML directly, but accessing the elements as Python classes from the **dash_html_components** module. \n",
    "\n",
    "The dash components combine together multiple HTML elements, CSS, and JavaScript into a single component. Examples of these include dropdown menus, checklists, tabs, placeholders for plotly figures, and sliders. They are accessed as single Python classes from the **dash_core_components** module. Additionally, there is an entire separate library, **dash_table**, that provides functionality for interactive data tables.\n",
    "\n",
    "### Interactivity (Callbacks)\n",
    "\n",
    "The interactivity is the other part of the application, and is the code that makes changes to the layout components when a particular event occurs. Almost any event that occurs within a dash application can be mapped to some function that changes one of the layout components. These functions that are triggered are named **callbacks.** For example, when a country is clicked in our data table, three graphs are updated to show the clicked country's information.\n",
    "\n",
    "## Beginning a dash application\n",
    "\n",
    "Typically, dash applications are written in a separate file, such as `dashboard.py` in our case. For purposes of instruction, the dashboard will be written in this Jupyter Notebook. When writing real dashboard applications, I strongly recommend beginning them in a normal text file and using an editor such as [Sublime Text][0] or [Visual Studio Code][1]. \n",
    "\n",
    "### Installing JupyterDash\n",
    "\n",
    "Even though this tutorial takes place in a notebook, the code will be virtually identical as it would be in a separate text file. I recommend opening up `dashboard.py` in a separate editor now so that you can reference it during the tutorial. The only difference is that we'll need to install a new library for it to work properly. Plotly released the JupyterDash library to help those develop Dash within a notebook. This library is only needed for the tutorial and not for our production project, so we won't add it to our virtual environment. Install it now using either pip or conda.\n",
    "\n",
    "```bash\n",
    "pip install jupyter-dash==0.4\n",
    "\n",
    "```\n",
    "\n",
    "```bash\n",
    "conda install -c conda-forge -c plotly jupyter-dash=0.4\n",
    "```\n",
    "\n",
    "### Minimal dashboard\n",
    "\n",
    "Your dashboard will need a minimum of three lines of code to run - one to create the application with `JupyterDash`, another to set the `layout` attribute, and lastly, to execute the `run_server` method with `mode` set to `\"inline\"`, so it displays in the notebook. Here, we assign the layout to be a single HTML element, an h2 header and limit the height of the entire dashboard.\n",
    "\n",
    "[0]: https://www.sublimetext.com/\n",
    "[1]: https://code.visualstudio.com/"
   ]
  },
  {
   "cell_type": "code",
   "execution_count": 1,
   "metadata": {
    "tags": [
     "1"
    ]
   },
   "outputs": [
    {
     "data": {
      "text/html": [
       "\n",
       "        <iframe\n",
       "            width=\"100%\"\n",
       "            height=\"100\"\n",
       "            src=\"http://127.0.0.1:8050/\"\n",
       "            frameborder=\"0\"\n",
       "            allowfullscreen\n",
       "            \n",
       "        ></iframe>\n",
       "        "
      ],
      "text/plain": [
       "<IPython.lib.display.IFrame at 0x1df401a1e50>"
      ]
     },
     "metadata": {},
     "output_type": "display_data"
    }
   ],
   "source": [
    "from jupyter_dash import JupyterDash\n",
    "import dash_html_components as html\n",
    "\n",
    "app = JupyterDash(__name__)\n",
    "app.layout = html.H2('Coronavirus Forecasting Dashboard')\n",
    "app.run_server(mode='inline', height=100)"
   ]
  },
  {
   "cell_type": "markdown",
   "metadata": {},
   "source": [
    "## HTML elements in dash\n",
    "\n",
    "Nearly all normal HTML elements are available as Python classes after importing `dash_html_components` and aliasing it as `html`. Element names have their first letter capitalized. The first argument for every HTML class in dash is the element's content, formally given the parameter name **children**. The content is often a string for paragraph, header, and anchor elements. Use a list when the content consists of multiple other HTML elements (which is often the case for divs).  \n",
    "\n",
    "Below, we create an anchor element and then place it and the header inside of a div. Dash does not allow you to assign the `layout` attribute to a list of elements. You must set it to a single HTML element, so we are forced to use a div to contain all of the elements."
   ]
  },
  {
   "cell_type": "code",
   "execution_count": 2,
   "metadata": {
    "tags": [
     "2"
    ]
   },
   "outputs": [
    {
     "data": {
      "text/html": [
       "\n",
       "        <iframe\n",
       "            width=\"100%\"\n",
       "            height=\"100\"\n",
       "            src=\"http://127.0.0.1:8050/\"\n",
       "            frameborder=\"0\"\n",
       "            allowfullscreen\n",
       "            \n",
       "        ></iframe>\n",
       "        "
      ],
      "text/plain": [
       "<IPython.lib.display.IFrame at 0x1df4016ae80>"
      ]
     },
     "metadata": {},
     "output_type": "display_data"
    }
   ],
   "source": [
    "title = html.H2('Coronavirus Forecasting Dashboard')\n",
    "link = html.A('Visit live dashboard', href='https://coronavirus.dunderdata.com')\n",
    "layout = html.Div([title, link])\n",
    "\n",
    "app = JupyterDash(__name__)\n",
    "app.layout = layout\n",
    "app.run_server(mode='inline', height=100)"
   ]
  },
  {
   "cell_type": "markdown",
   "metadata": {},
   "source": [
    "### Adding CSS\n",
    "\n",
    "In our actual project, most CSS will be kept in the external stylesheet, style.css. For this tutorial, it will be easier to see the CSS together with elements. Unfortunately, the `dash_html_components` library does not have a style element. However, CSS may be added with the `style` parameter, setting it to a dictionary with each property mapped to its value, with the caveat that attribute names are written in **camelCase**. Also, you cannot set the `class` or `id` within the `style` dictionary, but must use the `id` and `className` parameters instead. The following list summarizes the differences writing HTML in dash:\n",
    "\n",
    "* Nearly all normal HTML elements are available in `dash_html_components`\n",
    "* Element names are capitalized\n",
    "* Attributes are the same and available as parameters\n",
    "* Set the `style` parameter to a dictionary to apply CSS\n",
    "* Properties in the style dictionary are **camelCased**\n",
    "* Set id and class with parameters `id` and `className`\n",
    "\n",
    "Here, we use the same layout from above, but add style to the header."
   ]
  },
  {
   "cell_type": "code",
   "execution_count": 3,
   "metadata": {
    "tags": [
     "3"
    ]
   },
   "outputs": [
    {
     "data": {
      "text/html": [
       "\n",
       "        <iframe\n",
       "            width=\"100%\"\n",
       "            height=\"100\"\n",
       "            src=\"http://127.0.0.1:8050/\"\n",
       "            frameborder=\"0\"\n",
       "            allowfullscreen\n",
       "            \n",
       "        ></iframe>\n",
       "        "
      ],
      "text/plain": [
       "<IPython.lib.display.IFrame at 0x1df40658280>"
      ]
     },
     "metadata": {},
     "output_type": "display_data"
    }
   ],
   "source": [
    "title = html.H2('Coronavirus Forecasting Dashboard', \n",
    "                style={\n",
    "                    'backgroundColor': 'tan',\n",
    "                    'fontFamily': 'verdana',\n",
    "                    'textAlign': 'center'\n",
    "                }\n",
    "               )\n",
    "link = html.A('Visit live dashboard', href='https://coronavirus.dunderdata.com')\n",
    "layout = html.Div([title, link])\n",
    "\n",
    "app = JupyterDash(__name__)\n",
    "app.layout = layout\n",
    "app.run_server(mode='inline', height=100)"
   ]
  },
  {
   "cell_type": "markdown",
   "metadata": {},
   "source": [
    "## Creating a data table\n",
    "\n",
    "A separate package, `dash_table`, contains the class `DataTable` to create interactive tables of data. Visit the [official documentation][0] for full coverage. There are many parameters that you can set during construction of the table:\n",
    "\n",
    "* `data` - List of dictionaries where each list represents one row. \n",
    "    * `df.to_dict('records')` converts a pandas DataFrame into the proper data structure\n",
    "* `columns` - List of dictionaries where each item represents information (name, id, type, format, etc...) on one column. \n",
    "    * `[{'name': name, 'id': name} for name in df.columns]`\n",
    "* `sort_action` - Allow sorting of columns by setting to string `'native'`\n",
    "* `active_cell` - Initial active cell - will be highlighted - `{\"row\": 0, \"column\": 0}`\n",
    "* `style_table` - CSS for `table` HTML element (not for individual rows, columns, or cells)\n",
    "* `style_cell` - CSS for ALL cells\n",
    "* `style_header` - CSS for only the header (columns)\n",
    "* `style_data` - CSS for only the data\n",
    "* `style_data_conditional` - CSS based on if/else condition\n",
    "    * `{\"if\": {\"column_id\": first_col}, \"width\": \"120px\", \"textAlign\": \"left\"}`\n",
    "* `fixed_rows` - Keep the first `n` rows fixed when scrolling down. Mainly used to keep the column names on top.\n",
    "    * `{ 'headers': True, 'data': n }`\n",
    "\n",
    "[0]: https://dash.plotly.com/datatable"
   ]
  },
  {
   "cell_type": "markdown",
   "metadata": {},
   "source": [
    "Let's read in the summary table as a pandas DataFrame placing the group (either \"world\" or usa\") in the index. It has one row per area for the \"current\" date."
   ]
  },
  {
   "cell_type": "code",
   "execution_count": 4,
   "metadata": {},
   "outputs": [
    {
     "data": {
      "text/html": [
       "<div>\n",
       "<style scoped>\n",
       "    .dataframe tbody tr th:only-of-type {\n",
       "        vertical-align: middle;\n",
       "    }\n",
       "\n",
       "    .dataframe tbody tr th {\n",
       "        vertical-align: top;\n",
       "    }\n",
       "\n",
       "    .dataframe thead th {\n",
       "        text-align: right;\n",
       "    }\n",
       "</style>\n",
       "<table border=\"1\" class=\"dataframe\">\n",
       "  <thead>\n",
       "    <tr style=\"text-align: right;\">\n",
       "      <th></th>\n",
       "      <th>area</th>\n",
       "      <th>Daily Deaths</th>\n",
       "      <th>Daily Cases</th>\n",
       "      <th>Deaths</th>\n",
       "      <th>Cases</th>\n",
       "      <th>code</th>\n",
       "      <th>population</th>\n",
       "      <th>Deaths per Million</th>\n",
       "      <th>Cases per Million</th>\n",
       "      <th>date</th>\n",
       "    </tr>\n",
       "    <tr>\n",
       "      <th>group</th>\n",
       "      <th></th>\n",
       "      <th></th>\n",
       "      <th></th>\n",
       "      <th></th>\n",
       "      <th></th>\n",
       "      <th></th>\n",
       "      <th></th>\n",
       "      <th></th>\n",
       "      <th></th>\n",
       "      <th></th>\n",
       "    </tr>\n",
       "  </thead>\n",
       "  <tbody>\n",
       "    <tr>\n",
       "      <th>world</th>\n",
       "      <td>Afghanistan</td>\n",
       "      <td>4</td>\n",
       "      <td>86</td>\n",
       "      <td>1548</td>\n",
       "      <td>41814</td>\n",
       "      <td>AFG</td>\n",
       "      <td>38.928341</td>\n",
       "      <td>40.0</td>\n",
       "      <td>1070.0</td>\n",
       "      <td>2020-11-05</td>\n",
       "    </tr>\n",
       "    <tr>\n",
       "      <th>world</th>\n",
       "      <td>Albania</td>\n",
       "      <td>7</td>\n",
       "      <td>421</td>\n",
       "      <td>543</td>\n",
       "      <td>22721</td>\n",
       "      <td>ALB</td>\n",
       "      <td>2.877800</td>\n",
       "      <td>189.0</td>\n",
       "      <td>7900.0</td>\n",
       "      <td>2020-11-05</td>\n",
       "    </tr>\n",
       "    <tr>\n",
       "      <th>world</th>\n",
       "      <td>Algeria</td>\n",
       "      <td>12</td>\n",
       "      <td>642</td>\n",
       "      <td>2011</td>\n",
       "      <td>60169</td>\n",
       "      <td>DZA</td>\n",
       "      <td>43.851043</td>\n",
       "      <td>46.0</td>\n",
       "      <td>1370.0</td>\n",
       "      <td>2020-11-05</td>\n",
       "    </tr>\n",
       "  </tbody>\n",
       "</table>\n",
       "</div>"
      ],
      "text/plain": [
       "              area  Daily Deaths  Daily Cases  Deaths  Cases code  population  \\\n",
       "group                                                                           \n",
       "world  Afghanistan             4           86    1548  41814  AFG   38.928341   \n",
       "world      Albania             7          421     543  22721  ALB    2.877800   \n",
       "world      Algeria            12          642    2011  60169  DZA   43.851043   \n",
       "\n",
       "       Deaths per Million  Cases per Million       date  \n",
       "group                                                    \n",
       "world                40.0             1070.0 2020-11-05  \n",
       "world               189.0             7900.0 2020-11-05  \n",
       "world                46.0             1370.0 2020-11-05  "
      ]
     },
     "execution_count": 4,
     "metadata": {},
     "output_type": "execute_result"
    }
   ],
   "source": [
    "import pandas as pd\n",
    "SUMMARY = pd.read_csv(\"data/summary.csv\", index_col=\"group\", parse_dates=[\"date\"])\n",
    "SUMMARY.head(3)"
   ]
  },
  {
   "cell_type": "markdown",
   "metadata": {},
   "source": [
    "This is the data we'd like to place within a dash data table. Before doing so, we'll select a subset of columns for just the world group and change the area column to \"Country\"."
   ]
  },
  {
   "cell_type": "code",
   "execution_count": 5,
   "metadata": {},
   "outputs": [
    {
     "data": {
      "text/html": [
       "<div>\n",
       "<style scoped>\n",
       "    .dataframe tbody tr th:only-of-type {\n",
       "        vertical-align: middle;\n",
       "    }\n",
       "\n",
       "    .dataframe tbody tr th {\n",
       "        vertical-align: top;\n",
       "    }\n",
       "\n",
       "    .dataframe thead th {\n",
       "        text-align: right;\n",
       "    }\n",
       "</style>\n",
       "<table border=\"1\" class=\"dataframe\">\n",
       "  <thead>\n",
       "    <tr style=\"text-align: right;\">\n",
       "      <th></th>\n",
       "      <th>Country</th>\n",
       "      <th>Deaths</th>\n",
       "      <th>Cases</th>\n",
       "      <th>Deaths per Million</th>\n",
       "      <th>Cases per Million</th>\n",
       "    </tr>\n",
       "    <tr>\n",
       "      <th>group</th>\n",
       "      <th></th>\n",
       "      <th></th>\n",
       "      <th></th>\n",
       "      <th></th>\n",
       "      <th></th>\n",
       "    </tr>\n",
       "  </thead>\n",
       "  <tbody>\n",
       "    <tr>\n",
       "      <th>world</th>\n",
       "      <td>Afghanistan</td>\n",
       "      <td>1548</td>\n",
       "      <td>41814</td>\n",
       "      <td>40.0</td>\n",
       "      <td>1070.0</td>\n",
       "    </tr>\n",
       "    <tr>\n",
       "      <th>world</th>\n",
       "      <td>Albania</td>\n",
       "      <td>543</td>\n",
       "      <td>22721</td>\n",
       "      <td>189.0</td>\n",
       "      <td>7900.0</td>\n",
       "    </tr>\n",
       "    <tr>\n",
       "      <th>world</th>\n",
       "      <td>Algeria</td>\n",
       "      <td>2011</td>\n",
       "      <td>60169</td>\n",
       "      <td>46.0</td>\n",
       "      <td>1370.0</td>\n",
       "    </tr>\n",
       "  </tbody>\n",
       "</table>\n",
       "</div>"
      ],
      "text/plain": [
       "           Country  Deaths  Cases  Deaths per Million  Cases per Million\n",
       "group                                                                   \n",
       "world  Afghanistan    1548  41814                40.0             1070.0\n",
       "world      Albania     543  22721               189.0             7900.0\n",
       "world      Algeria    2011  60169                46.0             1370.0"
      ]
     },
     "execution_count": 5,
     "metadata": {},
     "output_type": "execute_result"
    }
   ],
   "source": [
    "group = \"world\"\n",
    "used_columns = [\"area\", \"Deaths\", \"Cases\", \"Deaths per Million\", \"Cases per Million\"]\n",
    "df = SUMMARY.loc[group, used_columns]\n",
    "df = df.rename(columns={\"area\": \"Country\"})\n",
    "df.head(3)"
   ]
  },
  {
   "cell_type": "markdown",
   "metadata": {},
   "source": [
    "Now that we have our data, we need to provide column info to dash by creating a list of dictionaries. At a minimum, the `name` (visible label for column) and `id` (internal identification) must be present. We set both the name and id to the column name. The `type` (\"any\", \"numeric\", \"text\", or \"datetime\") is given along with setting `format` to a dictionary that uses the key `specifier` to set the formatting (based on [D3 format][1]). The first column is the area, which is a text column. We iterate to append all of the other columns, which are numeric.\n",
    "\n",
    "[1]: https://github.com/d3/d3-format"
   ]
  },
  {
   "cell_type": "code",
   "execution_count": 6,
   "metadata": {},
   "outputs": [
    {
     "data": {
      "text/plain": [
       "Index(['Country', 'Deaths', 'Cases', 'Deaths per Million',\n",
       "       'Cases per Million'],\n",
       "      dtype='object')"
      ]
     },
     "execution_count": 6,
     "metadata": {},
     "output_type": "execute_result"
    }
   ],
   "source": [
    "df.columns"
   ]
  },
  {
   "cell_type": "code",
   "execution_count": 20,
   "metadata": {},
   "outputs": [
    {
     "data": {
      "text/plain": [
       "[{'name': 'Country', 'id': 'Country', 'type': 'text'},\n",
       " {'name': 'Deaths',\n",
       "  'id': 'Deaths',\n",
       "  'type': 'numeric',\n",
       "  'format': {'specifier': ','}},\n",
       " {'name': 'Cases',\n",
       "  'id': 'Cases',\n",
       "  'type': 'numeric',\n",
       "  'format': {'specifier': ','}},\n",
       " {'name': 'Deaths per Million',\n",
       "  'id': 'Deaths per Million',\n",
       "  'type': 'numeric',\n",
       "  'format': {'specifier': ','}},\n",
       " {'name': 'Cases per Million',\n",
       "  'id': 'Cases per Million',\n",
       "  'type': 'numeric',\n",
       "  'format': {'specifier': ','}}]"
      ]
     },
     "execution_count": 20,
     "metadata": {},
     "output_type": "execute_result"
    }
   ],
   "source": [
    "columns = [{\"name\": \"Country\", \n",
    "            \"id\": \"Country\", \"type\": \"text\"}]\n",
    "for name in df.columns[1:]:\n",
    "    col_info = {\n",
    "        \"name\": name,\n",
    "        \"id\": name,\n",
    "        \"type\": \"numeric\",\n",
    "        \"format\": {'specifier': ','}\n",
    "    }\n",
    "    columns.append(col_info)\n",
    "columns"
   ]
  },
  {
   "cell_type": "markdown",
   "metadata": {},
   "source": [
    "We sort the DataFrame by deaths and then convert it to a list of dictionaries, which is necessary for the dash table.\n"
   ]
  },
  {
   "cell_type": "code",
   "execution_count": 17,
   "metadata": {},
   "outputs": [
    {
     "data": {
      "text/plain": [
       "[{'Country': 'USA',\n",
       "  'Deaths': 235651,\n",
       "  'Cases': 9698153,\n",
       "  'Deaths per Million': 715.0,\n",
       "  'Cases per Million': 29440.0},\n",
       " {'Country': 'Brazil',\n",
       "  'Deaths': 161849,\n",
       "  'Cases': 5617943,\n",
       "  'Deaths per Million': 761.0,\n",
       "  'Cases per Million': 26430.0},\n",
       " {'Country': 'India',\n",
       "  'Deaths': 124985,\n",
       "  'Cases': 8411724,\n",
       "  'Deaths per Million': 91.0,\n",
       "  'Cases per Million': 6100.0}]"
      ]
     },
     "execution_count": 17,
     "metadata": {},
     "output_type": "execute_result"
    }
   ],
   "source": [
    "data = df.sort_values(\"Deaths\", ascending=False).to_dict(\"records\")\n",
    "data[:3]"
   ]
  },
  {
   "cell_type": "markdown",
   "metadata": {},
   "source": [
    "We are now set to create our data table. We use `active_cell` to highlight and make the first cell active. We also use conditional styling to underline values in the first column and turn the cursor into a pointer to inform the user that it is clickable. \n",
    "\n",
    "\n",
    "### Note on table height\n",
    "\n",
    "Unfortunately, behavior for table height is not consistent and requires us to set it using both `minHeight` and `height` CSS properties when using `fixed_rows`/`fixed_columns`. We set it using the units `vh`, which stands for **viewport height**, where 1vh represents 1% of the viewable height of the screen. Below, we set it to 80vh so that the table takes up 80% of the viewable screen height."
   ]
  },
  {
   "cell_type": "code",
   "execution_count": 24,
   "metadata": {
    "tags": [
     "4"
    ]
   },
   "outputs": [
    {
     "data": {
      "text/html": [
       "\n",
       "        <iframe\n",
       "            width=\"100%\"\n",
       "            height=\"500\"\n",
       "            src=\"http://127.0.0.1:8050/\"\n",
       "            frameborder=\"0\"\n",
       "            allowfullscreen\n",
       "            \n",
       "        ></iframe>\n",
       "        "
      ],
      "text/plain": [
       "<IPython.lib.display.IFrame at 0x1df4068c5e0>"
      ]
     },
     "metadata": {},
     "output_type": "display_data"
    }
   ],
   "source": [
    "from dash_table import DataTable\n",
    "world_table = DataTable(\n",
    "    id=f\"{group}-table\",\n",
    "    columns=columns,\n",
    "    data=data,\n",
    "    fixed_rows={\"headers\": True},\n",
    "    active_cell={\"row\": 0, \"column\": 0},\n",
    "    sort_action=\"native\",\n",
    "    derived_virtual_data=data,\n",
    "    style_table={\n",
    "        \"minHeight\": \"80vh\",\n",
    "        \"height\": \"80vh\",\n",
    "        \"overflowY\": \"scroll\"\n",
    "        },\n",
    "    style_cell={\n",
    "        \"whitespace\": \"normal\",\n",
    "        \"height\":\"auto\",\n",
    "        \"fontFamily\": \"verdana\"\n",
    "    },\n",
    "    style_header={\n",
    "        \"textAlign\": \"center\",\n",
    "        \"fontSize\": 14\n",
    "    },\n",
    "    style_data={\n",
    "        \"fontSize\": 12\n",
    "    },\n",
    "    style_data_conditional=[\n",
    "        {\n",
    "            \"if\": {\"column_id\": \"Country\"},\n",
    "            \"width\": \"120px\",\n",
    "            \"textAlign\": \"left\",\n",
    "            \"textDecoration\": \"underline\",\n",
    "            \"cursor\": \"pointer\"\n",
    "        },\n",
    "        {\n",
    "            \"if\": {\"row_index\": \"odd\"}, \n",
    "            \"backgroundColor\": \"#fafbfb\"\n",
    "        }\n",
    "    ],\n",
    ")\n",
    "layout = html.Div([title, world_table])\n",
    "\n",
    "app = JupyterDash(__name__)\n",
    "app.layout = layout\n",
    "app.run_server(mode='inline', height=500)"
   ]
  },
  {
   "cell_type": "markdown",
   "metadata": {},
   "source": [
    "The function below encapsulates all of our work from above and is nearly identical to the one found in `dashboard.py`."
   ]
  },
  {
   "cell_type": "code",
   "execution_count": 25,
   "metadata": {},
   "outputs": [],
   "source": [
    "def create_table(group):\n",
    "    used_columns = [\n",
    "        \"area\",\n",
    "        \"Deaths\",\n",
    "        \"Cases\",\n",
    "        \"Deaths per Million\",\n",
    "        \"Cases per Million\",\n",
    "    ]\n",
    "    df = SUMMARY.loc[group, used_columns]\n",
    "    first_col = \"Country\" if group == \"world\" else \"State\"\n",
    "    df = df.rename(columns={\"area\": first_col})\n",
    "\n",
    "    columns = [{\"name\": first_col, \"id\": first_col}]\n",
    "    for name in df.columns[1:]:\n",
    "        col_info = {\n",
    "            \"name\": name,\n",
    "            \"id\": name,\n",
    "            \"type\": \"numeric\",\n",
    "            \"format\": {'specifier': ','},\n",
    "        }\n",
    "        columns.append(col_info)\n",
    "\n",
    "    data = df.sort_values(\"Deaths\", ascending=False).to_dict(\"records\")\n",
    "    return DataTable(\n",
    "        id=f\"{group}-table\",\n",
    "        columns=columns,\n",
    "        data=data,\n",
    "        active_cell={\"row\": 0, \"column\": 0},\n",
    "        fixed_rows={\"headers\": True},\n",
    "        sort_action=\"native\",\n",
    "        derived_virtual_data=data,\n",
    "        style_table={\n",
    "            \"minHeight\": \"80vh\",\n",
    "            \"height\": \"80vh\",\n",
    "            \"overflowY\": \"scroll\",\n",
    "            \"borderRadius\": \"0px 0px 10px 10px\",\n",
    "        },\n",
    "        style_cell={\n",
    "            \"whiteSpace\": \"normal\",\n",
    "            \"height\": \"auto\",\n",
    "            \"fontFamily\": \"verdana\",\n",
    "        },\n",
    "        style_header={\n",
    "            \"textAlign\": \"center\",\n",
    "            \"fontSize\": 14,\n",
    "        },\n",
    "        style_data={\n",
    "            \"fontSize\": 12,\n",
    "        },\n",
    "        style_data_conditional=[\n",
    "            {\n",
    "                \"if\": {\"column_id\": first_col},\n",
    "                \"width\": \"120px\",\n",
    "                \"textAlign\": \"left\",\n",
    "                \"textDecoration\": \"underline\",\n",
    "                \"cursor\": \"pointer\",\n",
    "            },\n",
    "            {\n",
    "                \"if\": {\"row_index\": \"odd\"}, \n",
    "                \"backgroundColor\": \"#fafbfb\"\n",
    "            }\n",
    "        ],\n",
    "    )"
   ]
  },
  {
   "cell_type": "markdown",
   "metadata": {},
   "source": [
    "Let's use it to create the USA data table and recreate the world table as well. These tables will be accessible from their respective tab."
   ]
  },
  {
   "cell_type": "code",
   "execution_count": 26,
   "metadata": {},
   "outputs": [],
   "source": [
    "world_table = create_table(\"world\")\n",
    "usa_table = create_table(\"usa\")"
   ]
  },
  {
   "cell_type": "markdown",
   "metadata": {},
   "source": [
    "## Dash core components\n",
    "\n",
    "The [dash_core_components library][1], aliased as `dcc`, contains many interactive widgets such as checklists, dropdown menus, buttons, tabs, and others. You can think of these widgets as a collection of HTML, CSS, and JavaScript wrapped into a single Python class that is ready to use.\n",
    "\n",
    "###  Creating tabs\n",
    "\n",
    "Let's create two tabs, one for each of the world and USA. To do so we'll need both the `Tabs` and `Tab` classes from `dash_core_components`. The `Tabs` component is the container for each individual `Tab`, which is the container for the content (data table in this example). Here, we create two individual tabs, using the data table as the content. Dash allows you to provide a normal class name, and another one for when it is selected. This enables us to apply different styling based on which tab is selected.\n",
    "\n",
    "[1]: https://dash.plotly.com/dash-core-components"
   ]
  },
  {
   "cell_type": "code",
   "execution_count": 27,
   "metadata": {},
   "outputs": [],
   "source": [
    "import dash_core_components as dcc\n",
    "\n",
    "def create_tab(content, label, value):\n",
    "    return dcc.Tab(\n",
    "        content,\n",
    "        label=label,\n",
    "        value=value,\n",
    "        id=f\"{value}-tab\",\n",
    "        className=\"single-tab\",\n",
    "        selected_className=\"single-tab--selected\",\n",
    "    )\n",
    "\n",
    "world_tab = create_tab(world_table, \"World\", \"world\")\n",
    "usa_tab = create_tab(usa_table, \"US States\", \"usa\")"
   ]
  },
  {
   "cell_type": "markdown",
   "metadata": {},
   "source": [
    "We pass the individual tabs as a list to the `Tabs` component and update our layout to show the tabs with the tables."
   ]
  },
  {
   "cell_type": "code",
   "execution_count": 28,
   "metadata": {
    "tags": [
     "5"
    ]
   },
   "outputs": [
    {
     "data": {
      "text/html": [
       "\n",
       "        <iframe\n",
       "            width=\"100%\"\n",
       "            height=\"500\"\n",
       "            src=\"http://127.0.0.1:8050/\"\n",
       "            frameborder=\"0\"\n",
       "            allowfullscreen\n",
       "            \n",
       "        ></iframe>\n",
       "        "
      ],
      "text/plain": [
       "<IPython.lib.display.IFrame at 0x1df404f7b20>"
      ]
     },
     "metadata": {},
     "output_type": "display_data"
    }
   ],
   "source": [
    "table_tabs = dcc.Tabs(\n",
    "    [world_tab, usa_tab], \n",
    "    className=\"tabs-container\", \n",
    "    id=\"table-tabs\",\n",
    "    value=\"world\"\n",
    ")\n",
    "layout = html.Div([title, table_tabs])\n",
    "\n",
    "app = JupyterDash(__name__)\n",
    "app.layout = layout\n",
    "app.run_server(mode='inline', height=500)"
   ]
  },
  {
   "cell_type": "markdown",
   "metadata": {},
   "source": [
    "## Adding plotly figures with `dcc.Graph`\n",
    "\n",
    "Plotly figures must be placed within the `dcc.Graph` component in order to be added to the dashboard. Before we make the graphs, let's read in all of the data, putting the group, area, and date in the index."
   ]
  },
  {
   "cell_type": "code",
   "execution_count": 31,
   "metadata": {},
   "outputs": [
    {
     "data": {
      "text/html": [
       "<div>\n",
       "<style scoped>\n",
       "    .dataframe tbody tr th:only-of-type {\n",
       "        vertical-align: middle;\n",
       "    }\n",
       "\n",
       "    .dataframe tbody tr th {\n",
       "        vertical-align: top;\n",
       "    }\n",
       "\n",
       "    .dataframe thead th {\n",
       "        text-align: right;\n",
       "    }\n",
       "</style>\n",
       "<table border=\"1\" class=\"dataframe\">\n",
       "  <thead>\n",
       "    <tr style=\"text-align: right;\">\n",
       "      <th></th>\n",
       "      <th></th>\n",
       "      <th></th>\n",
       "      <th>Daily Deaths</th>\n",
       "      <th>Daily Cases</th>\n",
       "      <th>Deaths</th>\n",
       "      <th>Cases</th>\n",
       "    </tr>\n",
       "    <tr>\n",
       "      <th>group</th>\n",
       "      <th>area</th>\n",
       "      <th>date</th>\n",
       "      <th></th>\n",
       "      <th></th>\n",
       "      <th></th>\n",
       "      <th></th>\n",
       "    </tr>\n",
       "  </thead>\n",
       "  <tbody>\n",
       "    <tr>\n",
       "      <th rowspan=\"5\" valign=\"top\">usa</th>\n",
       "      <th rowspan=\"5\" valign=\"top\">Alabama</th>\n",
       "      <th>2020-01-22</th>\n",
       "      <td>0</td>\n",
       "      <td>0</td>\n",
       "      <td>0</td>\n",
       "      <td>0</td>\n",
       "    </tr>\n",
       "    <tr>\n",
       "      <th>2020-01-23</th>\n",
       "      <td>0</td>\n",
       "      <td>0</td>\n",
       "      <td>0</td>\n",
       "      <td>0</td>\n",
       "    </tr>\n",
       "    <tr>\n",
       "      <th>2020-01-24</th>\n",
       "      <td>0</td>\n",
       "      <td>0</td>\n",
       "      <td>0</td>\n",
       "      <td>0</td>\n",
       "    </tr>\n",
       "    <tr>\n",
       "      <th>2020-01-25</th>\n",
       "      <td>0</td>\n",
       "      <td>0</td>\n",
       "      <td>0</td>\n",
       "      <td>0</td>\n",
       "    </tr>\n",
       "    <tr>\n",
       "      <th>2020-01-26</th>\n",
       "      <td>0</td>\n",
       "      <td>0</td>\n",
       "      <td>0</td>\n",
       "      <td>0</td>\n",
       "    </tr>\n",
       "  </tbody>\n",
       "</table>\n",
       "</div>"
      ],
      "text/plain": [
       "                          Daily Deaths  Daily Cases  Deaths  Cases\n",
       "group area    date                                                \n",
       "usa   Alabama 2020-01-22             0            0       0      0\n",
       "              2020-01-23             0            0       0      0\n",
       "              2020-01-24             0            0       0      0\n",
       "              2020-01-25             0            0       0      0\n",
       "              2020-01-26             0            0       0      0"
      ]
     },
     "execution_count": 31,
     "metadata": {},
     "output_type": "execute_result"
    }
   ],
   "source": [
    "ALL_DATA = pd.read_csv(\"data/all_data.csv\", \n",
    "                       index_col=[\"group\", \"area\", \"date\"], \n",
    "                       parse_dates=[\"date\"]).sort_index()\n",
    "ALL_DATA.head()"
   ]
  },
  {
   "cell_type": "markdown",
   "metadata": {},
   "source": [
    "We made all of the figures for our dashboard in the chapter covering plotly visualizations. The cell below defines the following functions:\n",
    "\n",
    "* `create_figures` - creates three empty plotly figures with two plots each\n",
    "* `make_cumulative_graphs` - cumulative line graphs of total deaths/cases\n",
    "* `make_daily_graphs` - daily bar chart of deaths/cases\n",
    "* `make_weekly_graphs` - aggregated weekly totals of deaths/cases\n",
    "* `create_graphs` - runs the above four functions and returns three completed figures."
   ]
  },
  {
   "cell_type": "code",
   "execution_count": 32,
   "metadata": {},
   "outputs": [],
   "source": [
    "from plotly.subplots import make_subplots\n",
    "from plotly.colors import qualitative\n",
    "COLORS = qualitative.T10[:2]\n",
    "LAST_DATE = SUMMARY['date'].iloc[-1]\n",
    "FIRST_PRED_DATE = LAST_DATE + pd.Timedelta('1D')\n",
    "\n",
    "def create_figures(title, n=3):\n",
    "    figs = []\n",
    "    annot_props = {\"x\": 0.1, \"xref\": \"paper\", \"yref\": \"paper\", \"xanchor\": \"left\",\n",
    "                   \"showarrow\": False, \"font\": {\"size\": 18},}\n",
    "    for _ in range(n):\n",
    "        fig = make_subplots(rows=2, cols=1, vertical_spacing=0.1)\n",
    "        fig.update_layout(\n",
    "            title={\"text\": title, \"x\": 0.5, \"y\": 0.97, \"font\": {\"size\": 20}},\n",
    "            annotations=[\n",
    "                {\"y\": 0.95, \"text\": \"<b>Deaths</b>\"},\n",
    "                {\"y\": 0.3, \"text\": \"<b>Cases</b>\"},\n",
    "            ],\n",
    "            margin={\"t\": 40, \"l\": 50, \"r\": 10, \"b\": 0},\n",
    "            legend={\"x\": 0.5, \"y\": -0.05, \"xanchor\": \"center\", \"orientation\": \"h\",\n",
    "                    \"font\": {\"size\": 15}})\n",
    "        fig.update_traces(showlegend=False, row=2, col=1)\n",
    "        fig.update_traces(hovertemplate=\"%{x} - %{y:,}\")\n",
    "        fig.update_annotations(annot_props)\n",
    "        figs.append(fig)\n",
    "    return figs\n",
    "\n",
    "def make_cumulative_graphs(fig, df_dict, kinds):\n",
    "    for row, kind in enumerate(kinds, start=1):\n",
    "        for i, (name, df) in enumerate(df_dict.items()):\n",
    "            fig.add_scatter(x=df.index, y=df[kind], mode=\"lines+markers\", \n",
    "                            showlegend=row==1, line={\"color\": COLORS[i]}, \n",
    "                            name=name, row=row, col=1)\n",
    "\n",
    "def make_daily_graphs(fig, df_dict, kinds):\n",
    "    for row, kind in enumerate(kinds, start=1):\n",
    "        for i, (name, df) in enumerate(df_dict.items()):\n",
    "            fig.add_bar(x=df.index, y=df[kind], marker={\"color\": COLORS[i]},\n",
    "                        showlegend=row==1, name=name, row=row, col=1)\n",
    "\n",
    "def make_weekly_graphs(fig, df_dict, kinds):\n",
    "    offset = \"W-\" + LAST_DATE.strftime(\"%a\").upper()\n",
    "    df_dict = {name: df.resample(offset, kind=\"timestamp\", closed=\"right\")[kinds].sum()\n",
    "               for name, df in df_dict.items()}\n",
    "\n",
    "    for row, kind in enumerate(kinds, start=1):\n",
    "        for i, (name, df) in enumerate(df_dict.items()):\n",
    "            fig.add_scatter(x=df.index, y=df[kind], mode=\"lines+markers\",\n",
    "                            showlegend=row==1, line={\"color\": COLORS[i]},\n",
    "                            name=name, row=row, col=1)\n",
    "            \n",
    "def create_graphs(group, area):\n",
    "    df = ALL_DATA.loc[(group, area)]\n",
    "    df_dict = {\"actual\": df.loc[:LAST_DATE], \"prediction\": df.loc[FIRST_PRED_DATE:]}\n",
    "    kinds = [\"Deaths\", \"Cases\"]\n",
    "    new_kinds = [\"Daily Deaths\", \"Daily Cases\"]\n",
    "    figs = create_figures(area)\n",
    "    make_cumulative_graphs(figs[0], df_dict, kinds)\n",
    "    make_daily_graphs(figs[1], df_dict, new_kinds)\n",
    "    make_weekly_graphs(figs[2], df_dict, new_kinds)\n",
    "    return figs"
   ]
  },
  {
   "cell_type": "markdown",
   "metadata": {},
   "source": [
    "Let's choose one area to make the three graphs."
   ]
  },
  {
   "cell_type": "code",
   "execution_count": 35,
   "metadata": {},
   "outputs": [],
   "source": [
    "figs = create_graphs('world', 'Nigeria')"
   ]
  },
  {
   "cell_type": "markdown",
   "metadata": {},
   "source": [
    "Here are the cumulative line graphs for cases in deaths as a plotly figure. This is independent of dash at this point."
   ]
  },
  {
   "cell_type": "code",
   "execution_count": 40,
   "metadata": {
    "scrolled": true
   },
   "outputs": [
    {
     "data": {
      "application/vnd.plotly.v1+json": {
       "config": {
        "plotlyServerURL": "https://plot.ly"
       },
       "data": [
        {
         "line": {
          "color": "#4C78A8"
         },
         "mode": "lines+markers",
         "name": "actual",
         "showlegend": true,
         "type": "scatter",
         "x": [
          "2020-01-22T00:00:00",
          "2020-01-23T00:00:00",
          "2020-01-24T00:00:00",
          "2020-01-25T00:00:00",
          "2020-01-26T00:00:00",
          "2020-01-27T00:00:00",
          "2020-01-28T00:00:00",
          "2020-01-29T00:00:00",
          "2020-01-30T00:00:00",
          "2020-01-31T00:00:00",
          "2020-02-01T00:00:00",
          "2020-02-02T00:00:00",
          "2020-02-03T00:00:00",
          "2020-02-04T00:00:00",
          "2020-02-05T00:00:00",
          "2020-02-06T00:00:00",
          "2020-02-07T00:00:00",
          "2020-02-08T00:00:00",
          "2020-02-09T00:00:00",
          "2020-02-10T00:00:00",
          "2020-02-11T00:00:00",
          "2020-02-12T00:00:00",
          "2020-02-13T00:00:00",
          "2020-02-14T00:00:00",
          "2020-02-15T00:00:00",
          "2020-02-16T00:00:00",
          "2020-02-17T00:00:00",
          "2020-02-18T00:00:00",
          "2020-02-19T00:00:00",
          "2020-02-20T00:00:00",
          "2020-02-21T00:00:00",
          "2020-02-22T00:00:00",
          "2020-02-23T00:00:00",
          "2020-02-24T00:00:00",
          "2020-02-25T00:00:00",
          "2020-02-26T00:00:00",
          "2020-02-27T00:00:00",
          "2020-02-28T00:00:00",
          "2020-02-29T00:00:00",
          "2020-03-01T00:00:00",
          "2020-03-02T00:00:00",
          "2020-03-03T00:00:00",
          "2020-03-04T00:00:00",
          "2020-03-05T00:00:00",
          "2020-03-06T00:00:00",
          "2020-03-07T00:00:00",
          "2020-03-08T00:00:00",
          "2020-03-09T00:00:00",
          "2020-03-10T00:00:00",
          "2020-03-11T00:00:00",
          "2020-03-12T00:00:00",
          "2020-03-13T00:00:00",
          "2020-03-14T00:00:00",
          "2020-03-15T00:00:00",
          "2020-03-16T00:00:00",
          "2020-03-17T00:00:00",
          "2020-03-18T00:00:00",
          "2020-03-19T00:00:00",
          "2020-03-20T00:00:00",
          "2020-03-21T00:00:00",
          "2020-03-22T00:00:00",
          "2020-03-23T00:00:00",
          "2020-03-24T00:00:00",
          "2020-03-25T00:00:00",
          "2020-03-26T00:00:00",
          "2020-03-27T00:00:00",
          "2020-03-28T00:00:00",
          "2020-03-29T00:00:00",
          "2020-03-30T00:00:00",
          "2020-03-31T00:00:00",
          "2020-04-01T00:00:00",
          "2020-04-02T00:00:00",
          "2020-04-03T00:00:00",
          "2020-04-04T00:00:00",
          "2020-04-05T00:00:00",
          "2020-04-06T00:00:00",
          "2020-04-07T00:00:00",
          "2020-04-08T00:00:00",
          "2020-04-09T00:00:00",
          "2020-04-10T00:00:00",
          "2020-04-11T00:00:00",
          "2020-04-12T00:00:00",
          "2020-04-13T00:00:00",
          "2020-04-14T00:00:00",
          "2020-04-15T00:00:00",
          "2020-04-16T00:00:00",
          "2020-04-17T00:00:00",
          "2020-04-18T00:00:00",
          "2020-04-19T00:00:00",
          "2020-04-20T00:00:00",
          "2020-04-21T00:00:00",
          "2020-04-22T00:00:00",
          "2020-04-23T00:00:00",
          "2020-04-24T00:00:00",
          "2020-04-25T00:00:00",
          "2020-04-26T00:00:00",
          "2020-04-27T00:00:00",
          "2020-04-28T00:00:00",
          "2020-04-29T00:00:00",
          "2020-04-30T00:00:00",
          "2020-05-01T00:00:00",
          "2020-05-02T00:00:00",
          "2020-05-03T00:00:00",
          "2020-05-04T00:00:00",
          "2020-05-05T00:00:00",
          "2020-05-06T00:00:00",
          "2020-05-07T00:00:00",
          "2020-05-08T00:00:00",
          "2020-05-09T00:00:00",
          "2020-05-10T00:00:00",
          "2020-05-11T00:00:00",
          "2020-05-12T00:00:00",
          "2020-05-13T00:00:00",
          "2020-05-14T00:00:00",
          "2020-05-15T00:00:00",
          "2020-05-16T00:00:00",
          "2020-05-17T00:00:00",
          "2020-05-18T00:00:00",
          "2020-05-19T00:00:00",
          "2020-05-20T00:00:00",
          "2020-05-21T00:00:00",
          "2020-05-22T00:00:00",
          "2020-05-23T00:00:00",
          "2020-05-24T00:00:00",
          "2020-05-25T00:00:00",
          "2020-05-26T00:00:00",
          "2020-05-27T00:00:00",
          "2020-05-28T00:00:00",
          "2020-05-29T00:00:00",
          "2020-05-30T00:00:00",
          "2020-05-31T00:00:00",
          "2020-06-01T00:00:00",
          "2020-06-02T00:00:00",
          "2020-06-03T00:00:00",
          "2020-06-04T00:00:00",
          "2020-06-05T00:00:00",
          "2020-06-06T00:00:00",
          "2020-06-07T00:00:00",
          "2020-06-08T00:00:00",
          "2020-06-09T00:00:00",
          "2020-06-10T00:00:00",
          "2020-06-11T00:00:00",
          "2020-06-12T00:00:00",
          "2020-06-13T00:00:00",
          "2020-06-14T00:00:00",
          "2020-06-15T00:00:00",
          "2020-06-16T00:00:00",
          "2020-06-17T00:00:00",
          "2020-06-18T00:00:00",
          "2020-06-19T00:00:00",
          "2020-06-20T00:00:00",
          "2020-06-21T00:00:00",
          "2020-06-22T00:00:00",
          "2020-06-23T00:00:00",
          "2020-06-24T00:00:00",
          "2020-06-25T00:00:00",
          "2020-06-26T00:00:00",
          "2020-06-27T00:00:00",
          "2020-06-28T00:00:00",
          "2020-06-29T00:00:00",
          "2020-06-30T00:00:00",
          "2020-07-01T00:00:00",
          "2020-07-02T00:00:00",
          "2020-07-03T00:00:00",
          "2020-07-04T00:00:00",
          "2020-07-05T00:00:00",
          "2020-07-06T00:00:00",
          "2020-07-07T00:00:00",
          "2020-07-08T00:00:00",
          "2020-07-09T00:00:00",
          "2020-07-10T00:00:00",
          "2020-07-11T00:00:00",
          "2020-07-12T00:00:00",
          "2020-07-13T00:00:00",
          "2020-07-14T00:00:00",
          "2020-07-15T00:00:00",
          "2020-07-16T00:00:00",
          "2020-07-17T00:00:00",
          "2020-07-18T00:00:00",
          "2020-07-19T00:00:00",
          "2020-07-20T00:00:00",
          "2020-07-21T00:00:00",
          "2020-07-22T00:00:00",
          "2020-07-23T00:00:00",
          "2020-07-24T00:00:00",
          "2020-07-25T00:00:00",
          "2020-07-26T00:00:00",
          "2020-07-27T00:00:00",
          "2020-07-28T00:00:00",
          "2020-07-29T00:00:00",
          "2020-07-30T00:00:00",
          "2020-07-31T00:00:00",
          "2020-08-01T00:00:00",
          "2020-08-02T00:00:00",
          "2020-08-03T00:00:00",
          "2020-08-04T00:00:00",
          "2020-08-05T00:00:00",
          "2020-08-06T00:00:00",
          "2020-08-07T00:00:00",
          "2020-08-08T00:00:00",
          "2020-08-09T00:00:00",
          "2020-08-10T00:00:00",
          "2020-08-11T00:00:00",
          "2020-08-12T00:00:00",
          "2020-08-13T00:00:00",
          "2020-08-14T00:00:00",
          "2020-08-15T00:00:00",
          "2020-08-16T00:00:00",
          "2020-08-17T00:00:00",
          "2020-08-18T00:00:00",
          "2020-08-19T00:00:00",
          "2020-08-20T00:00:00",
          "2020-08-21T00:00:00",
          "2020-08-22T00:00:00",
          "2020-08-23T00:00:00",
          "2020-08-24T00:00:00",
          "2020-08-25T00:00:00",
          "2020-08-26T00:00:00",
          "2020-08-27T00:00:00",
          "2020-08-28T00:00:00",
          "2020-08-29T00:00:00",
          "2020-08-30T00:00:00",
          "2020-08-31T00:00:00",
          "2020-09-01T00:00:00",
          "2020-09-02T00:00:00",
          "2020-09-03T00:00:00",
          "2020-09-04T00:00:00",
          "2020-09-05T00:00:00",
          "2020-09-06T00:00:00",
          "2020-09-07T00:00:00",
          "2020-09-08T00:00:00",
          "2020-09-09T00:00:00",
          "2020-09-10T00:00:00",
          "2020-09-11T00:00:00",
          "2020-09-12T00:00:00",
          "2020-09-13T00:00:00",
          "2020-09-14T00:00:00",
          "2020-09-15T00:00:00",
          "2020-09-16T00:00:00",
          "2020-09-17T00:00:00",
          "2020-09-18T00:00:00",
          "2020-09-19T00:00:00",
          "2020-09-20T00:00:00",
          "2020-09-21T00:00:00",
          "2020-09-22T00:00:00",
          "2020-09-23T00:00:00",
          "2020-09-24T00:00:00",
          "2020-09-25T00:00:00",
          "2020-09-26T00:00:00",
          "2020-09-27T00:00:00",
          "2020-09-28T00:00:00",
          "2020-09-29T00:00:00",
          "2020-09-30T00:00:00",
          "2020-10-01T00:00:00",
          "2020-10-02T00:00:00",
          "2020-10-03T00:00:00",
          "2020-10-04T00:00:00",
          "2020-10-05T00:00:00",
          "2020-10-06T00:00:00",
          "2020-10-07T00:00:00",
          "2020-10-08T00:00:00",
          "2020-10-09T00:00:00",
          "2020-10-10T00:00:00",
          "2020-10-11T00:00:00",
          "2020-10-12T00:00:00",
          "2020-10-13T00:00:00",
          "2020-10-14T00:00:00",
          "2020-10-15T00:00:00",
          "2020-10-16T00:00:00",
          "2020-10-17T00:00:00",
          "2020-10-18T00:00:00",
          "2020-10-19T00:00:00",
          "2020-10-20T00:00:00",
          "2020-10-21T00:00:00",
          "2020-10-22T00:00:00",
          "2020-10-23T00:00:00",
          "2020-10-24T00:00:00",
          "2020-10-25T00:00:00",
          "2020-10-26T00:00:00",
          "2020-10-27T00:00:00",
          "2020-10-28T00:00:00",
          "2020-10-29T00:00:00",
          "2020-10-30T00:00:00",
          "2020-10-31T00:00:00",
          "2020-11-01T00:00:00",
          "2020-11-02T00:00:00",
          "2020-11-03T00:00:00",
          "2020-11-04T00:00:00",
          "2020-11-05T00:00:00"
         ],
         "xaxis": "x",
         "y": [
          0,
          0,
          0,
          0,
          0,
          0,
          0,
          0,
          0,
          0,
          0,
          0,
          0,
          0,
          0,
          0,
          0,
          0,
          0,
          0,
          0,
          0,
          0,
          0,
          0,
          0,
          0,
          0,
          0,
          0,
          0,
          0,
          0,
          0,
          0,
          0,
          0,
          0,
          0,
          0,
          0,
          0,
          0,
          0,
          0,
          0,
          0,
          0,
          0,
          0,
          0,
          0,
          0,
          0,
          0,
          0,
          0,
          0,
          0,
          0,
          0,
          1,
          1,
          1,
          1,
          1,
          1,
          1,
          2,
          2,
          2,
          2,
          4,
          4,
          5,
          5,
          6,
          6,
          7,
          7,
          10,
          10,
          10,
          11,
          12,
          13,
          17,
          19,
          21,
          22,
          22,
          28,
          31,
          32,
          35,
          40,
          40,
          44,
          51,
          58,
          68,
          85,
          87,
          93,
          98,
          103,
          107,
          117,
          128,
          143,
          150,
          158,
          164,
          167,
          171,
          176,
          182,
          191,
          192,
          200,
          211,
          221,
          221,
          226,
          233,
          249,
          254,
          259,
          261,
          273,
          287,
          299,
          314,
          315,
          323,
          333,
          342,
          354,
          361,
          365,
          382,
          387,
          399,
          407,
          420,
          424,
          455,
          469,
          475,
          487,
          506,
          518,
          525,
          533,
          542,
          549,
          554,
          558,
          565,
          573,
          590,
          603,
          616,
          628,
          634,
          645,
          654,
          669,
          684,
          689,
          709,
          724,
          740,
          744,
          754,
          760,
          769,
          772,
          778,
          789,
          801,
          805,
          813,
          833,
          845,
          856,
          858,
          860,
          868,
          873,
          878,
          879,
          883,
          888,
          896,
          910,
          927,
          930,
          936,
          942,
          945,
          950,
          956,
          956,
          966,
          973,
          974,
          975,
          977,
          981,
          985,
          992,
          996,
          997,
          1002,
          1004,
          1007,
          1010,
          1011,
          1011,
          1011,
          1013,
          1013,
          1023,
          1027,
          1048,
          1051,
          1054,
          1057,
          1061,
          1067,
          1070,
          1075,
          1076,
          1078,
          1082,
          1083,
          1088,
          1091,
          1093,
          1094,
          1095,
          1098,
          1100,
          1100,
          1102,
          1102,
          1103,
          1106,
          1108,
          1111,
          1111,
          1112,
          1112,
          1112,
          1113,
          1113,
          1113,
          1113,
          1113,
          1113,
          1113,
          1115,
          1115,
          1115,
          1116,
          1116,
          1116,
          1119,
          1123,
          1125,
          1125,
          1125,
          1125,
          1127,
          1129,
          1129,
          1130,
          1132,
          1135,
          1139,
          1141,
          1144,
          1144,
          1146,
          1147,
          1151,
          1155,
          1155
         ],
         "yaxis": "y"
        },
        {
         "line": {
          "color": "#F58518"
         },
         "mode": "lines+markers",
         "name": "prediction",
         "showlegend": true,
         "type": "scatter",
         "x": [
          "2020-11-06T00:00:00",
          "2020-11-07T00:00:00",
          "2020-11-08T00:00:00",
          "2020-11-09T00:00:00",
          "2020-11-10T00:00:00",
          "2020-11-11T00:00:00",
          "2020-11-12T00:00:00",
          "2020-11-13T00:00:00",
          "2020-11-14T00:00:00",
          "2020-11-15T00:00:00",
          "2020-11-16T00:00:00",
          "2020-11-17T00:00:00",
          "2020-11-18T00:00:00",
          "2020-11-19T00:00:00",
          "2020-11-20T00:00:00",
          "2020-11-21T00:00:00",
          "2020-11-22T00:00:00",
          "2020-11-23T00:00:00",
          "2020-11-24T00:00:00",
          "2020-11-25T00:00:00",
          "2020-11-26T00:00:00",
          "2020-11-27T00:00:00",
          "2020-11-28T00:00:00",
          "2020-11-29T00:00:00",
          "2020-11-30T00:00:00",
          "2020-12-01T00:00:00",
          "2020-12-02T00:00:00",
          "2020-12-03T00:00:00",
          "2020-12-04T00:00:00",
          "2020-12-05T00:00:00"
         ],
         "xaxis": "x",
         "y": [
          1156,
          1157,
          1158,
          1159,
          1160,
          1161,
          1162,
          1163,
          1164,
          1165,
          1166,
          1167,
          1168,
          1169,
          1170,
          1171,
          1172,
          1173,
          1174,
          1175,
          1176,
          1177,
          1178,
          1179,
          1180,
          1181,
          1182,
          1183,
          1184,
          1185
         ],
         "yaxis": "y"
        },
        {
         "line": {
          "color": "#4C78A8"
         },
         "mode": "lines+markers",
         "name": "actual",
         "showlegend": false,
         "type": "scatter",
         "x": [
          "2020-01-22T00:00:00",
          "2020-01-23T00:00:00",
          "2020-01-24T00:00:00",
          "2020-01-25T00:00:00",
          "2020-01-26T00:00:00",
          "2020-01-27T00:00:00",
          "2020-01-28T00:00:00",
          "2020-01-29T00:00:00",
          "2020-01-30T00:00:00",
          "2020-01-31T00:00:00",
          "2020-02-01T00:00:00",
          "2020-02-02T00:00:00",
          "2020-02-03T00:00:00",
          "2020-02-04T00:00:00",
          "2020-02-05T00:00:00",
          "2020-02-06T00:00:00",
          "2020-02-07T00:00:00",
          "2020-02-08T00:00:00",
          "2020-02-09T00:00:00",
          "2020-02-10T00:00:00",
          "2020-02-11T00:00:00",
          "2020-02-12T00:00:00",
          "2020-02-13T00:00:00",
          "2020-02-14T00:00:00",
          "2020-02-15T00:00:00",
          "2020-02-16T00:00:00",
          "2020-02-17T00:00:00",
          "2020-02-18T00:00:00",
          "2020-02-19T00:00:00",
          "2020-02-20T00:00:00",
          "2020-02-21T00:00:00",
          "2020-02-22T00:00:00",
          "2020-02-23T00:00:00",
          "2020-02-24T00:00:00",
          "2020-02-25T00:00:00",
          "2020-02-26T00:00:00",
          "2020-02-27T00:00:00",
          "2020-02-28T00:00:00",
          "2020-02-29T00:00:00",
          "2020-03-01T00:00:00",
          "2020-03-02T00:00:00",
          "2020-03-03T00:00:00",
          "2020-03-04T00:00:00",
          "2020-03-05T00:00:00",
          "2020-03-06T00:00:00",
          "2020-03-07T00:00:00",
          "2020-03-08T00:00:00",
          "2020-03-09T00:00:00",
          "2020-03-10T00:00:00",
          "2020-03-11T00:00:00",
          "2020-03-12T00:00:00",
          "2020-03-13T00:00:00",
          "2020-03-14T00:00:00",
          "2020-03-15T00:00:00",
          "2020-03-16T00:00:00",
          "2020-03-17T00:00:00",
          "2020-03-18T00:00:00",
          "2020-03-19T00:00:00",
          "2020-03-20T00:00:00",
          "2020-03-21T00:00:00",
          "2020-03-22T00:00:00",
          "2020-03-23T00:00:00",
          "2020-03-24T00:00:00",
          "2020-03-25T00:00:00",
          "2020-03-26T00:00:00",
          "2020-03-27T00:00:00",
          "2020-03-28T00:00:00",
          "2020-03-29T00:00:00",
          "2020-03-30T00:00:00",
          "2020-03-31T00:00:00",
          "2020-04-01T00:00:00",
          "2020-04-02T00:00:00",
          "2020-04-03T00:00:00",
          "2020-04-04T00:00:00",
          "2020-04-05T00:00:00",
          "2020-04-06T00:00:00",
          "2020-04-07T00:00:00",
          "2020-04-08T00:00:00",
          "2020-04-09T00:00:00",
          "2020-04-10T00:00:00",
          "2020-04-11T00:00:00",
          "2020-04-12T00:00:00",
          "2020-04-13T00:00:00",
          "2020-04-14T00:00:00",
          "2020-04-15T00:00:00",
          "2020-04-16T00:00:00",
          "2020-04-17T00:00:00",
          "2020-04-18T00:00:00",
          "2020-04-19T00:00:00",
          "2020-04-20T00:00:00",
          "2020-04-21T00:00:00",
          "2020-04-22T00:00:00",
          "2020-04-23T00:00:00",
          "2020-04-24T00:00:00",
          "2020-04-25T00:00:00",
          "2020-04-26T00:00:00",
          "2020-04-27T00:00:00",
          "2020-04-28T00:00:00",
          "2020-04-29T00:00:00",
          "2020-04-30T00:00:00",
          "2020-05-01T00:00:00",
          "2020-05-02T00:00:00",
          "2020-05-03T00:00:00",
          "2020-05-04T00:00:00",
          "2020-05-05T00:00:00",
          "2020-05-06T00:00:00",
          "2020-05-07T00:00:00",
          "2020-05-08T00:00:00",
          "2020-05-09T00:00:00",
          "2020-05-10T00:00:00",
          "2020-05-11T00:00:00",
          "2020-05-12T00:00:00",
          "2020-05-13T00:00:00",
          "2020-05-14T00:00:00",
          "2020-05-15T00:00:00",
          "2020-05-16T00:00:00",
          "2020-05-17T00:00:00",
          "2020-05-18T00:00:00",
          "2020-05-19T00:00:00",
          "2020-05-20T00:00:00",
          "2020-05-21T00:00:00",
          "2020-05-22T00:00:00",
          "2020-05-23T00:00:00",
          "2020-05-24T00:00:00",
          "2020-05-25T00:00:00",
          "2020-05-26T00:00:00",
          "2020-05-27T00:00:00",
          "2020-05-28T00:00:00",
          "2020-05-29T00:00:00",
          "2020-05-30T00:00:00",
          "2020-05-31T00:00:00",
          "2020-06-01T00:00:00",
          "2020-06-02T00:00:00",
          "2020-06-03T00:00:00",
          "2020-06-04T00:00:00",
          "2020-06-05T00:00:00",
          "2020-06-06T00:00:00",
          "2020-06-07T00:00:00",
          "2020-06-08T00:00:00",
          "2020-06-09T00:00:00",
          "2020-06-10T00:00:00",
          "2020-06-11T00:00:00",
          "2020-06-12T00:00:00",
          "2020-06-13T00:00:00",
          "2020-06-14T00:00:00",
          "2020-06-15T00:00:00",
          "2020-06-16T00:00:00",
          "2020-06-17T00:00:00",
          "2020-06-18T00:00:00",
          "2020-06-19T00:00:00",
          "2020-06-20T00:00:00",
          "2020-06-21T00:00:00",
          "2020-06-22T00:00:00",
          "2020-06-23T00:00:00",
          "2020-06-24T00:00:00",
          "2020-06-25T00:00:00",
          "2020-06-26T00:00:00",
          "2020-06-27T00:00:00",
          "2020-06-28T00:00:00",
          "2020-06-29T00:00:00",
          "2020-06-30T00:00:00",
          "2020-07-01T00:00:00",
          "2020-07-02T00:00:00",
          "2020-07-03T00:00:00",
          "2020-07-04T00:00:00",
          "2020-07-05T00:00:00",
          "2020-07-06T00:00:00",
          "2020-07-07T00:00:00",
          "2020-07-08T00:00:00",
          "2020-07-09T00:00:00",
          "2020-07-10T00:00:00",
          "2020-07-11T00:00:00",
          "2020-07-12T00:00:00",
          "2020-07-13T00:00:00",
          "2020-07-14T00:00:00",
          "2020-07-15T00:00:00",
          "2020-07-16T00:00:00",
          "2020-07-17T00:00:00",
          "2020-07-18T00:00:00",
          "2020-07-19T00:00:00",
          "2020-07-20T00:00:00",
          "2020-07-21T00:00:00",
          "2020-07-22T00:00:00",
          "2020-07-23T00:00:00",
          "2020-07-24T00:00:00",
          "2020-07-25T00:00:00",
          "2020-07-26T00:00:00",
          "2020-07-27T00:00:00",
          "2020-07-28T00:00:00",
          "2020-07-29T00:00:00",
          "2020-07-30T00:00:00",
          "2020-07-31T00:00:00",
          "2020-08-01T00:00:00",
          "2020-08-02T00:00:00",
          "2020-08-03T00:00:00",
          "2020-08-04T00:00:00",
          "2020-08-05T00:00:00",
          "2020-08-06T00:00:00",
          "2020-08-07T00:00:00",
          "2020-08-08T00:00:00",
          "2020-08-09T00:00:00",
          "2020-08-10T00:00:00",
          "2020-08-11T00:00:00",
          "2020-08-12T00:00:00",
          "2020-08-13T00:00:00",
          "2020-08-14T00:00:00",
          "2020-08-15T00:00:00",
          "2020-08-16T00:00:00",
          "2020-08-17T00:00:00",
          "2020-08-18T00:00:00",
          "2020-08-19T00:00:00",
          "2020-08-20T00:00:00",
          "2020-08-21T00:00:00",
          "2020-08-22T00:00:00",
          "2020-08-23T00:00:00",
          "2020-08-24T00:00:00",
          "2020-08-25T00:00:00",
          "2020-08-26T00:00:00",
          "2020-08-27T00:00:00",
          "2020-08-28T00:00:00",
          "2020-08-29T00:00:00",
          "2020-08-30T00:00:00",
          "2020-08-31T00:00:00",
          "2020-09-01T00:00:00",
          "2020-09-02T00:00:00",
          "2020-09-03T00:00:00",
          "2020-09-04T00:00:00",
          "2020-09-05T00:00:00",
          "2020-09-06T00:00:00",
          "2020-09-07T00:00:00",
          "2020-09-08T00:00:00",
          "2020-09-09T00:00:00",
          "2020-09-10T00:00:00",
          "2020-09-11T00:00:00",
          "2020-09-12T00:00:00",
          "2020-09-13T00:00:00",
          "2020-09-14T00:00:00",
          "2020-09-15T00:00:00",
          "2020-09-16T00:00:00",
          "2020-09-17T00:00:00",
          "2020-09-18T00:00:00",
          "2020-09-19T00:00:00",
          "2020-09-20T00:00:00",
          "2020-09-21T00:00:00",
          "2020-09-22T00:00:00",
          "2020-09-23T00:00:00",
          "2020-09-24T00:00:00",
          "2020-09-25T00:00:00",
          "2020-09-26T00:00:00",
          "2020-09-27T00:00:00",
          "2020-09-28T00:00:00",
          "2020-09-29T00:00:00",
          "2020-09-30T00:00:00",
          "2020-10-01T00:00:00",
          "2020-10-02T00:00:00",
          "2020-10-03T00:00:00",
          "2020-10-04T00:00:00",
          "2020-10-05T00:00:00",
          "2020-10-06T00:00:00",
          "2020-10-07T00:00:00",
          "2020-10-08T00:00:00",
          "2020-10-09T00:00:00",
          "2020-10-10T00:00:00",
          "2020-10-11T00:00:00",
          "2020-10-12T00:00:00",
          "2020-10-13T00:00:00",
          "2020-10-14T00:00:00",
          "2020-10-15T00:00:00",
          "2020-10-16T00:00:00",
          "2020-10-17T00:00:00",
          "2020-10-18T00:00:00",
          "2020-10-19T00:00:00",
          "2020-10-20T00:00:00",
          "2020-10-21T00:00:00",
          "2020-10-22T00:00:00",
          "2020-10-23T00:00:00",
          "2020-10-24T00:00:00",
          "2020-10-25T00:00:00",
          "2020-10-26T00:00:00",
          "2020-10-27T00:00:00",
          "2020-10-28T00:00:00",
          "2020-10-29T00:00:00",
          "2020-10-30T00:00:00",
          "2020-10-31T00:00:00",
          "2020-11-01T00:00:00",
          "2020-11-02T00:00:00",
          "2020-11-03T00:00:00",
          "2020-11-04T00:00:00",
          "2020-11-05T00:00:00"
         ],
         "xaxis": "x2",
         "y": [
          0,
          0,
          0,
          0,
          0,
          0,
          0,
          0,
          0,
          0,
          0,
          0,
          0,
          0,
          0,
          0,
          0,
          0,
          0,
          0,
          0,
          0,
          0,
          0,
          0,
          0,
          0,
          0,
          0,
          0,
          0,
          0,
          0,
          0,
          0,
          0,
          0,
          1,
          1,
          1,
          1,
          1,
          1,
          1,
          1,
          1,
          1,
          2,
          2,
          2,
          2,
          2,
          2,
          2,
          2,
          3,
          8,
          8,
          12,
          22,
          30,
          40,
          44,
          51,
          65,
          70,
          89,
          111,
          131,
          135,
          174,
          184,
          210,
          214,
          232,
          238,
          254,
          276,
          288,
          305,
          318,
          323,
          343,
          373,
          407,
          442,
          493,
          542,
          627,
          665,
          665,
          873,
          981,
          1095,
          1182,
          1273,
          1337,
          1532,
          1728,
          1932,
          2170,
          2388,
          2558,
          2802,
          2950,
          3145,
          3526,
          3912,
          4151,
          4399,
          4641,
          4787,
          4971,
          5162,
          5450,
          5621,
          5959,
          6175,
          6401,
          6677,
          7016,
          7261,
          7526,
          7839,
          8068,
          8344,
          8733,
          8915,
          9302,
          9855,
          10162,
          10578,
          10819,
          11166,
          11516,
          11844,
          12233,
          12486,
          12801,
          13464,
          13873,
          14554,
          15181,
          15682,
          16085,
          16658,
          17148,
          17735,
          18480,
          19147,
          19808,
          20244,
          20919,
          21371,
          22020,
          22614,
          23298,
          24077,
          24567,
          25133,
          25694,
          26484,
          27110,
          27564,
          28167,
          28711,
          29286,
          29789,
          30249,
          30748,
          31323,
          31987,
          32558,
          33153,
          33616,
          34259,
          34854,
          35454,
          36107,
          36663,
          37225,
          37801,
          38344,
          38948,
          39539,
          39977,
          40532,
          41180,
          41804,
          42208,
          42689,
          43151,
          43537,
          43841,
          44129,
          44433,
          44890,
          45244,
          45687,
          46140,
          46577,
          46867,
          47290,
          47743,
          48116,
          48445,
          48770,
          49068,
          49485,
          49895,
          50488,
          50964,
          51304,
          51905,
          52227,
          52548,
          52800,
          53021,
          53317,
          53477,
          53727,
          53865,
          54008,
          54247,
          54463,
          54588,
          54743,
          54905,
          55005,
          55160,
          55456,
          55632,
          55829,
          56017,
          56177,
          56256,
          56388,
          56478,
          56604,
          56735,
          56956,
          57145,
          57242,
          57437,
          57613,
          57724,
          57849,
          58062,
          58198,
          58324,
          58460,
          58647,
          58848,
          59001,
          59127,
          59287,
          59345,
          59465,
          59583,
          59738,
          59841,
          59992,
          60103,
          60266,
          60430,
          60655,
          60834,
          60982,
          61194,
          61307,
          61440,
          61558,
          61630,
          61667,
          61805,
          61882,
          61930,
          61992,
          62111,
          62224,
          62371,
          62521,
          62691,
          62853,
          62964,
          63036,
          63173,
          63328,
          63508
         ],
         "yaxis": "y2"
        },
        {
         "line": {
          "color": "#F58518"
         },
         "mode": "lines+markers",
         "name": "prediction",
         "showlegend": false,
         "type": "scatter",
         "x": [
          "2020-11-06T00:00:00",
          "2020-11-07T00:00:00",
          "2020-11-08T00:00:00",
          "2020-11-09T00:00:00",
          "2020-11-10T00:00:00",
          "2020-11-11T00:00:00",
          "2020-11-12T00:00:00",
          "2020-11-13T00:00:00",
          "2020-11-14T00:00:00",
          "2020-11-15T00:00:00",
          "2020-11-16T00:00:00",
          "2020-11-17T00:00:00",
          "2020-11-18T00:00:00",
          "2020-11-19T00:00:00",
          "2020-11-20T00:00:00",
          "2020-11-21T00:00:00",
          "2020-11-22T00:00:00",
          "2020-11-23T00:00:00",
          "2020-11-24T00:00:00",
          "2020-11-25T00:00:00",
          "2020-11-26T00:00:00",
          "2020-11-27T00:00:00",
          "2020-11-28T00:00:00",
          "2020-11-29T00:00:00",
          "2020-11-30T00:00:00",
          "2020-12-01T00:00:00",
          "2020-12-02T00:00:00",
          "2020-12-03T00:00:00",
          "2020-12-04T00:00:00",
          "2020-12-05T00:00:00"
         ],
         "xaxis": "x2",
         "y": [
          63616,
          63723,
          63828,
          63932,
          64035,
          64136,
          64236,
          64335,
          64432,
          64528,
          64623,
          64717,
          64809,
          64900,
          64990,
          65078,
          65165,
          65251,
          65336,
          65419,
          65501,
          65582,
          65662,
          65740,
          65817,
          65893,
          65968,
          66042,
          66114,
          66185
         ],
         "yaxis": "y2"
        }
       ],
       "layout": {
        "annotations": [
         {
          "font": {
           "size": 18
          },
          "showarrow": false,
          "text": "<b>Deaths</b>",
          "x": 0.1,
          "xanchor": "left",
          "xref": "paper",
          "y": 0.95,
          "yref": "paper"
         },
         {
          "font": {
           "size": 18
          },
          "showarrow": false,
          "text": "<b>Cases</b>",
          "x": 0.1,
          "xanchor": "left",
          "xref": "paper",
          "y": 0.3,
          "yref": "paper"
         }
        ],
        "legend": {
         "font": {
          "size": 15
         },
         "orientation": "h",
         "x": 0.5,
         "xanchor": "center",
         "y": -0.05
        },
        "margin": {
         "b": 0,
         "l": 50,
         "r": 10,
         "t": 40
        },
        "template": {
         "data": {
          "bar": [
           {
            "error_x": {
             "color": "#2a3f5f"
            },
            "error_y": {
             "color": "#2a3f5f"
            },
            "marker": {
             "line": {
              "color": "#E5ECF6",
              "width": 0.5
             },
             "pattern": {
              "fillmode": "overlay",
              "size": 10,
              "solidity": 0.2
             }
            },
            "type": "bar"
           }
          ],
          "barpolar": [
           {
            "marker": {
             "line": {
              "color": "#E5ECF6",
              "width": 0.5
             },
             "pattern": {
              "fillmode": "overlay",
              "size": 10,
              "solidity": 0.2
             }
            },
            "type": "barpolar"
           }
          ],
          "carpet": [
           {
            "aaxis": {
             "endlinecolor": "#2a3f5f",
             "gridcolor": "white",
             "linecolor": "white",
             "minorgridcolor": "white",
             "startlinecolor": "#2a3f5f"
            },
            "baxis": {
             "endlinecolor": "#2a3f5f",
             "gridcolor": "white",
             "linecolor": "white",
             "minorgridcolor": "white",
             "startlinecolor": "#2a3f5f"
            },
            "type": "carpet"
           }
          ],
          "choropleth": [
           {
            "colorbar": {
             "outlinewidth": 0,
             "ticks": ""
            },
            "type": "choropleth"
           }
          ],
          "contour": [
           {
            "colorbar": {
             "outlinewidth": 0,
             "ticks": ""
            },
            "colorscale": [
             [
              0,
              "#0d0887"
             ],
             [
              0.1111111111111111,
              "#46039f"
             ],
             [
              0.2222222222222222,
              "#7201a8"
             ],
             [
              0.3333333333333333,
              "#9c179e"
             ],
             [
              0.4444444444444444,
              "#bd3786"
             ],
             [
              0.5555555555555556,
              "#d8576b"
             ],
             [
              0.6666666666666666,
              "#ed7953"
             ],
             [
              0.7777777777777778,
              "#fb9f3a"
             ],
             [
              0.8888888888888888,
              "#fdca26"
             ],
             [
              1,
              "#f0f921"
             ]
            ],
            "type": "contour"
           }
          ],
          "contourcarpet": [
           {
            "colorbar": {
             "outlinewidth": 0,
             "ticks": ""
            },
            "type": "contourcarpet"
           }
          ],
          "heatmap": [
           {
            "colorbar": {
             "outlinewidth": 0,
             "ticks": ""
            },
            "colorscale": [
             [
              0,
              "#0d0887"
             ],
             [
              0.1111111111111111,
              "#46039f"
             ],
             [
              0.2222222222222222,
              "#7201a8"
             ],
             [
              0.3333333333333333,
              "#9c179e"
             ],
             [
              0.4444444444444444,
              "#bd3786"
             ],
             [
              0.5555555555555556,
              "#d8576b"
             ],
             [
              0.6666666666666666,
              "#ed7953"
             ],
             [
              0.7777777777777778,
              "#fb9f3a"
             ],
             [
              0.8888888888888888,
              "#fdca26"
             ],
             [
              1,
              "#f0f921"
             ]
            ],
            "type": "heatmap"
           }
          ],
          "heatmapgl": [
           {
            "colorbar": {
             "outlinewidth": 0,
             "ticks": ""
            },
            "colorscale": [
             [
              0,
              "#0d0887"
             ],
             [
              0.1111111111111111,
              "#46039f"
             ],
             [
              0.2222222222222222,
              "#7201a8"
             ],
             [
              0.3333333333333333,
              "#9c179e"
             ],
             [
              0.4444444444444444,
              "#bd3786"
             ],
             [
              0.5555555555555556,
              "#d8576b"
             ],
             [
              0.6666666666666666,
              "#ed7953"
             ],
             [
              0.7777777777777778,
              "#fb9f3a"
             ],
             [
              0.8888888888888888,
              "#fdca26"
             ],
             [
              1,
              "#f0f921"
             ]
            ],
            "type": "heatmapgl"
           }
          ],
          "histogram": [
           {
            "marker": {
             "pattern": {
              "fillmode": "overlay",
              "size": 10,
              "solidity": 0.2
             }
            },
            "type": "histogram"
           }
          ],
          "histogram2d": [
           {
            "colorbar": {
             "outlinewidth": 0,
             "ticks": ""
            },
            "colorscale": [
             [
              0,
              "#0d0887"
             ],
             [
              0.1111111111111111,
              "#46039f"
             ],
             [
              0.2222222222222222,
              "#7201a8"
             ],
             [
              0.3333333333333333,
              "#9c179e"
             ],
             [
              0.4444444444444444,
              "#bd3786"
             ],
             [
              0.5555555555555556,
              "#d8576b"
             ],
             [
              0.6666666666666666,
              "#ed7953"
             ],
             [
              0.7777777777777778,
              "#fb9f3a"
             ],
             [
              0.8888888888888888,
              "#fdca26"
             ],
             [
              1,
              "#f0f921"
             ]
            ],
            "type": "histogram2d"
           }
          ],
          "histogram2dcontour": [
           {
            "colorbar": {
             "outlinewidth": 0,
             "ticks": ""
            },
            "colorscale": [
             [
              0,
              "#0d0887"
             ],
             [
              0.1111111111111111,
              "#46039f"
             ],
             [
              0.2222222222222222,
              "#7201a8"
             ],
             [
              0.3333333333333333,
              "#9c179e"
             ],
             [
              0.4444444444444444,
              "#bd3786"
             ],
             [
              0.5555555555555556,
              "#d8576b"
             ],
             [
              0.6666666666666666,
              "#ed7953"
             ],
             [
              0.7777777777777778,
              "#fb9f3a"
             ],
             [
              0.8888888888888888,
              "#fdca26"
             ],
             [
              1,
              "#f0f921"
             ]
            ],
            "type": "histogram2dcontour"
           }
          ],
          "mesh3d": [
           {
            "colorbar": {
             "outlinewidth": 0,
             "ticks": ""
            },
            "type": "mesh3d"
           }
          ],
          "parcoords": [
           {
            "line": {
             "colorbar": {
              "outlinewidth": 0,
              "ticks": ""
             }
            },
            "type": "parcoords"
           }
          ],
          "pie": [
           {
            "automargin": true,
            "type": "pie"
           }
          ],
          "scatter": [
           {
            "fillpattern": {
             "fillmode": "overlay",
             "size": 10,
             "solidity": 0.2
            },
            "type": "scatter"
           }
          ],
          "scatter3d": [
           {
            "line": {
             "colorbar": {
              "outlinewidth": 0,
              "ticks": ""
             }
            },
            "marker": {
             "colorbar": {
              "outlinewidth": 0,
              "ticks": ""
             }
            },
            "type": "scatter3d"
           }
          ],
          "scattercarpet": [
           {
            "marker": {
             "colorbar": {
              "outlinewidth": 0,
              "ticks": ""
             }
            },
            "type": "scattercarpet"
           }
          ],
          "scattergeo": [
           {
            "marker": {
             "colorbar": {
              "outlinewidth": 0,
              "ticks": ""
             }
            },
            "type": "scattergeo"
           }
          ],
          "scattergl": [
           {
            "marker": {
             "colorbar": {
              "outlinewidth": 0,
              "ticks": ""
             }
            },
            "type": "scattergl"
           }
          ],
          "scattermapbox": [
           {
            "marker": {
             "colorbar": {
              "outlinewidth": 0,
              "ticks": ""
             }
            },
            "type": "scattermapbox"
           }
          ],
          "scatterpolar": [
           {
            "marker": {
             "colorbar": {
              "outlinewidth": 0,
              "ticks": ""
             }
            },
            "type": "scatterpolar"
           }
          ],
          "scatterpolargl": [
           {
            "marker": {
             "colorbar": {
              "outlinewidth": 0,
              "ticks": ""
             }
            },
            "type": "scatterpolargl"
           }
          ],
          "scatterternary": [
           {
            "marker": {
             "colorbar": {
              "outlinewidth": 0,
              "ticks": ""
             }
            },
            "type": "scatterternary"
           }
          ],
          "surface": [
           {
            "colorbar": {
             "outlinewidth": 0,
             "ticks": ""
            },
            "colorscale": [
             [
              0,
              "#0d0887"
             ],
             [
              0.1111111111111111,
              "#46039f"
             ],
             [
              0.2222222222222222,
              "#7201a8"
             ],
             [
              0.3333333333333333,
              "#9c179e"
             ],
             [
              0.4444444444444444,
              "#bd3786"
             ],
             [
              0.5555555555555556,
              "#d8576b"
             ],
             [
              0.6666666666666666,
              "#ed7953"
             ],
             [
              0.7777777777777778,
              "#fb9f3a"
             ],
             [
              0.8888888888888888,
              "#fdca26"
             ],
             [
              1,
              "#f0f921"
             ]
            ],
            "type": "surface"
           }
          ],
          "table": [
           {
            "cells": {
             "fill": {
              "color": "#EBF0F8"
             },
             "line": {
              "color": "white"
             }
            },
            "header": {
             "fill": {
              "color": "#C8D4E3"
             },
             "line": {
              "color": "white"
             }
            },
            "type": "table"
           }
          ]
         },
         "layout": {
          "annotationdefaults": {
           "arrowcolor": "#2a3f5f",
           "arrowhead": 0,
           "arrowwidth": 1
          },
          "autotypenumbers": "strict",
          "coloraxis": {
           "colorbar": {
            "outlinewidth": 0,
            "ticks": ""
           }
          },
          "colorscale": {
           "diverging": [
            [
             0,
             "#8e0152"
            ],
            [
             0.1,
             "#c51b7d"
            ],
            [
             0.2,
             "#de77ae"
            ],
            [
             0.3,
             "#f1b6da"
            ],
            [
             0.4,
             "#fde0ef"
            ],
            [
             0.5,
             "#f7f7f7"
            ],
            [
             0.6,
             "#e6f5d0"
            ],
            [
             0.7,
             "#b8e186"
            ],
            [
             0.8,
             "#7fbc41"
            ],
            [
             0.9,
             "#4d9221"
            ],
            [
             1,
             "#276419"
            ]
           ],
           "sequential": [
            [
             0,
             "#0d0887"
            ],
            [
             0.1111111111111111,
             "#46039f"
            ],
            [
             0.2222222222222222,
             "#7201a8"
            ],
            [
             0.3333333333333333,
             "#9c179e"
            ],
            [
             0.4444444444444444,
             "#bd3786"
            ],
            [
             0.5555555555555556,
             "#d8576b"
            ],
            [
             0.6666666666666666,
             "#ed7953"
            ],
            [
             0.7777777777777778,
             "#fb9f3a"
            ],
            [
             0.8888888888888888,
             "#fdca26"
            ],
            [
             1,
             "#f0f921"
            ]
           ],
           "sequentialminus": [
            [
             0,
             "#0d0887"
            ],
            [
             0.1111111111111111,
             "#46039f"
            ],
            [
             0.2222222222222222,
             "#7201a8"
            ],
            [
             0.3333333333333333,
             "#9c179e"
            ],
            [
             0.4444444444444444,
             "#bd3786"
            ],
            [
             0.5555555555555556,
             "#d8576b"
            ],
            [
             0.6666666666666666,
             "#ed7953"
            ],
            [
             0.7777777777777778,
             "#fb9f3a"
            ],
            [
             0.8888888888888888,
             "#fdca26"
            ],
            [
             1,
             "#f0f921"
            ]
           ]
          },
          "colorway": [
           "#636efa",
           "#EF553B",
           "#00cc96",
           "#ab63fa",
           "#FFA15A",
           "#19d3f3",
           "#FF6692",
           "#B6E880",
           "#FF97FF",
           "#FECB52"
          ],
          "font": {
           "color": "#2a3f5f"
          },
          "geo": {
           "bgcolor": "white",
           "lakecolor": "white",
           "landcolor": "#E5ECF6",
           "showlakes": true,
           "showland": true,
           "subunitcolor": "white"
          },
          "hoverlabel": {
           "align": "left"
          },
          "hovermode": "closest",
          "mapbox": {
           "style": "light"
          },
          "paper_bgcolor": "white",
          "plot_bgcolor": "#E5ECF6",
          "polar": {
           "angularaxis": {
            "gridcolor": "white",
            "linecolor": "white",
            "ticks": ""
           },
           "bgcolor": "#E5ECF6",
           "radialaxis": {
            "gridcolor": "white",
            "linecolor": "white",
            "ticks": ""
           }
          },
          "scene": {
           "xaxis": {
            "backgroundcolor": "#E5ECF6",
            "gridcolor": "white",
            "gridwidth": 2,
            "linecolor": "white",
            "showbackground": true,
            "ticks": "",
            "zerolinecolor": "white"
           },
           "yaxis": {
            "backgroundcolor": "#E5ECF6",
            "gridcolor": "white",
            "gridwidth": 2,
            "linecolor": "white",
            "showbackground": true,
            "ticks": "",
            "zerolinecolor": "white"
           },
           "zaxis": {
            "backgroundcolor": "#E5ECF6",
            "gridcolor": "white",
            "gridwidth": 2,
            "linecolor": "white",
            "showbackground": true,
            "ticks": "",
            "zerolinecolor": "white"
           }
          },
          "shapedefaults": {
           "line": {
            "color": "#2a3f5f"
           }
          },
          "ternary": {
           "aaxis": {
            "gridcolor": "white",
            "linecolor": "white",
            "ticks": ""
           },
           "baxis": {
            "gridcolor": "white",
            "linecolor": "white",
            "ticks": ""
           },
           "bgcolor": "#E5ECF6",
           "caxis": {
            "gridcolor": "white",
            "linecolor": "white",
            "ticks": ""
           }
          },
          "title": {
           "x": 0.05
          },
          "xaxis": {
           "automargin": true,
           "gridcolor": "white",
           "linecolor": "white",
           "ticks": "",
           "title": {
            "standoff": 15
           },
           "zerolinecolor": "white",
           "zerolinewidth": 2
          },
          "yaxis": {
           "automargin": true,
           "gridcolor": "white",
           "linecolor": "white",
           "ticks": "",
           "title": {
            "standoff": 15
           },
           "zerolinecolor": "white",
           "zerolinewidth": 2
          }
         }
        },
        "title": {
         "font": {
          "size": 20
         },
         "text": "Nigeria",
         "x": 0.5,
         "y": 0.97
        },
        "xaxis": {
         "anchor": "y",
         "domain": [
          0,
          1
         ]
        },
        "xaxis2": {
         "anchor": "y2",
         "domain": [
          0,
          1
         ]
        },
        "yaxis": {
         "anchor": "x",
         "domain": [
          0.55,
          1
         ]
        },
        "yaxis2": {
         "anchor": "x2",
         "domain": [
          0,
          0.45
         ]
        }
       }
      },
      "text/html": [
       "<div>                            <div id=\"af73cdd8-a02f-430a-a397-f0ed6bc4a6d7\" class=\"plotly-graph-div\" style=\"height:525px; width:100%;\"></div>            <script type=\"text/javascript\">                require([\"plotly\"], function(Plotly) {                    window.PLOTLYENV=window.PLOTLYENV || {};                                    if (document.getElementById(\"af73cdd8-a02f-430a-a397-f0ed6bc4a6d7\")) {                    Plotly.newPlot(                        \"af73cdd8-a02f-430a-a397-f0ed6bc4a6d7\",                        [{\"line\":{\"color\":\"#4C78A8\"},\"mode\":\"lines+markers\",\"name\":\"actual\",\"showlegend\":true,\"x\":[\"2020-01-22T00:00:00\",\"2020-01-23T00:00:00\",\"2020-01-24T00:00:00\",\"2020-01-25T00:00:00\",\"2020-01-26T00:00:00\",\"2020-01-27T00:00:00\",\"2020-01-28T00:00:00\",\"2020-01-29T00:00:00\",\"2020-01-30T00:00:00\",\"2020-01-31T00:00:00\",\"2020-02-01T00:00:00\",\"2020-02-02T00:00:00\",\"2020-02-03T00:00:00\",\"2020-02-04T00:00:00\",\"2020-02-05T00:00:00\",\"2020-02-06T00:00:00\",\"2020-02-07T00:00:00\",\"2020-02-08T00:00:00\",\"2020-02-09T00:00:00\",\"2020-02-10T00:00:00\",\"2020-02-11T00:00:00\",\"2020-02-12T00:00:00\",\"2020-02-13T00:00:00\",\"2020-02-14T00:00:00\",\"2020-02-15T00:00:00\",\"2020-02-16T00:00:00\",\"2020-02-17T00:00:00\",\"2020-02-18T00:00:00\",\"2020-02-19T00:00:00\",\"2020-02-20T00:00:00\",\"2020-02-21T00:00:00\",\"2020-02-22T00:00:00\",\"2020-02-23T00:00:00\",\"2020-02-24T00:00:00\",\"2020-02-25T00:00:00\",\"2020-02-26T00:00:00\",\"2020-02-27T00:00:00\",\"2020-02-28T00:00:00\",\"2020-02-29T00:00:00\",\"2020-03-01T00:00:00\",\"2020-03-02T00:00:00\",\"2020-03-03T00:00:00\",\"2020-03-04T00:00:00\",\"2020-03-05T00:00:00\",\"2020-03-06T00:00:00\",\"2020-03-07T00:00:00\",\"2020-03-08T00:00:00\",\"2020-03-09T00:00:00\",\"2020-03-10T00:00:00\",\"2020-03-11T00:00:00\",\"2020-03-12T00:00:00\",\"2020-03-13T00:00:00\",\"2020-03-14T00:00:00\",\"2020-03-15T00:00:00\",\"2020-03-16T00:00:00\",\"2020-03-17T00:00:00\",\"2020-03-18T00:00:00\",\"2020-03-19T00:00:00\",\"2020-03-20T00:00:00\",\"2020-03-21T00:00:00\",\"2020-03-22T00:00:00\",\"2020-03-23T00:00:00\",\"2020-03-24T00:00:00\",\"2020-03-25T00:00:00\",\"2020-03-26T00:00:00\",\"2020-03-27T00:00:00\",\"2020-03-28T00:00:00\",\"2020-03-29T00:00:00\",\"2020-03-30T00:00:00\",\"2020-03-31T00:00:00\",\"2020-04-01T00:00:00\",\"2020-04-02T00:00:00\",\"2020-04-03T00:00:00\",\"2020-04-04T00:00:00\",\"2020-04-05T00:00:00\",\"2020-04-06T00:00:00\",\"2020-04-07T00:00:00\",\"2020-04-08T00:00:00\",\"2020-04-09T00:00:00\",\"2020-04-10T00:00:00\",\"2020-04-11T00:00:00\",\"2020-04-12T00:00:00\",\"2020-04-13T00:00:00\",\"2020-04-14T00:00:00\",\"2020-04-15T00:00:00\",\"2020-04-16T00:00:00\",\"2020-04-17T00:00:00\",\"2020-04-18T00:00:00\",\"2020-04-19T00:00:00\",\"2020-04-20T00:00:00\",\"2020-04-21T00:00:00\",\"2020-04-22T00:00:00\",\"2020-04-23T00:00:00\",\"2020-04-24T00:00:00\",\"2020-04-25T00:00:00\",\"2020-04-26T00:00:00\",\"2020-04-27T00:00:00\",\"2020-04-28T00:00:00\",\"2020-04-29T00:00:00\",\"2020-04-30T00:00:00\",\"2020-05-01T00:00:00\",\"2020-05-02T00:00:00\",\"2020-05-03T00:00:00\",\"2020-05-04T00:00:00\",\"2020-05-05T00:00:00\",\"2020-05-06T00:00:00\",\"2020-05-07T00:00:00\",\"2020-05-08T00:00:00\",\"2020-05-09T00:00:00\",\"2020-05-10T00:00:00\",\"2020-05-11T00:00:00\",\"2020-05-12T00:00:00\",\"2020-05-13T00:00:00\",\"2020-05-14T00:00:00\",\"2020-05-15T00:00:00\",\"2020-05-16T00:00:00\",\"2020-05-17T00:00:00\",\"2020-05-18T00:00:00\",\"2020-05-19T00:00:00\",\"2020-05-20T00:00:00\",\"2020-05-21T00:00:00\",\"2020-05-22T00:00:00\",\"2020-05-23T00:00:00\",\"2020-05-24T00:00:00\",\"2020-05-25T00:00:00\",\"2020-05-26T00:00:00\",\"2020-05-27T00:00:00\",\"2020-05-28T00:00:00\",\"2020-05-29T00:00:00\",\"2020-05-30T00:00:00\",\"2020-05-31T00:00:00\",\"2020-06-01T00:00:00\",\"2020-06-02T00:00:00\",\"2020-06-03T00:00:00\",\"2020-06-04T00:00:00\",\"2020-06-05T00:00:00\",\"2020-06-06T00:00:00\",\"2020-06-07T00:00:00\",\"2020-06-08T00:00:00\",\"2020-06-09T00:00:00\",\"2020-06-10T00:00:00\",\"2020-06-11T00:00:00\",\"2020-06-12T00:00:00\",\"2020-06-13T00:00:00\",\"2020-06-14T00:00:00\",\"2020-06-15T00:00:00\",\"2020-06-16T00:00:00\",\"2020-06-17T00:00:00\",\"2020-06-18T00:00:00\",\"2020-06-19T00:00:00\",\"2020-06-20T00:00:00\",\"2020-06-21T00:00:00\",\"2020-06-22T00:00:00\",\"2020-06-23T00:00:00\",\"2020-06-24T00:00:00\",\"2020-06-25T00:00:00\",\"2020-06-26T00:00:00\",\"2020-06-27T00:00:00\",\"2020-06-28T00:00:00\",\"2020-06-29T00:00:00\",\"2020-06-30T00:00:00\",\"2020-07-01T00:00:00\",\"2020-07-02T00:00:00\",\"2020-07-03T00:00:00\",\"2020-07-04T00:00:00\",\"2020-07-05T00:00:00\",\"2020-07-06T00:00:00\",\"2020-07-07T00:00:00\",\"2020-07-08T00:00:00\",\"2020-07-09T00:00:00\",\"2020-07-10T00:00:00\",\"2020-07-11T00:00:00\",\"2020-07-12T00:00:00\",\"2020-07-13T00:00:00\",\"2020-07-14T00:00:00\",\"2020-07-15T00:00:00\",\"2020-07-16T00:00:00\",\"2020-07-17T00:00:00\",\"2020-07-18T00:00:00\",\"2020-07-19T00:00:00\",\"2020-07-20T00:00:00\",\"2020-07-21T00:00:00\",\"2020-07-22T00:00:00\",\"2020-07-23T00:00:00\",\"2020-07-24T00:00:00\",\"2020-07-25T00:00:00\",\"2020-07-26T00:00:00\",\"2020-07-27T00:00:00\",\"2020-07-28T00:00:00\",\"2020-07-29T00:00:00\",\"2020-07-30T00:00:00\",\"2020-07-31T00:00:00\",\"2020-08-01T00:00:00\",\"2020-08-02T00:00:00\",\"2020-08-03T00:00:00\",\"2020-08-04T00:00:00\",\"2020-08-05T00:00:00\",\"2020-08-06T00:00:00\",\"2020-08-07T00:00:00\",\"2020-08-08T00:00:00\",\"2020-08-09T00:00:00\",\"2020-08-10T00:00:00\",\"2020-08-11T00:00:00\",\"2020-08-12T00:00:00\",\"2020-08-13T00:00:00\",\"2020-08-14T00:00:00\",\"2020-08-15T00:00:00\",\"2020-08-16T00:00:00\",\"2020-08-17T00:00:00\",\"2020-08-18T00:00:00\",\"2020-08-19T00:00:00\",\"2020-08-20T00:00:00\",\"2020-08-21T00:00:00\",\"2020-08-22T00:00:00\",\"2020-08-23T00:00:00\",\"2020-08-24T00:00:00\",\"2020-08-25T00:00:00\",\"2020-08-26T00:00:00\",\"2020-08-27T00:00:00\",\"2020-08-28T00:00:00\",\"2020-08-29T00:00:00\",\"2020-08-30T00:00:00\",\"2020-08-31T00:00:00\",\"2020-09-01T00:00:00\",\"2020-09-02T00:00:00\",\"2020-09-03T00:00:00\",\"2020-09-04T00:00:00\",\"2020-09-05T00:00:00\",\"2020-09-06T00:00:00\",\"2020-09-07T00:00:00\",\"2020-09-08T00:00:00\",\"2020-09-09T00:00:00\",\"2020-09-10T00:00:00\",\"2020-09-11T00:00:00\",\"2020-09-12T00:00:00\",\"2020-09-13T00:00:00\",\"2020-09-14T00:00:00\",\"2020-09-15T00:00:00\",\"2020-09-16T00:00:00\",\"2020-09-17T00:00:00\",\"2020-09-18T00:00:00\",\"2020-09-19T00:00:00\",\"2020-09-20T00:00:00\",\"2020-09-21T00:00:00\",\"2020-09-22T00:00:00\",\"2020-09-23T00:00:00\",\"2020-09-24T00:00:00\",\"2020-09-25T00:00:00\",\"2020-09-26T00:00:00\",\"2020-09-27T00:00:00\",\"2020-09-28T00:00:00\",\"2020-09-29T00:00:00\",\"2020-09-30T00:00:00\",\"2020-10-01T00:00:00\",\"2020-10-02T00:00:00\",\"2020-10-03T00:00:00\",\"2020-10-04T00:00:00\",\"2020-10-05T00:00:00\",\"2020-10-06T00:00:00\",\"2020-10-07T00:00:00\",\"2020-10-08T00:00:00\",\"2020-10-09T00:00:00\",\"2020-10-10T00:00:00\",\"2020-10-11T00:00:00\",\"2020-10-12T00:00:00\",\"2020-10-13T00:00:00\",\"2020-10-14T00:00:00\",\"2020-10-15T00:00:00\",\"2020-10-16T00:00:00\",\"2020-10-17T00:00:00\",\"2020-10-18T00:00:00\",\"2020-10-19T00:00:00\",\"2020-10-20T00:00:00\",\"2020-10-21T00:00:00\",\"2020-10-22T00:00:00\",\"2020-10-23T00:00:00\",\"2020-10-24T00:00:00\",\"2020-10-25T00:00:00\",\"2020-10-26T00:00:00\",\"2020-10-27T00:00:00\",\"2020-10-28T00:00:00\",\"2020-10-29T00:00:00\",\"2020-10-30T00:00:00\",\"2020-10-31T00:00:00\",\"2020-11-01T00:00:00\",\"2020-11-02T00:00:00\",\"2020-11-03T00:00:00\",\"2020-11-04T00:00:00\",\"2020-11-05T00:00:00\"],\"y\":[0,0,0,0,0,0,0,0,0,0,0,0,0,0,0,0,0,0,0,0,0,0,0,0,0,0,0,0,0,0,0,0,0,0,0,0,0,0,0,0,0,0,0,0,0,0,0,0,0,0,0,0,0,0,0,0,0,0,0,0,0,1,1,1,1,1,1,1,2,2,2,2,4,4,5,5,6,6,7,7,10,10,10,11,12,13,17,19,21,22,22,28,31,32,35,40,40,44,51,58,68,85,87,93,98,103,107,117,128,143,150,158,164,167,171,176,182,191,192,200,211,221,221,226,233,249,254,259,261,273,287,299,314,315,323,333,342,354,361,365,382,387,399,407,420,424,455,469,475,487,506,518,525,533,542,549,554,558,565,573,590,603,616,628,634,645,654,669,684,689,709,724,740,744,754,760,769,772,778,789,801,805,813,833,845,856,858,860,868,873,878,879,883,888,896,910,927,930,936,942,945,950,956,956,966,973,974,975,977,981,985,992,996,997,1002,1004,1007,1010,1011,1011,1011,1013,1013,1023,1027,1048,1051,1054,1057,1061,1067,1070,1075,1076,1078,1082,1083,1088,1091,1093,1094,1095,1098,1100,1100,1102,1102,1103,1106,1108,1111,1111,1112,1112,1112,1113,1113,1113,1113,1113,1113,1113,1115,1115,1115,1116,1116,1116,1119,1123,1125,1125,1125,1125,1127,1129,1129,1130,1132,1135,1139,1141,1144,1144,1146,1147,1151,1155,1155],\"type\":\"scatter\",\"xaxis\":\"x\",\"yaxis\":\"y\"},{\"line\":{\"color\":\"#F58518\"},\"mode\":\"lines+markers\",\"name\":\"prediction\",\"showlegend\":true,\"x\":[\"2020-11-06T00:00:00\",\"2020-11-07T00:00:00\",\"2020-11-08T00:00:00\",\"2020-11-09T00:00:00\",\"2020-11-10T00:00:00\",\"2020-11-11T00:00:00\",\"2020-11-12T00:00:00\",\"2020-11-13T00:00:00\",\"2020-11-14T00:00:00\",\"2020-11-15T00:00:00\",\"2020-11-16T00:00:00\",\"2020-11-17T00:00:00\",\"2020-11-18T00:00:00\",\"2020-11-19T00:00:00\",\"2020-11-20T00:00:00\",\"2020-11-21T00:00:00\",\"2020-11-22T00:00:00\",\"2020-11-23T00:00:00\",\"2020-11-24T00:00:00\",\"2020-11-25T00:00:00\",\"2020-11-26T00:00:00\",\"2020-11-27T00:00:00\",\"2020-11-28T00:00:00\",\"2020-11-29T00:00:00\",\"2020-11-30T00:00:00\",\"2020-12-01T00:00:00\",\"2020-12-02T00:00:00\",\"2020-12-03T00:00:00\",\"2020-12-04T00:00:00\",\"2020-12-05T00:00:00\"],\"y\":[1156,1157,1158,1159,1160,1161,1162,1163,1164,1165,1166,1167,1168,1169,1170,1171,1172,1173,1174,1175,1176,1177,1178,1179,1180,1181,1182,1183,1184,1185],\"type\":\"scatter\",\"xaxis\":\"x\",\"yaxis\":\"y\"},{\"line\":{\"color\":\"#4C78A8\"},\"mode\":\"lines+markers\",\"name\":\"actual\",\"showlegend\":false,\"x\":[\"2020-01-22T00:00:00\",\"2020-01-23T00:00:00\",\"2020-01-24T00:00:00\",\"2020-01-25T00:00:00\",\"2020-01-26T00:00:00\",\"2020-01-27T00:00:00\",\"2020-01-28T00:00:00\",\"2020-01-29T00:00:00\",\"2020-01-30T00:00:00\",\"2020-01-31T00:00:00\",\"2020-02-01T00:00:00\",\"2020-02-02T00:00:00\",\"2020-02-03T00:00:00\",\"2020-02-04T00:00:00\",\"2020-02-05T00:00:00\",\"2020-02-06T00:00:00\",\"2020-02-07T00:00:00\",\"2020-02-08T00:00:00\",\"2020-02-09T00:00:00\",\"2020-02-10T00:00:00\",\"2020-02-11T00:00:00\",\"2020-02-12T00:00:00\",\"2020-02-13T00:00:00\",\"2020-02-14T00:00:00\",\"2020-02-15T00:00:00\",\"2020-02-16T00:00:00\",\"2020-02-17T00:00:00\",\"2020-02-18T00:00:00\",\"2020-02-19T00:00:00\",\"2020-02-20T00:00:00\",\"2020-02-21T00:00:00\",\"2020-02-22T00:00:00\",\"2020-02-23T00:00:00\",\"2020-02-24T00:00:00\",\"2020-02-25T00:00:00\",\"2020-02-26T00:00:00\",\"2020-02-27T00:00:00\",\"2020-02-28T00:00:00\",\"2020-02-29T00:00:00\",\"2020-03-01T00:00:00\",\"2020-03-02T00:00:00\",\"2020-03-03T00:00:00\",\"2020-03-04T00:00:00\",\"2020-03-05T00:00:00\",\"2020-03-06T00:00:00\",\"2020-03-07T00:00:00\",\"2020-03-08T00:00:00\",\"2020-03-09T00:00:00\",\"2020-03-10T00:00:00\",\"2020-03-11T00:00:00\",\"2020-03-12T00:00:00\",\"2020-03-13T00:00:00\",\"2020-03-14T00:00:00\",\"2020-03-15T00:00:00\",\"2020-03-16T00:00:00\",\"2020-03-17T00:00:00\",\"2020-03-18T00:00:00\",\"2020-03-19T00:00:00\",\"2020-03-20T00:00:00\",\"2020-03-21T00:00:00\",\"2020-03-22T00:00:00\",\"2020-03-23T00:00:00\",\"2020-03-24T00:00:00\",\"2020-03-25T00:00:00\",\"2020-03-26T00:00:00\",\"2020-03-27T00:00:00\",\"2020-03-28T00:00:00\",\"2020-03-29T00:00:00\",\"2020-03-30T00:00:00\",\"2020-03-31T00:00:00\",\"2020-04-01T00:00:00\",\"2020-04-02T00:00:00\",\"2020-04-03T00:00:00\",\"2020-04-04T00:00:00\",\"2020-04-05T00:00:00\",\"2020-04-06T00:00:00\",\"2020-04-07T00:00:00\",\"2020-04-08T00:00:00\",\"2020-04-09T00:00:00\",\"2020-04-10T00:00:00\",\"2020-04-11T00:00:00\",\"2020-04-12T00:00:00\",\"2020-04-13T00:00:00\",\"2020-04-14T00:00:00\",\"2020-04-15T00:00:00\",\"2020-04-16T00:00:00\",\"2020-04-17T00:00:00\",\"2020-04-18T00:00:00\",\"2020-04-19T00:00:00\",\"2020-04-20T00:00:00\",\"2020-04-21T00:00:00\",\"2020-04-22T00:00:00\",\"2020-04-23T00:00:00\",\"2020-04-24T00:00:00\",\"2020-04-25T00:00:00\",\"2020-04-26T00:00:00\",\"2020-04-27T00:00:00\",\"2020-04-28T00:00:00\",\"2020-04-29T00:00:00\",\"2020-04-30T00:00:00\",\"2020-05-01T00:00:00\",\"2020-05-02T00:00:00\",\"2020-05-03T00:00:00\",\"2020-05-04T00:00:00\",\"2020-05-05T00:00:00\",\"2020-05-06T00:00:00\",\"2020-05-07T00:00:00\",\"2020-05-08T00:00:00\",\"2020-05-09T00:00:00\",\"2020-05-10T00:00:00\",\"2020-05-11T00:00:00\",\"2020-05-12T00:00:00\",\"2020-05-13T00:00:00\",\"2020-05-14T00:00:00\",\"2020-05-15T00:00:00\",\"2020-05-16T00:00:00\",\"2020-05-17T00:00:00\",\"2020-05-18T00:00:00\",\"2020-05-19T00:00:00\",\"2020-05-20T00:00:00\",\"2020-05-21T00:00:00\",\"2020-05-22T00:00:00\",\"2020-05-23T00:00:00\",\"2020-05-24T00:00:00\",\"2020-05-25T00:00:00\",\"2020-05-26T00:00:00\",\"2020-05-27T00:00:00\",\"2020-05-28T00:00:00\",\"2020-05-29T00:00:00\",\"2020-05-30T00:00:00\",\"2020-05-31T00:00:00\",\"2020-06-01T00:00:00\",\"2020-06-02T00:00:00\",\"2020-06-03T00:00:00\",\"2020-06-04T00:00:00\",\"2020-06-05T00:00:00\",\"2020-06-06T00:00:00\",\"2020-06-07T00:00:00\",\"2020-06-08T00:00:00\",\"2020-06-09T00:00:00\",\"2020-06-10T00:00:00\",\"2020-06-11T00:00:00\",\"2020-06-12T00:00:00\",\"2020-06-13T00:00:00\",\"2020-06-14T00:00:00\",\"2020-06-15T00:00:00\",\"2020-06-16T00:00:00\",\"2020-06-17T00:00:00\",\"2020-06-18T00:00:00\",\"2020-06-19T00:00:00\",\"2020-06-20T00:00:00\",\"2020-06-21T00:00:00\",\"2020-06-22T00:00:00\",\"2020-06-23T00:00:00\",\"2020-06-24T00:00:00\",\"2020-06-25T00:00:00\",\"2020-06-26T00:00:00\",\"2020-06-27T00:00:00\",\"2020-06-28T00:00:00\",\"2020-06-29T00:00:00\",\"2020-06-30T00:00:00\",\"2020-07-01T00:00:00\",\"2020-07-02T00:00:00\",\"2020-07-03T00:00:00\",\"2020-07-04T00:00:00\",\"2020-07-05T00:00:00\",\"2020-07-06T00:00:00\",\"2020-07-07T00:00:00\",\"2020-07-08T00:00:00\",\"2020-07-09T00:00:00\",\"2020-07-10T00:00:00\",\"2020-07-11T00:00:00\",\"2020-07-12T00:00:00\",\"2020-07-13T00:00:00\",\"2020-07-14T00:00:00\",\"2020-07-15T00:00:00\",\"2020-07-16T00:00:00\",\"2020-07-17T00:00:00\",\"2020-07-18T00:00:00\",\"2020-07-19T00:00:00\",\"2020-07-20T00:00:00\",\"2020-07-21T00:00:00\",\"2020-07-22T00:00:00\",\"2020-07-23T00:00:00\",\"2020-07-24T00:00:00\",\"2020-07-25T00:00:00\",\"2020-07-26T00:00:00\",\"2020-07-27T00:00:00\",\"2020-07-28T00:00:00\",\"2020-07-29T00:00:00\",\"2020-07-30T00:00:00\",\"2020-07-31T00:00:00\",\"2020-08-01T00:00:00\",\"2020-08-02T00:00:00\",\"2020-08-03T00:00:00\",\"2020-08-04T00:00:00\",\"2020-08-05T00:00:00\",\"2020-08-06T00:00:00\",\"2020-08-07T00:00:00\",\"2020-08-08T00:00:00\",\"2020-08-09T00:00:00\",\"2020-08-10T00:00:00\",\"2020-08-11T00:00:00\",\"2020-08-12T00:00:00\",\"2020-08-13T00:00:00\",\"2020-08-14T00:00:00\",\"2020-08-15T00:00:00\",\"2020-08-16T00:00:00\",\"2020-08-17T00:00:00\",\"2020-08-18T00:00:00\",\"2020-08-19T00:00:00\",\"2020-08-20T00:00:00\",\"2020-08-21T00:00:00\",\"2020-08-22T00:00:00\",\"2020-08-23T00:00:00\",\"2020-08-24T00:00:00\",\"2020-08-25T00:00:00\",\"2020-08-26T00:00:00\",\"2020-08-27T00:00:00\",\"2020-08-28T00:00:00\",\"2020-08-29T00:00:00\",\"2020-08-30T00:00:00\",\"2020-08-31T00:00:00\",\"2020-09-01T00:00:00\",\"2020-09-02T00:00:00\",\"2020-09-03T00:00:00\",\"2020-09-04T00:00:00\",\"2020-09-05T00:00:00\",\"2020-09-06T00:00:00\",\"2020-09-07T00:00:00\",\"2020-09-08T00:00:00\",\"2020-09-09T00:00:00\",\"2020-09-10T00:00:00\",\"2020-09-11T00:00:00\",\"2020-09-12T00:00:00\",\"2020-09-13T00:00:00\",\"2020-09-14T00:00:00\",\"2020-09-15T00:00:00\",\"2020-09-16T00:00:00\",\"2020-09-17T00:00:00\",\"2020-09-18T00:00:00\",\"2020-09-19T00:00:00\",\"2020-09-20T00:00:00\",\"2020-09-21T00:00:00\",\"2020-09-22T00:00:00\",\"2020-09-23T00:00:00\",\"2020-09-24T00:00:00\",\"2020-09-25T00:00:00\",\"2020-09-26T00:00:00\",\"2020-09-27T00:00:00\",\"2020-09-28T00:00:00\",\"2020-09-29T00:00:00\",\"2020-09-30T00:00:00\",\"2020-10-01T00:00:00\",\"2020-10-02T00:00:00\",\"2020-10-03T00:00:00\",\"2020-10-04T00:00:00\",\"2020-10-05T00:00:00\",\"2020-10-06T00:00:00\",\"2020-10-07T00:00:00\",\"2020-10-08T00:00:00\",\"2020-10-09T00:00:00\",\"2020-10-10T00:00:00\",\"2020-10-11T00:00:00\",\"2020-10-12T00:00:00\",\"2020-10-13T00:00:00\",\"2020-10-14T00:00:00\",\"2020-10-15T00:00:00\",\"2020-10-16T00:00:00\",\"2020-10-17T00:00:00\",\"2020-10-18T00:00:00\",\"2020-10-19T00:00:00\",\"2020-10-20T00:00:00\",\"2020-10-21T00:00:00\",\"2020-10-22T00:00:00\",\"2020-10-23T00:00:00\",\"2020-10-24T00:00:00\",\"2020-10-25T00:00:00\",\"2020-10-26T00:00:00\",\"2020-10-27T00:00:00\",\"2020-10-28T00:00:00\",\"2020-10-29T00:00:00\",\"2020-10-30T00:00:00\",\"2020-10-31T00:00:00\",\"2020-11-01T00:00:00\",\"2020-11-02T00:00:00\",\"2020-11-03T00:00:00\",\"2020-11-04T00:00:00\",\"2020-11-05T00:00:00\"],\"y\":[0,0,0,0,0,0,0,0,0,0,0,0,0,0,0,0,0,0,0,0,0,0,0,0,0,0,0,0,0,0,0,0,0,0,0,0,0,1,1,1,1,1,1,1,1,1,1,2,2,2,2,2,2,2,2,3,8,8,12,22,30,40,44,51,65,70,89,111,131,135,174,184,210,214,232,238,254,276,288,305,318,323,343,373,407,442,493,542,627,665,665,873,981,1095,1182,1273,1337,1532,1728,1932,2170,2388,2558,2802,2950,3145,3526,3912,4151,4399,4641,4787,4971,5162,5450,5621,5959,6175,6401,6677,7016,7261,7526,7839,8068,8344,8733,8915,9302,9855,10162,10578,10819,11166,11516,11844,12233,12486,12801,13464,13873,14554,15181,15682,16085,16658,17148,17735,18480,19147,19808,20244,20919,21371,22020,22614,23298,24077,24567,25133,25694,26484,27110,27564,28167,28711,29286,29789,30249,30748,31323,31987,32558,33153,33616,34259,34854,35454,36107,36663,37225,37801,38344,38948,39539,39977,40532,41180,41804,42208,42689,43151,43537,43841,44129,44433,44890,45244,45687,46140,46577,46867,47290,47743,48116,48445,48770,49068,49485,49895,50488,50964,51304,51905,52227,52548,52800,53021,53317,53477,53727,53865,54008,54247,54463,54588,54743,54905,55005,55160,55456,55632,55829,56017,56177,56256,56388,56478,56604,56735,56956,57145,57242,57437,57613,57724,57849,58062,58198,58324,58460,58647,58848,59001,59127,59287,59345,59465,59583,59738,59841,59992,60103,60266,60430,60655,60834,60982,61194,61307,61440,61558,61630,61667,61805,61882,61930,61992,62111,62224,62371,62521,62691,62853,62964,63036,63173,63328,63508],\"type\":\"scatter\",\"xaxis\":\"x2\",\"yaxis\":\"y2\"},{\"line\":{\"color\":\"#F58518\"},\"mode\":\"lines+markers\",\"name\":\"prediction\",\"showlegend\":false,\"x\":[\"2020-11-06T00:00:00\",\"2020-11-07T00:00:00\",\"2020-11-08T00:00:00\",\"2020-11-09T00:00:00\",\"2020-11-10T00:00:00\",\"2020-11-11T00:00:00\",\"2020-11-12T00:00:00\",\"2020-11-13T00:00:00\",\"2020-11-14T00:00:00\",\"2020-11-15T00:00:00\",\"2020-11-16T00:00:00\",\"2020-11-17T00:00:00\",\"2020-11-18T00:00:00\",\"2020-11-19T00:00:00\",\"2020-11-20T00:00:00\",\"2020-11-21T00:00:00\",\"2020-11-22T00:00:00\",\"2020-11-23T00:00:00\",\"2020-11-24T00:00:00\",\"2020-11-25T00:00:00\",\"2020-11-26T00:00:00\",\"2020-11-27T00:00:00\",\"2020-11-28T00:00:00\",\"2020-11-29T00:00:00\",\"2020-11-30T00:00:00\",\"2020-12-01T00:00:00\",\"2020-12-02T00:00:00\",\"2020-12-03T00:00:00\",\"2020-12-04T00:00:00\",\"2020-12-05T00:00:00\"],\"y\":[63616,63723,63828,63932,64035,64136,64236,64335,64432,64528,64623,64717,64809,64900,64990,65078,65165,65251,65336,65419,65501,65582,65662,65740,65817,65893,65968,66042,66114,66185],\"type\":\"scatter\",\"xaxis\":\"x2\",\"yaxis\":\"y2\"}],                        {\"template\":{\"data\":{\"histogram2dcontour\":[{\"type\":\"histogram2dcontour\",\"colorbar\":{\"outlinewidth\":0,\"ticks\":\"\"},\"colorscale\":[[0.0,\"#0d0887\"],[0.1111111111111111,\"#46039f\"],[0.2222222222222222,\"#7201a8\"],[0.3333333333333333,\"#9c179e\"],[0.4444444444444444,\"#bd3786\"],[0.5555555555555556,\"#d8576b\"],[0.6666666666666666,\"#ed7953\"],[0.7777777777777778,\"#fb9f3a\"],[0.8888888888888888,\"#fdca26\"],[1.0,\"#f0f921\"]]}],\"choropleth\":[{\"type\":\"choropleth\",\"colorbar\":{\"outlinewidth\":0,\"ticks\":\"\"}}],\"histogram2d\":[{\"type\":\"histogram2d\",\"colorbar\":{\"outlinewidth\":0,\"ticks\":\"\"},\"colorscale\":[[0.0,\"#0d0887\"],[0.1111111111111111,\"#46039f\"],[0.2222222222222222,\"#7201a8\"],[0.3333333333333333,\"#9c179e\"],[0.4444444444444444,\"#bd3786\"],[0.5555555555555556,\"#d8576b\"],[0.6666666666666666,\"#ed7953\"],[0.7777777777777778,\"#fb9f3a\"],[0.8888888888888888,\"#fdca26\"],[1.0,\"#f0f921\"]]}],\"heatmap\":[{\"type\":\"heatmap\",\"colorbar\":{\"outlinewidth\":0,\"ticks\":\"\"},\"colorscale\":[[0.0,\"#0d0887\"],[0.1111111111111111,\"#46039f\"],[0.2222222222222222,\"#7201a8\"],[0.3333333333333333,\"#9c179e\"],[0.4444444444444444,\"#bd3786\"],[0.5555555555555556,\"#d8576b\"],[0.6666666666666666,\"#ed7953\"],[0.7777777777777778,\"#fb9f3a\"],[0.8888888888888888,\"#fdca26\"],[1.0,\"#f0f921\"]]}],\"heatmapgl\":[{\"type\":\"heatmapgl\",\"colorbar\":{\"outlinewidth\":0,\"ticks\":\"\"},\"colorscale\":[[0.0,\"#0d0887\"],[0.1111111111111111,\"#46039f\"],[0.2222222222222222,\"#7201a8\"],[0.3333333333333333,\"#9c179e\"],[0.4444444444444444,\"#bd3786\"],[0.5555555555555556,\"#d8576b\"],[0.6666666666666666,\"#ed7953\"],[0.7777777777777778,\"#fb9f3a\"],[0.8888888888888888,\"#fdca26\"],[1.0,\"#f0f921\"]]}],\"contourcarpet\":[{\"type\":\"contourcarpet\",\"colorbar\":{\"outlinewidth\":0,\"ticks\":\"\"}}],\"contour\":[{\"type\":\"contour\",\"colorbar\":{\"outlinewidth\":0,\"ticks\":\"\"},\"colorscale\":[[0.0,\"#0d0887\"],[0.1111111111111111,\"#46039f\"],[0.2222222222222222,\"#7201a8\"],[0.3333333333333333,\"#9c179e\"],[0.4444444444444444,\"#bd3786\"],[0.5555555555555556,\"#d8576b\"],[0.6666666666666666,\"#ed7953\"],[0.7777777777777778,\"#fb9f3a\"],[0.8888888888888888,\"#fdca26\"],[1.0,\"#f0f921\"]]}],\"surface\":[{\"type\":\"surface\",\"colorbar\":{\"outlinewidth\":0,\"ticks\":\"\"},\"colorscale\":[[0.0,\"#0d0887\"],[0.1111111111111111,\"#46039f\"],[0.2222222222222222,\"#7201a8\"],[0.3333333333333333,\"#9c179e\"],[0.4444444444444444,\"#bd3786\"],[0.5555555555555556,\"#d8576b\"],[0.6666666666666666,\"#ed7953\"],[0.7777777777777778,\"#fb9f3a\"],[0.8888888888888888,\"#fdca26\"],[1.0,\"#f0f921\"]]}],\"mesh3d\":[{\"type\":\"mesh3d\",\"colorbar\":{\"outlinewidth\":0,\"ticks\":\"\"}}],\"scatter\":[{\"fillpattern\":{\"fillmode\":\"overlay\",\"size\":10,\"solidity\":0.2},\"type\":\"scatter\"}],\"parcoords\":[{\"type\":\"parcoords\",\"line\":{\"colorbar\":{\"outlinewidth\":0,\"ticks\":\"\"}}}],\"scatterpolargl\":[{\"type\":\"scatterpolargl\",\"marker\":{\"colorbar\":{\"outlinewidth\":0,\"ticks\":\"\"}}}],\"bar\":[{\"error_x\":{\"color\":\"#2a3f5f\"},\"error_y\":{\"color\":\"#2a3f5f\"},\"marker\":{\"line\":{\"color\":\"#E5ECF6\",\"width\":0.5},\"pattern\":{\"fillmode\":\"overlay\",\"size\":10,\"solidity\":0.2}},\"type\":\"bar\"}],\"scattergeo\":[{\"type\":\"scattergeo\",\"marker\":{\"colorbar\":{\"outlinewidth\":0,\"ticks\":\"\"}}}],\"scatterpolar\":[{\"type\":\"scatterpolar\",\"marker\":{\"colorbar\":{\"outlinewidth\":0,\"ticks\":\"\"}}}],\"histogram\":[{\"marker\":{\"pattern\":{\"fillmode\":\"overlay\",\"size\":10,\"solidity\":0.2}},\"type\":\"histogram\"}],\"scattergl\":[{\"type\":\"scattergl\",\"marker\":{\"colorbar\":{\"outlinewidth\":0,\"ticks\":\"\"}}}],\"scatter3d\":[{\"type\":\"scatter3d\",\"line\":{\"colorbar\":{\"outlinewidth\":0,\"ticks\":\"\"}},\"marker\":{\"colorbar\":{\"outlinewidth\":0,\"ticks\":\"\"}}}],\"scattermapbox\":[{\"type\":\"scattermapbox\",\"marker\":{\"colorbar\":{\"outlinewidth\":0,\"ticks\":\"\"}}}],\"scatterternary\":[{\"type\":\"scatterternary\",\"marker\":{\"colorbar\":{\"outlinewidth\":0,\"ticks\":\"\"}}}],\"scattercarpet\":[{\"type\":\"scattercarpet\",\"marker\":{\"colorbar\":{\"outlinewidth\":0,\"ticks\":\"\"}}}],\"carpet\":[{\"aaxis\":{\"endlinecolor\":\"#2a3f5f\",\"gridcolor\":\"white\",\"linecolor\":\"white\",\"minorgridcolor\":\"white\",\"startlinecolor\":\"#2a3f5f\"},\"baxis\":{\"endlinecolor\":\"#2a3f5f\",\"gridcolor\":\"white\",\"linecolor\":\"white\",\"minorgridcolor\":\"white\",\"startlinecolor\":\"#2a3f5f\"},\"type\":\"carpet\"}],\"table\":[{\"cells\":{\"fill\":{\"color\":\"#EBF0F8\"},\"line\":{\"color\":\"white\"}},\"header\":{\"fill\":{\"color\":\"#C8D4E3\"},\"line\":{\"color\":\"white\"}},\"type\":\"table\"}],\"barpolar\":[{\"marker\":{\"line\":{\"color\":\"#E5ECF6\",\"width\":0.5},\"pattern\":{\"fillmode\":\"overlay\",\"size\":10,\"solidity\":0.2}},\"type\":\"barpolar\"}],\"pie\":[{\"automargin\":true,\"type\":\"pie\"}]},\"layout\":{\"autotypenumbers\":\"strict\",\"colorway\":[\"#636efa\",\"#EF553B\",\"#00cc96\",\"#ab63fa\",\"#FFA15A\",\"#19d3f3\",\"#FF6692\",\"#B6E880\",\"#FF97FF\",\"#FECB52\"],\"font\":{\"color\":\"#2a3f5f\"},\"hovermode\":\"closest\",\"hoverlabel\":{\"align\":\"left\"},\"paper_bgcolor\":\"white\",\"plot_bgcolor\":\"#E5ECF6\",\"polar\":{\"bgcolor\":\"#E5ECF6\",\"angularaxis\":{\"gridcolor\":\"white\",\"linecolor\":\"white\",\"ticks\":\"\"},\"radialaxis\":{\"gridcolor\":\"white\",\"linecolor\":\"white\",\"ticks\":\"\"}},\"ternary\":{\"bgcolor\":\"#E5ECF6\",\"aaxis\":{\"gridcolor\":\"white\",\"linecolor\":\"white\",\"ticks\":\"\"},\"baxis\":{\"gridcolor\":\"white\",\"linecolor\":\"white\",\"ticks\":\"\"},\"caxis\":{\"gridcolor\":\"white\",\"linecolor\":\"white\",\"ticks\":\"\"}},\"coloraxis\":{\"colorbar\":{\"outlinewidth\":0,\"ticks\":\"\"}},\"colorscale\":{\"sequential\":[[0.0,\"#0d0887\"],[0.1111111111111111,\"#46039f\"],[0.2222222222222222,\"#7201a8\"],[0.3333333333333333,\"#9c179e\"],[0.4444444444444444,\"#bd3786\"],[0.5555555555555556,\"#d8576b\"],[0.6666666666666666,\"#ed7953\"],[0.7777777777777778,\"#fb9f3a\"],[0.8888888888888888,\"#fdca26\"],[1.0,\"#f0f921\"]],\"sequentialminus\":[[0.0,\"#0d0887\"],[0.1111111111111111,\"#46039f\"],[0.2222222222222222,\"#7201a8\"],[0.3333333333333333,\"#9c179e\"],[0.4444444444444444,\"#bd3786\"],[0.5555555555555556,\"#d8576b\"],[0.6666666666666666,\"#ed7953\"],[0.7777777777777778,\"#fb9f3a\"],[0.8888888888888888,\"#fdca26\"],[1.0,\"#f0f921\"]],\"diverging\":[[0,\"#8e0152\"],[0.1,\"#c51b7d\"],[0.2,\"#de77ae\"],[0.3,\"#f1b6da\"],[0.4,\"#fde0ef\"],[0.5,\"#f7f7f7\"],[0.6,\"#e6f5d0\"],[0.7,\"#b8e186\"],[0.8,\"#7fbc41\"],[0.9,\"#4d9221\"],[1,\"#276419\"]]},\"xaxis\":{\"gridcolor\":\"white\",\"linecolor\":\"white\",\"ticks\":\"\",\"title\":{\"standoff\":15},\"zerolinecolor\":\"white\",\"automargin\":true,\"zerolinewidth\":2},\"yaxis\":{\"gridcolor\":\"white\",\"linecolor\":\"white\",\"ticks\":\"\",\"title\":{\"standoff\":15},\"zerolinecolor\":\"white\",\"automargin\":true,\"zerolinewidth\":2},\"scene\":{\"xaxis\":{\"backgroundcolor\":\"#E5ECF6\",\"gridcolor\":\"white\",\"linecolor\":\"white\",\"showbackground\":true,\"ticks\":\"\",\"zerolinecolor\":\"white\",\"gridwidth\":2},\"yaxis\":{\"backgroundcolor\":\"#E5ECF6\",\"gridcolor\":\"white\",\"linecolor\":\"white\",\"showbackground\":true,\"ticks\":\"\",\"zerolinecolor\":\"white\",\"gridwidth\":2},\"zaxis\":{\"backgroundcolor\":\"#E5ECF6\",\"gridcolor\":\"white\",\"linecolor\":\"white\",\"showbackground\":true,\"ticks\":\"\",\"zerolinecolor\":\"white\",\"gridwidth\":2}},\"shapedefaults\":{\"line\":{\"color\":\"#2a3f5f\"}},\"annotationdefaults\":{\"arrowcolor\":\"#2a3f5f\",\"arrowhead\":0,\"arrowwidth\":1},\"geo\":{\"bgcolor\":\"white\",\"landcolor\":\"#E5ECF6\",\"subunitcolor\":\"white\",\"showland\":true,\"showlakes\":true,\"lakecolor\":\"white\"},\"title\":{\"x\":0.05},\"mapbox\":{\"style\":\"light\"}}},\"xaxis\":{\"anchor\":\"y\",\"domain\":[0.0,1.0]},\"yaxis\":{\"anchor\":\"x\",\"domain\":[0.55,1.0]},\"xaxis2\":{\"anchor\":\"y2\",\"domain\":[0.0,1.0]},\"yaxis2\":{\"anchor\":\"x2\",\"domain\":[0.0,0.45]},\"title\":{\"font\":{\"size\":20},\"text\":\"Nigeria\",\"x\":0.5,\"y\":0.97},\"margin\":{\"t\":40,\"l\":50,\"r\":10,\"b\":0},\"legend\":{\"font\":{\"size\":15},\"x\":0.5,\"y\":-0.05,\"xanchor\":\"center\",\"orientation\":\"h\"},\"annotations\":[{\"text\":\"<b>Deaths</b>\",\"y\":0.95,\"font\":{\"size\":18},\"x\":0.1,\"xref\":\"paper\",\"yref\":\"paper\",\"xanchor\":\"left\",\"showarrow\":false},{\"text\":\"<b>Cases</b>\",\"y\":0.3,\"font\":{\"size\":18},\"x\":0.1,\"xref\":\"paper\",\"yref\":\"paper\",\"xanchor\":\"left\",\"showarrow\":false}]},                        {\"responsive\": true}                    ).then(function(){\n",
       "                            \n",
       "var gd = document.getElementById('af73cdd8-a02f-430a-a397-f0ed6bc4a6d7');\n",
       "var x = new MutationObserver(function (mutations, observer) {{\n",
       "        var display = window.getComputedStyle(gd).display;\n",
       "        if (!display || display === 'none') {{\n",
       "            console.log([gd, 'removed!']);\n",
       "            Plotly.purge(gd);\n",
       "            observer.disconnect();\n",
       "        }}\n",
       "}});\n",
       "\n",
       "// Listen for the removal of the full notebook cells\n",
       "var notebookContainer = gd.closest('#notebook-container');\n",
       "if (notebookContainer) {{\n",
       "    x.observe(notebookContainer, {childList: true});\n",
       "}}\n",
       "\n",
       "// Listen for the clearing of the current output cell\n",
       "var outputEl = gd.closest('.output');\n",
       "if (outputEl) {{\n",
       "    x.observe(outputEl, {childList: true});\n",
       "}}\n",
       "\n",
       "                        })                };                });            </script>        </div>"
      ]
     },
     "metadata": {},
     "output_type": "display_data"
    }
   ],
   "source": [
    "figs[0]"
   ]
  },
  {
   "cell_type": "markdown",
   "metadata": {},
   "source": [
    "Daily bar graph:"
   ]
  },
  {
   "cell_type": "code",
   "execution_count": 37,
   "metadata": {},
   "outputs": [
    {
     "data": {
      "application/vnd.plotly.v1+json": {
       "config": {
        "plotlyServerURL": "https://plot.ly"
       },
       "data": [
        {
         "marker": {
          "color": "#4C78A8"
         },
         "name": "actual",
         "showlegend": true,
         "type": "bar",
         "x": [
          "2020-01-22T00:00:00",
          "2020-01-23T00:00:00",
          "2020-01-24T00:00:00",
          "2020-01-25T00:00:00",
          "2020-01-26T00:00:00",
          "2020-01-27T00:00:00",
          "2020-01-28T00:00:00",
          "2020-01-29T00:00:00",
          "2020-01-30T00:00:00",
          "2020-01-31T00:00:00",
          "2020-02-01T00:00:00",
          "2020-02-02T00:00:00",
          "2020-02-03T00:00:00",
          "2020-02-04T00:00:00",
          "2020-02-05T00:00:00",
          "2020-02-06T00:00:00",
          "2020-02-07T00:00:00",
          "2020-02-08T00:00:00",
          "2020-02-09T00:00:00",
          "2020-02-10T00:00:00",
          "2020-02-11T00:00:00",
          "2020-02-12T00:00:00",
          "2020-02-13T00:00:00",
          "2020-02-14T00:00:00",
          "2020-02-15T00:00:00",
          "2020-02-16T00:00:00",
          "2020-02-17T00:00:00",
          "2020-02-18T00:00:00",
          "2020-02-19T00:00:00",
          "2020-02-20T00:00:00",
          "2020-02-21T00:00:00",
          "2020-02-22T00:00:00",
          "2020-02-23T00:00:00",
          "2020-02-24T00:00:00",
          "2020-02-25T00:00:00",
          "2020-02-26T00:00:00",
          "2020-02-27T00:00:00",
          "2020-02-28T00:00:00",
          "2020-02-29T00:00:00",
          "2020-03-01T00:00:00",
          "2020-03-02T00:00:00",
          "2020-03-03T00:00:00",
          "2020-03-04T00:00:00",
          "2020-03-05T00:00:00",
          "2020-03-06T00:00:00",
          "2020-03-07T00:00:00",
          "2020-03-08T00:00:00",
          "2020-03-09T00:00:00",
          "2020-03-10T00:00:00",
          "2020-03-11T00:00:00",
          "2020-03-12T00:00:00",
          "2020-03-13T00:00:00",
          "2020-03-14T00:00:00",
          "2020-03-15T00:00:00",
          "2020-03-16T00:00:00",
          "2020-03-17T00:00:00",
          "2020-03-18T00:00:00",
          "2020-03-19T00:00:00",
          "2020-03-20T00:00:00",
          "2020-03-21T00:00:00",
          "2020-03-22T00:00:00",
          "2020-03-23T00:00:00",
          "2020-03-24T00:00:00",
          "2020-03-25T00:00:00",
          "2020-03-26T00:00:00",
          "2020-03-27T00:00:00",
          "2020-03-28T00:00:00",
          "2020-03-29T00:00:00",
          "2020-03-30T00:00:00",
          "2020-03-31T00:00:00",
          "2020-04-01T00:00:00",
          "2020-04-02T00:00:00",
          "2020-04-03T00:00:00",
          "2020-04-04T00:00:00",
          "2020-04-05T00:00:00",
          "2020-04-06T00:00:00",
          "2020-04-07T00:00:00",
          "2020-04-08T00:00:00",
          "2020-04-09T00:00:00",
          "2020-04-10T00:00:00",
          "2020-04-11T00:00:00",
          "2020-04-12T00:00:00",
          "2020-04-13T00:00:00",
          "2020-04-14T00:00:00",
          "2020-04-15T00:00:00",
          "2020-04-16T00:00:00",
          "2020-04-17T00:00:00",
          "2020-04-18T00:00:00",
          "2020-04-19T00:00:00",
          "2020-04-20T00:00:00",
          "2020-04-21T00:00:00",
          "2020-04-22T00:00:00",
          "2020-04-23T00:00:00",
          "2020-04-24T00:00:00",
          "2020-04-25T00:00:00",
          "2020-04-26T00:00:00",
          "2020-04-27T00:00:00",
          "2020-04-28T00:00:00",
          "2020-04-29T00:00:00",
          "2020-04-30T00:00:00",
          "2020-05-01T00:00:00",
          "2020-05-02T00:00:00",
          "2020-05-03T00:00:00",
          "2020-05-04T00:00:00",
          "2020-05-05T00:00:00",
          "2020-05-06T00:00:00",
          "2020-05-07T00:00:00",
          "2020-05-08T00:00:00",
          "2020-05-09T00:00:00",
          "2020-05-10T00:00:00",
          "2020-05-11T00:00:00",
          "2020-05-12T00:00:00",
          "2020-05-13T00:00:00",
          "2020-05-14T00:00:00",
          "2020-05-15T00:00:00",
          "2020-05-16T00:00:00",
          "2020-05-17T00:00:00",
          "2020-05-18T00:00:00",
          "2020-05-19T00:00:00",
          "2020-05-20T00:00:00",
          "2020-05-21T00:00:00",
          "2020-05-22T00:00:00",
          "2020-05-23T00:00:00",
          "2020-05-24T00:00:00",
          "2020-05-25T00:00:00",
          "2020-05-26T00:00:00",
          "2020-05-27T00:00:00",
          "2020-05-28T00:00:00",
          "2020-05-29T00:00:00",
          "2020-05-30T00:00:00",
          "2020-05-31T00:00:00",
          "2020-06-01T00:00:00",
          "2020-06-02T00:00:00",
          "2020-06-03T00:00:00",
          "2020-06-04T00:00:00",
          "2020-06-05T00:00:00",
          "2020-06-06T00:00:00",
          "2020-06-07T00:00:00",
          "2020-06-08T00:00:00",
          "2020-06-09T00:00:00",
          "2020-06-10T00:00:00",
          "2020-06-11T00:00:00",
          "2020-06-12T00:00:00",
          "2020-06-13T00:00:00",
          "2020-06-14T00:00:00",
          "2020-06-15T00:00:00",
          "2020-06-16T00:00:00",
          "2020-06-17T00:00:00",
          "2020-06-18T00:00:00",
          "2020-06-19T00:00:00",
          "2020-06-20T00:00:00",
          "2020-06-21T00:00:00",
          "2020-06-22T00:00:00",
          "2020-06-23T00:00:00",
          "2020-06-24T00:00:00",
          "2020-06-25T00:00:00",
          "2020-06-26T00:00:00",
          "2020-06-27T00:00:00",
          "2020-06-28T00:00:00",
          "2020-06-29T00:00:00",
          "2020-06-30T00:00:00",
          "2020-07-01T00:00:00",
          "2020-07-02T00:00:00",
          "2020-07-03T00:00:00",
          "2020-07-04T00:00:00",
          "2020-07-05T00:00:00",
          "2020-07-06T00:00:00",
          "2020-07-07T00:00:00",
          "2020-07-08T00:00:00",
          "2020-07-09T00:00:00",
          "2020-07-10T00:00:00",
          "2020-07-11T00:00:00",
          "2020-07-12T00:00:00",
          "2020-07-13T00:00:00",
          "2020-07-14T00:00:00",
          "2020-07-15T00:00:00",
          "2020-07-16T00:00:00",
          "2020-07-17T00:00:00",
          "2020-07-18T00:00:00",
          "2020-07-19T00:00:00",
          "2020-07-20T00:00:00",
          "2020-07-21T00:00:00",
          "2020-07-22T00:00:00",
          "2020-07-23T00:00:00",
          "2020-07-24T00:00:00",
          "2020-07-25T00:00:00",
          "2020-07-26T00:00:00",
          "2020-07-27T00:00:00",
          "2020-07-28T00:00:00",
          "2020-07-29T00:00:00",
          "2020-07-30T00:00:00",
          "2020-07-31T00:00:00",
          "2020-08-01T00:00:00",
          "2020-08-02T00:00:00",
          "2020-08-03T00:00:00",
          "2020-08-04T00:00:00",
          "2020-08-05T00:00:00",
          "2020-08-06T00:00:00",
          "2020-08-07T00:00:00",
          "2020-08-08T00:00:00",
          "2020-08-09T00:00:00",
          "2020-08-10T00:00:00",
          "2020-08-11T00:00:00",
          "2020-08-12T00:00:00",
          "2020-08-13T00:00:00",
          "2020-08-14T00:00:00",
          "2020-08-15T00:00:00",
          "2020-08-16T00:00:00",
          "2020-08-17T00:00:00",
          "2020-08-18T00:00:00",
          "2020-08-19T00:00:00",
          "2020-08-20T00:00:00",
          "2020-08-21T00:00:00",
          "2020-08-22T00:00:00",
          "2020-08-23T00:00:00",
          "2020-08-24T00:00:00",
          "2020-08-25T00:00:00",
          "2020-08-26T00:00:00",
          "2020-08-27T00:00:00",
          "2020-08-28T00:00:00",
          "2020-08-29T00:00:00",
          "2020-08-30T00:00:00",
          "2020-08-31T00:00:00",
          "2020-09-01T00:00:00",
          "2020-09-02T00:00:00",
          "2020-09-03T00:00:00",
          "2020-09-04T00:00:00",
          "2020-09-05T00:00:00",
          "2020-09-06T00:00:00",
          "2020-09-07T00:00:00",
          "2020-09-08T00:00:00",
          "2020-09-09T00:00:00",
          "2020-09-10T00:00:00",
          "2020-09-11T00:00:00",
          "2020-09-12T00:00:00",
          "2020-09-13T00:00:00",
          "2020-09-14T00:00:00",
          "2020-09-15T00:00:00",
          "2020-09-16T00:00:00",
          "2020-09-17T00:00:00",
          "2020-09-18T00:00:00",
          "2020-09-19T00:00:00",
          "2020-09-20T00:00:00",
          "2020-09-21T00:00:00",
          "2020-09-22T00:00:00",
          "2020-09-23T00:00:00",
          "2020-09-24T00:00:00",
          "2020-09-25T00:00:00",
          "2020-09-26T00:00:00",
          "2020-09-27T00:00:00",
          "2020-09-28T00:00:00",
          "2020-09-29T00:00:00",
          "2020-09-30T00:00:00",
          "2020-10-01T00:00:00",
          "2020-10-02T00:00:00",
          "2020-10-03T00:00:00",
          "2020-10-04T00:00:00",
          "2020-10-05T00:00:00",
          "2020-10-06T00:00:00",
          "2020-10-07T00:00:00",
          "2020-10-08T00:00:00",
          "2020-10-09T00:00:00",
          "2020-10-10T00:00:00",
          "2020-10-11T00:00:00",
          "2020-10-12T00:00:00",
          "2020-10-13T00:00:00",
          "2020-10-14T00:00:00",
          "2020-10-15T00:00:00",
          "2020-10-16T00:00:00",
          "2020-10-17T00:00:00",
          "2020-10-18T00:00:00",
          "2020-10-19T00:00:00",
          "2020-10-20T00:00:00",
          "2020-10-21T00:00:00",
          "2020-10-22T00:00:00",
          "2020-10-23T00:00:00",
          "2020-10-24T00:00:00",
          "2020-10-25T00:00:00",
          "2020-10-26T00:00:00",
          "2020-10-27T00:00:00",
          "2020-10-28T00:00:00",
          "2020-10-29T00:00:00",
          "2020-10-30T00:00:00",
          "2020-10-31T00:00:00",
          "2020-11-01T00:00:00",
          "2020-11-02T00:00:00",
          "2020-11-03T00:00:00",
          "2020-11-04T00:00:00",
          "2020-11-05T00:00:00"
         ],
         "xaxis": "x",
         "y": [
          0,
          0,
          0,
          0,
          0,
          0,
          0,
          0,
          0,
          0,
          0,
          0,
          0,
          0,
          0,
          0,
          0,
          0,
          0,
          0,
          0,
          0,
          0,
          0,
          0,
          0,
          0,
          0,
          0,
          0,
          0,
          0,
          0,
          0,
          0,
          0,
          0,
          0,
          0,
          0,
          0,
          0,
          0,
          0,
          0,
          0,
          0,
          0,
          0,
          0,
          0,
          0,
          0,
          0,
          0,
          0,
          0,
          0,
          0,
          0,
          0,
          1,
          0,
          0,
          0,
          0,
          0,
          0,
          1,
          0,
          0,
          0,
          2,
          0,
          1,
          0,
          1,
          0,
          1,
          0,
          3,
          0,
          0,
          1,
          1,
          1,
          4,
          2,
          2,
          1,
          0,
          6,
          3,
          1,
          3,
          5,
          0,
          4,
          7,
          7,
          10,
          17,
          2,
          6,
          5,
          5,
          4,
          10,
          11,
          15,
          7,
          8,
          6,
          3,
          4,
          5,
          6,
          9,
          1,
          8,
          11,
          10,
          0,
          5,
          7,
          16,
          5,
          5,
          2,
          12,
          14,
          12,
          15,
          1,
          8,
          10,
          9,
          12,
          7,
          4,
          17,
          5,
          12,
          8,
          13,
          4,
          31,
          14,
          6,
          12,
          19,
          12,
          7,
          8,
          9,
          7,
          5,
          4,
          7,
          8,
          17,
          13,
          13,
          12,
          6,
          11,
          9,
          15,
          15,
          5,
          20,
          15,
          16,
          4,
          10,
          6,
          9,
          3,
          6,
          11,
          12,
          4,
          8,
          20,
          12,
          11,
          2,
          2,
          8,
          5,
          5,
          1,
          4,
          5,
          8,
          14,
          17,
          3,
          6,
          6,
          3,
          5,
          6,
          0,
          10,
          7,
          1,
          1,
          2,
          4,
          4,
          7,
          4,
          1,
          5,
          2,
          3,
          3,
          1,
          0,
          0,
          2,
          0,
          10,
          4,
          21,
          3,
          3,
          3,
          4,
          6,
          3,
          5,
          1,
          2,
          4,
          1,
          5,
          3,
          2,
          1,
          1,
          3,
          2,
          0,
          2,
          0,
          1,
          3,
          2,
          3,
          0,
          1,
          0,
          0,
          1,
          0,
          0,
          0,
          0,
          0,
          0,
          2,
          0,
          0,
          1,
          0,
          0,
          3,
          4,
          2,
          0,
          0,
          0,
          2,
          2,
          0,
          1,
          2,
          3,
          4,
          2,
          3,
          0,
          2,
          1,
          4,
          4,
          0
         ],
         "yaxis": "y"
        },
        {
         "marker": {
          "color": "#F58518"
         },
         "name": "prediction",
         "showlegend": true,
         "type": "bar",
         "x": [
          "2020-11-06T00:00:00",
          "2020-11-07T00:00:00",
          "2020-11-08T00:00:00",
          "2020-11-09T00:00:00",
          "2020-11-10T00:00:00",
          "2020-11-11T00:00:00",
          "2020-11-12T00:00:00",
          "2020-11-13T00:00:00",
          "2020-11-14T00:00:00",
          "2020-11-15T00:00:00",
          "2020-11-16T00:00:00",
          "2020-11-17T00:00:00",
          "2020-11-18T00:00:00",
          "2020-11-19T00:00:00",
          "2020-11-20T00:00:00",
          "2020-11-21T00:00:00",
          "2020-11-22T00:00:00",
          "2020-11-23T00:00:00",
          "2020-11-24T00:00:00",
          "2020-11-25T00:00:00",
          "2020-11-26T00:00:00",
          "2020-11-27T00:00:00",
          "2020-11-28T00:00:00",
          "2020-11-29T00:00:00",
          "2020-11-30T00:00:00",
          "2020-12-01T00:00:00",
          "2020-12-02T00:00:00",
          "2020-12-03T00:00:00",
          "2020-12-04T00:00:00",
          "2020-12-05T00:00:00"
         ],
         "xaxis": "x",
         "y": [
          1,
          1,
          1,
          1,
          1,
          1,
          1,
          1,
          1,
          1,
          1,
          1,
          1,
          1,
          1,
          1,
          1,
          1,
          1,
          1,
          1,
          1,
          1,
          1,
          1,
          1,
          1,
          1,
          1,
          1
         ],
         "yaxis": "y"
        },
        {
         "marker": {
          "color": "#4C78A8"
         },
         "name": "actual",
         "showlegend": false,
         "type": "bar",
         "x": [
          "2020-01-22T00:00:00",
          "2020-01-23T00:00:00",
          "2020-01-24T00:00:00",
          "2020-01-25T00:00:00",
          "2020-01-26T00:00:00",
          "2020-01-27T00:00:00",
          "2020-01-28T00:00:00",
          "2020-01-29T00:00:00",
          "2020-01-30T00:00:00",
          "2020-01-31T00:00:00",
          "2020-02-01T00:00:00",
          "2020-02-02T00:00:00",
          "2020-02-03T00:00:00",
          "2020-02-04T00:00:00",
          "2020-02-05T00:00:00",
          "2020-02-06T00:00:00",
          "2020-02-07T00:00:00",
          "2020-02-08T00:00:00",
          "2020-02-09T00:00:00",
          "2020-02-10T00:00:00",
          "2020-02-11T00:00:00",
          "2020-02-12T00:00:00",
          "2020-02-13T00:00:00",
          "2020-02-14T00:00:00",
          "2020-02-15T00:00:00",
          "2020-02-16T00:00:00",
          "2020-02-17T00:00:00",
          "2020-02-18T00:00:00",
          "2020-02-19T00:00:00",
          "2020-02-20T00:00:00",
          "2020-02-21T00:00:00",
          "2020-02-22T00:00:00",
          "2020-02-23T00:00:00",
          "2020-02-24T00:00:00",
          "2020-02-25T00:00:00",
          "2020-02-26T00:00:00",
          "2020-02-27T00:00:00",
          "2020-02-28T00:00:00",
          "2020-02-29T00:00:00",
          "2020-03-01T00:00:00",
          "2020-03-02T00:00:00",
          "2020-03-03T00:00:00",
          "2020-03-04T00:00:00",
          "2020-03-05T00:00:00",
          "2020-03-06T00:00:00",
          "2020-03-07T00:00:00",
          "2020-03-08T00:00:00",
          "2020-03-09T00:00:00",
          "2020-03-10T00:00:00",
          "2020-03-11T00:00:00",
          "2020-03-12T00:00:00",
          "2020-03-13T00:00:00",
          "2020-03-14T00:00:00",
          "2020-03-15T00:00:00",
          "2020-03-16T00:00:00",
          "2020-03-17T00:00:00",
          "2020-03-18T00:00:00",
          "2020-03-19T00:00:00",
          "2020-03-20T00:00:00",
          "2020-03-21T00:00:00",
          "2020-03-22T00:00:00",
          "2020-03-23T00:00:00",
          "2020-03-24T00:00:00",
          "2020-03-25T00:00:00",
          "2020-03-26T00:00:00",
          "2020-03-27T00:00:00",
          "2020-03-28T00:00:00",
          "2020-03-29T00:00:00",
          "2020-03-30T00:00:00",
          "2020-03-31T00:00:00",
          "2020-04-01T00:00:00",
          "2020-04-02T00:00:00",
          "2020-04-03T00:00:00",
          "2020-04-04T00:00:00",
          "2020-04-05T00:00:00",
          "2020-04-06T00:00:00",
          "2020-04-07T00:00:00",
          "2020-04-08T00:00:00",
          "2020-04-09T00:00:00",
          "2020-04-10T00:00:00",
          "2020-04-11T00:00:00",
          "2020-04-12T00:00:00",
          "2020-04-13T00:00:00",
          "2020-04-14T00:00:00",
          "2020-04-15T00:00:00",
          "2020-04-16T00:00:00",
          "2020-04-17T00:00:00",
          "2020-04-18T00:00:00",
          "2020-04-19T00:00:00",
          "2020-04-20T00:00:00",
          "2020-04-21T00:00:00",
          "2020-04-22T00:00:00",
          "2020-04-23T00:00:00",
          "2020-04-24T00:00:00",
          "2020-04-25T00:00:00",
          "2020-04-26T00:00:00",
          "2020-04-27T00:00:00",
          "2020-04-28T00:00:00",
          "2020-04-29T00:00:00",
          "2020-04-30T00:00:00",
          "2020-05-01T00:00:00",
          "2020-05-02T00:00:00",
          "2020-05-03T00:00:00",
          "2020-05-04T00:00:00",
          "2020-05-05T00:00:00",
          "2020-05-06T00:00:00",
          "2020-05-07T00:00:00",
          "2020-05-08T00:00:00",
          "2020-05-09T00:00:00",
          "2020-05-10T00:00:00",
          "2020-05-11T00:00:00",
          "2020-05-12T00:00:00",
          "2020-05-13T00:00:00",
          "2020-05-14T00:00:00",
          "2020-05-15T00:00:00",
          "2020-05-16T00:00:00",
          "2020-05-17T00:00:00",
          "2020-05-18T00:00:00",
          "2020-05-19T00:00:00",
          "2020-05-20T00:00:00",
          "2020-05-21T00:00:00",
          "2020-05-22T00:00:00",
          "2020-05-23T00:00:00",
          "2020-05-24T00:00:00",
          "2020-05-25T00:00:00",
          "2020-05-26T00:00:00",
          "2020-05-27T00:00:00",
          "2020-05-28T00:00:00",
          "2020-05-29T00:00:00",
          "2020-05-30T00:00:00",
          "2020-05-31T00:00:00",
          "2020-06-01T00:00:00",
          "2020-06-02T00:00:00",
          "2020-06-03T00:00:00",
          "2020-06-04T00:00:00",
          "2020-06-05T00:00:00",
          "2020-06-06T00:00:00",
          "2020-06-07T00:00:00",
          "2020-06-08T00:00:00",
          "2020-06-09T00:00:00",
          "2020-06-10T00:00:00",
          "2020-06-11T00:00:00",
          "2020-06-12T00:00:00",
          "2020-06-13T00:00:00",
          "2020-06-14T00:00:00",
          "2020-06-15T00:00:00",
          "2020-06-16T00:00:00",
          "2020-06-17T00:00:00",
          "2020-06-18T00:00:00",
          "2020-06-19T00:00:00",
          "2020-06-20T00:00:00",
          "2020-06-21T00:00:00",
          "2020-06-22T00:00:00",
          "2020-06-23T00:00:00",
          "2020-06-24T00:00:00",
          "2020-06-25T00:00:00",
          "2020-06-26T00:00:00",
          "2020-06-27T00:00:00",
          "2020-06-28T00:00:00",
          "2020-06-29T00:00:00",
          "2020-06-30T00:00:00",
          "2020-07-01T00:00:00",
          "2020-07-02T00:00:00",
          "2020-07-03T00:00:00",
          "2020-07-04T00:00:00",
          "2020-07-05T00:00:00",
          "2020-07-06T00:00:00",
          "2020-07-07T00:00:00",
          "2020-07-08T00:00:00",
          "2020-07-09T00:00:00",
          "2020-07-10T00:00:00",
          "2020-07-11T00:00:00",
          "2020-07-12T00:00:00",
          "2020-07-13T00:00:00",
          "2020-07-14T00:00:00",
          "2020-07-15T00:00:00",
          "2020-07-16T00:00:00",
          "2020-07-17T00:00:00",
          "2020-07-18T00:00:00",
          "2020-07-19T00:00:00",
          "2020-07-20T00:00:00",
          "2020-07-21T00:00:00",
          "2020-07-22T00:00:00",
          "2020-07-23T00:00:00",
          "2020-07-24T00:00:00",
          "2020-07-25T00:00:00",
          "2020-07-26T00:00:00",
          "2020-07-27T00:00:00",
          "2020-07-28T00:00:00",
          "2020-07-29T00:00:00",
          "2020-07-30T00:00:00",
          "2020-07-31T00:00:00",
          "2020-08-01T00:00:00",
          "2020-08-02T00:00:00",
          "2020-08-03T00:00:00",
          "2020-08-04T00:00:00",
          "2020-08-05T00:00:00",
          "2020-08-06T00:00:00",
          "2020-08-07T00:00:00",
          "2020-08-08T00:00:00",
          "2020-08-09T00:00:00",
          "2020-08-10T00:00:00",
          "2020-08-11T00:00:00",
          "2020-08-12T00:00:00",
          "2020-08-13T00:00:00",
          "2020-08-14T00:00:00",
          "2020-08-15T00:00:00",
          "2020-08-16T00:00:00",
          "2020-08-17T00:00:00",
          "2020-08-18T00:00:00",
          "2020-08-19T00:00:00",
          "2020-08-20T00:00:00",
          "2020-08-21T00:00:00",
          "2020-08-22T00:00:00",
          "2020-08-23T00:00:00",
          "2020-08-24T00:00:00",
          "2020-08-25T00:00:00",
          "2020-08-26T00:00:00",
          "2020-08-27T00:00:00",
          "2020-08-28T00:00:00",
          "2020-08-29T00:00:00",
          "2020-08-30T00:00:00",
          "2020-08-31T00:00:00",
          "2020-09-01T00:00:00",
          "2020-09-02T00:00:00",
          "2020-09-03T00:00:00",
          "2020-09-04T00:00:00",
          "2020-09-05T00:00:00",
          "2020-09-06T00:00:00",
          "2020-09-07T00:00:00",
          "2020-09-08T00:00:00",
          "2020-09-09T00:00:00",
          "2020-09-10T00:00:00",
          "2020-09-11T00:00:00",
          "2020-09-12T00:00:00",
          "2020-09-13T00:00:00",
          "2020-09-14T00:00:00",
          "2020-09-15T00:00:00",
          "2020-09-16T00:00:00",
          "2020-09-17T00:00:00",
          "2020-09-18T00:00:00",
          "2020-09-19T00:00:00",
          "2020-09-20T00:00:00",
          "2020-09-21T00:00:00",
          "2020-09-22T00:00:00",
          "2020-09-23T00:00:00",
          "2020-09-24T00:00:00",
          "2020-09-25T00:00:00",
          "2020-09-26T00:00:00",
          "2020-09-27T00:00:00",
          "2020-09-28T00:00:00",
          "2020-09-29T00:00:00",
          "2020-09-30T00:00:00",
          "2020-10-01T00:00:00",
          "2020-10-02T00:00:00",
          "2020-10-03T00:00:00",
          "2020-10-04T00:00:00",
          "2020-10-05T00:00:00",
          "2020-10-06T00:00:00",
          "2020-10-07T00:00:00",
          "2020-10-08T00:00:00",
          "2020-10-09T00:00:00",
          "2020-10-10T00:00:00",
          "2020-10-11T00:00:00",
          "2020-10-12T00:00:00",
          "2020-10-13T00:00:00",
          "2020-10-14T00:00:00",
          "2020-10-15T00:00:00",
          "2020-10-16T00:00:00",
          "2020-10-17T00:00:00",
          "2020-10-18T00:00:00",
          "2020-10-19T00:00:00",
          "2020-10-20T00:00:00",
          "2020-10-21T00:00:00",
          "2020-10-22T00:00:00",
          "2020-10-23T00:00:00",
          "2020-10-24T00:00:00",
          "2020-10-25T00:00:00",
          "2020-10-26T00:00:00",
          "2020-10-27T00:00:00",
          "2020-10-28T00:00:00",
          "2020-10-29T00:00:00",
          "2020-10-30T00:00:00",
          "2020-10-31T00:00:00",
          "2020-11-01T00:00:00",
          "2020-11-02T00:00:00",
          "2020-11-03T00:00:00",
          "2020-11-04T00:00:00",
          "2020-11-05T00:00:00"
         ],
         "xaxis": "x2",
         "y": [
          0,
          0,
          0,
          0,
          0,
          0,
          0,
          0,
          0,
          0,
          0,
          0,
          0,
          0,
          0,
          0,
          0,
          0,
          0,
          0,
          0,
          0,
          0,
          0,
          0,
          0,
          0,
          0,
          0,
          0,
          0,
          0,
          0,
          0,
          0,
          0,
          0,
          1,
          0,
          0,
          0,
          0,
          0,
          0,
          0,
          0,
          0,
          1,
          0,
          0,
          0,
          0,
          0,
          0,
          0,
          1,
          5,
          0,
          4,
          10,
          8,
          10,
          4,
          7,
          14,
          5,
          19,
          22,
          20,
          4,
          39,
          10,
          26,
          4,
          18,
          6,
          16,
          22,
          12,
          17,
          13,
          5,
          20,
          30,
          34,
          35,
          51,
          49,
          85,
          38,
          0,
          208,
          108,
          114,
          87,
          91,
          64,
          195,
          196,
          204,
          238,
          218,
          170,
          244,
          148,
          195,
          381,
          386,
          239,
          248,
          242,
          146,
          184,
          191,
          288,
          171,
          338,
          216,
          226,
          276,
          339,
          245,
          265,
          313,
          229,
          276,
          389,
          182,
          387,
          553,
          307,
          416,
          241,
          347,
          350,
          328,
          389,
          253,
          315,
          663,
          409,
          681,
          627,
          501,
          403,
          573,
          490,
          587,
          745,
          667,
          661,
          436,
          675,
          452,
          649,
          594,
          684,
          779,
          490,
          566,
          561,
          790,
          626,
          454,
          603,
          544,
          575,
          503,
          460,
          499,
          575,
          664,
          571,
          595,
          463,
          643,
          595,
          600,
          653,
          556,
          562,
          576,
          543,
          604,
          591,
          438,
          555,
          648,
          624,
          404,
          481,
          462,
          386,
          304,
          288,
          304,
          457,
          354,
          443,
          453,
          437,
          290,
          423,
          453,
          373,
          329,
          325,
          298,
          417,
          410,
          593,
          476,
          340,
          601,
          322,
          321,
          252,
          221,
          296,
          160,
          250,
          138,
          143,
          239,
          216,
          125,
          155,
          162,
          100,
          155,
          296,
          176,
          197,
          188,
          160,
          79,
          132,
          90,
          126,
          131,
          221,
          189,
          97,
          195,
          176,
          111,
          125,
          213,
          136,
          126,
          136,
          187,
          201,
          153,
          126,
          160,
          58,
          120,
          118,
          155,
          103,
          151,
          111,
          163,
          164,
          225,
          179,
          148,
          212,
          113,
          133,
          118,
          72,
          37,
          138,
          77,
          48,
          62,
          119,
          113,
          147,
          150,
          170,
          162,
          111,
          72,
          137,
          155,
          180
         ],
         "yaxis": "y2"
        },
        {
         "marker": {
          "color": "#F58518"
         },
         "name": "prediction",
         "showlegend": false,
         "type": "bar",
         "x": [
          "2020-11-06T00:00:00",
          "2020-11-07T00:00:00",
          "2020-11-08T00:00:00",
          "2020-11-09T00:00:00",
          "2020-11-10T00:00:00",
          "2020-11-11T00:00:00",
          "2020-11-12T00:00:00",
          "2020-11-13T00:00:00",
          "2020-11-14T00:00:00",
          "2020-11-15T00:00:00",
          "2020-11-16T00:00:00",
          "2020-11-17T00:00:00",
          "2020-11-18T00:00:00",
          "2020-11-19T00:00:00",
          "2020-11-20T00:00:00",
          "2020-11-21T00:00:00",
          "2020-11-22T00:00:00",
          "2020-11-23T00:00:00",
          "2020-11-24T00:00:00",
          "2020-11-25T00:00:00",
          "2020-11-26T00:00:00",
          "2020-11-27T00:00:00",
          "2020-11-28T00:00:00",
          "2020-11-29T00:00:00",
          "2020-11-30T00:00:00",
          "2020-12-01T00:00:00",
          "2020-12-02T00:00:00",
          "2020-12-03T00:00:00",
          "2020-12-04T00:00:00",
          "2020-12-05T00:00:00"
         ],
         "xaxis": "x2",
         "y": [
          108,
          107,
          105,
          104,
          103,
          101,
          100,
          99,
          97,
          96,
          95,
          94,
          92,
          91,
          90,
          88,
          87,
          86,
          85,
          83,
          82,
          81,
          80,
          78,
          77,
          76,
          75,
          74,
          72,
          71
         ],
         "yaxis": "y2"
        }
       ],
       "layout": {
        "annotations": [
         {
          "font": {
           "size": 18
          },
          "showarrow": false,
          "text": "<b>Deaths</b>",
          "x": 0.1,
          "xanchor": "left",
          "xref": "paper",
          "y": 0.95,
          "yref": "paper"
         },
         {
          "font": {
           "size": 18
          },
          "showarrow": false,
          "text": "<b>Cases</b>",
          "x": 0.1,
          "xanchor": "left",
          "xref": "paper",
          "y": 0.3,
          "yref": "paper"
         }
        ],
        "legend": {
         "font": {
          "size": 15
         },
         "orientation": "h",
         "x": 0.5,
         "xanchor": "center",
         "y": -0.05
        },
        "margin": {
         "b": 0,
         "l": 50,
         "r": 10,
         "t": 40
        },
        "template": {
         "data": {
          "bar": [
           {
            "error_x": {
             "color": "#2a3f5f"
            },
            "error_y": {
             "color": "#2a3f5f"
            },
            "marker": {
             "line": {
              "color": "#E5ECF6",
              "width": 0.5
             },
             "pattern": {
              "fillmode": "overlay",
              "size": 10,
              "solidity": 0.2
             }
            },
            "type": "bar"
           }
          ],
          "barpolar": [
           {
            "marker": {
             "line": {
              "color": "#E5ECF6",
              "width": 0.5
             },
             "pattern": {
              "fillmode": "overlay",
              "size": 10,
              "solidity": 0.2
             }
            },
            "type": "barpolar"
           }
          ],
          "carpet": [
           {
            "aaxis": {
             "endlinecolor": "#2a3f5f",
             "gridcolor": "white",
             "linecolor": "white",
             "minorgridcolor": "white",
             "startlinecolor": "#2a3f5f"
            },
            "baxis": {
             "endlinecolor": "#2a3f5f",
             "gridcolor": "white",
             "linecolor": "white",
             "minorgridcolor": "white",
             "startlinecolor": "#2a3f5f"
            },
            "type": "carpet"
           }
          ],
          "choropleth": [
           {
            "colorbar": {
             "outlinewidth": 0,
             "ticks": ""
            },
            "type": "choropleth"
           }
          ],
          "contour": [
           {
            "colorbar": {
             "outlinewidth": 0,
             "ticks": ""
            },
            "colorscale": [
             [
              0,
              "#0d0887"
             ],
             [
              0.1111111111111111,
              "#46039f"
             ],
             [
              0.2222222222222222,
              "#7201a8"
             ],
             [
              0.3333333333333333,
              "#9c179e"
             ],
             [
              0.4444444444444444,
              "#bd3786"
             ],
             [
              0.5555555555555556,
              "#d8576b"
             ],
             [
              0.6666666666666666,
              "#ed7953"
             ],
             [
              0.7777777777777778,
              "#fb9f3a"
             ],
             [
              0.8888888888888888,
              "#fdca26"
             ],
             [
              1,
              "#f0f921"
             ]
            ],
            "type": "contour"
           }
          ],
          "contourcarpet": [
           {
            "colorbar": {
             "outlinewidth": 0,
             "ticks": ""
            },
            "type": "contourcarpet"
           }
          ],
          "heatmap": [
           {
            "colorbar": {
             "outlinewidth": 0,
             "ticks": ""
            },
            "colorscale": [
             [
              0,
              "#0d0887"
             ],
             [
              0.1111111111111111,
              "#46039f"
             ],
             [
              0.2222222222222222,
              "#7201a8"
             ],
             [
              0.3333333333333333,
              "#9c179e"
             ],
             [
              0.4444444444444444,
              "#bd3786"
             ],
             [
              0.5555555555555556,
              "#d8576b"
             ],
             [
              0.6666666666666666,
              "#ed7953"
             ],
             [
              0.7777777777777778,
              "#fb9f3a"
             ],
             [
              0.8888888888888888,
              "#fdca26"
             ],
             [
              1,
              "#f0f921"
             ]
            ],
            "type": "heatmap"
           }
          ],
          "heatmapgl": [
           {
            "colorbar": {
             "outlinewidth": 0,
             "ticks": ""
            },
            "colorscale": [
             [
              0,
              "#0d0887"
             ],
             [
              0.1111111111111111,
              "#46039f"
             ],
             [
              0.2222222222222222,
              "#7201a8"
             ],
             [
              0.3333333333333333,
              "#9c179e"
             ],
             [
              0.4444444444444444,
              "#bd3786"
             ],
             [
              0.5555555555555556,
              "#d8576b"
             ],
             [
              0.6666666666666666,
              "#ed7953"
             ],
             [
              0.7777777777777778,
              "#fb9f3a"
             ],
             [
              0.8888888888888888,
              "#fdca26"
             ],
             [
              1,
              "#f0f921"
             ]
            ],
            "type": "heatmapgl"
           }
          ],
          "histogram": [
           {
            "marker": {
             "pattern": {
              "fillmode": "overlay",
              "size": 10,
              "solidity": 0.2
             }
            },
            "type": "histogram"
           }
          ],
          "histogram2d": [
           {
            "colorbar": {
             "outlinewidth": 0,
             "ticks": ""
            },
            "colorscale": [
             [
              0,
              "#0d0887"
             ],
             [
              0.1111111111111111,
              "#46039f"
             ],
             [
              0.2222222222222222,
              "#7201a8"
             ],
             [
              0.3333333333333333,
              "#9c179e"
             ],
             [
              0.4444444444444444,
              "#bd3786"
             ],
             [
              0.5555555555555556,
              "#d8576b"
             ],
             [
              0.6666666666666666,
              "#ed7953"
             ],
             [
              0.7777777777777778,
              "#fb9f3a"
             ],
             [
              0.8888888888888888,
              "#fdca26"
             ],
             [
              1,
              "#f0f921"
             ]
            ],
            "type": "histogram2d"
           }
          ],
          "histogram2dcontour": [
           {
            "colorbar": {
             "outlinewidth": 0,
             "ticks": ""
            },
            "colorscale": [
             [
              0,
              "#0d0887"
             ],
             [
              0.1111111111111111,
              "#46039f"
             ],
             [
              0.2222222222222222,
              "#7201a8"
             ],
             [
              0.3333333333333333,
              "#9c179e"
             ],
             [
              0.4444444444444444,
              "#bd3786"
             ],
             [
              0.5555555555555556,
              "#d8576b"
             ],
             [
              0.6666666666666666,
              "#ed7953"
             ],
             [
              0.7777777777777778,
              "#fb9f3a"
             ],
             [
              0.8888888888888888,
              "#fdca26"
             ],
             [
              1,
              "#f0f921"
             ]
            ],
            "type": "histogram2dcontour"
           }
          ],
          "mesh3d": [
           {
            "colorbar": {
             "outlinewidth": 0,
             "ticks": ""
            },
            "type": "mesh3d"
           }
          ],
          "parcoords": [
           {
            "line": {
             "colorbar": {
              "outlinewidth": 0,
              "ticks": ""
             }
            },
            "type": "parcoords"
           }
          ],
          "pie": [
           {
            "automargin": true,
            "type": "pie"
           }
          ],
          "scatter": [
           {
            "fillpattern": {
             "fillmode": "overlay",
             "size": 10,
             "solidity": 0.2
            },
            "type": "scatter"
           }
          ],
          "scatter3d": [
           {
            "line": {
             "colorbar": {
              "outlinewidth": 0,
              "ticks": ""
             }
            },
            "marker": {
             "colorbar": {
              "outlinewidth": 0,
              "ticks": ""
             }
            },
            "type": "scatter3d"
           }
          ],
          "scattercarpet": [
           {
            "marker": {
             "colorbar": {
              "outlinewidth": 0,
              "ticks": ""
             }
            },
            "type": "scattercarpet"
           }
          ],
          "scattergeo": [
           {
            "marker": {
             "colorbar": {
              "outlinewidth": 0,
              "ticks": ""
             }
            },
            "type": "scattergeo"
           }
          ],
          "scattergl": [
           {
            "marker": {
             "colorbar": {
              "outlinewidth": 0,
              "ticks": ""
             }
            },
            "type": "scattergl"
           }
          ],
          "scattermapbox": [
           {
            "marker": {
             "colorbar": {
              "outlinewidth": 0,
              "ticks": ""
             }
            },
            "type": "scattermapbox"
           }
          ],
          "scatterpolar": [
           {
            "marker": {
             "colorbar": {
              "outlinewidth": 0,
              "ticks": ""
             }
            },
            "type": "scatterpolar"
           }
          ],
          "scatterpolargl": [
           {
            "marker": {
             "colorbar": {
              "outlinewidth": 0,
              "ticks": ""
             }
            },
            "type": "scatterpolargl"
           }
          ],
          "scatterternary": [
           {
            "marker": {
             "colorbar": {
              "outlinewidth": 0,
              "ticks": ""
             }
            },
            "type": "scatterternary"
           }
          ],
          "surface": [
           {
            "colorbar": {
             "outlinewidth": 0,
             "ticks": ""
            },
            "colorscale": [
             [
              0,
              "#0d0887"
             ],
             [
              0.1111111111111111,
              "#46039f"
             ],
             [
              0.2222222222222222,
              "#7201a8"
             ],
             [
              0.3333333333333333,
              "#9c179e"
             ],
             [
              0.4444444444444444,
              "#bd3786"
             ],
             [
              0.5555555555555556,
              "#d8576b"
             ],
             [
              0.6666666666666666,
              "#ed7953"
             ],
             [
              0.7777777777777778,
              "#fb9f3a"
             ],
             [
              0.8888888888888888,
              "#fdca26"
             ],
             [
              1,
              "#f0f921"
             ]
            ],
            "type": "surface"
           }
          ],
          "table": [
           {
            "cells": {
             "fill": {
              "color": "#EBF0F8"
             },
             "line": {
              "color": "white"
             }
            },
            "header": {
             "fill": {
              "color": "#C8D4E3"
             },
             "line": {
              "color": "white"
             }
            },
            "type": "table"
           }
          ]
         },
         "layout": {
          "annotationdefaults": {
           "arrowcolor": "#2a3f5f",
           "arrowhead": 0,
           "arrowwidth": 1
          },
          "autotypenumbers": "strict",
          "coloraxis": {
           "colorbar": {
            "outlinewidth": 0,
            "ticks": ""
           }
          },
          "colorscale": {
           "diverging": [
            [
             0,
             "#8e0152"
            ],
            [
             0.1,
             "#c51b7d"
            ],
            [
             0.2,
             "#de77ae"
            ],
            [
             0.3,
             "#f1b6da"
            ],
            [
             0.4,
             "#fde0ef"
            ],
            [
             0.5,
             "#f7f7f7"
            ],
            [
             0.6,
             "#e6f5d0"
            ],
            [
             0.7,
             "#b8e186"
            ],
            [
             0.8,
             "#7fbc41"
            ],
            [
             0.9,
             "#4d9221"
            ],
            [
             1,
             "#276419"
            ]
           ],
           "sequential": [
            [
             0,
             "#0d0887"
            ],
            [
             0.1111111111111111,
             "#46039f"
            ],
            [
             0.2222222222222222,
             "#7201a8"
            ],
            [
             0.3333333333333333,
             "#9c179e"
            ],
            [
             0.4444444444444444,
             "#bd3786"
            ],
            [
             0.5555555555555556,
             "#d8576b"
            ],
            [
             0.6666666666666666,
             "#ed7953"
            ],
            [
             0.7777777777777778,
             "#fb9f3a"
            ],
            [
             0.8888888888888888,
             "#fdca26"
            ],
            [
             1,
             "#f0f921"
            ]
           ],
           "sequentialminus": [
            [
             0,
             "#0d0887"
            ],
            [
             0.1111111111111111,
             "#46039f"
            ],
            [
             0.2222222222222222,
             "#7201a8"
            ],
            [
             0.3333333333333333,
             "#9c179e"
            ],
            [
             0.4444444444444444,
             "#bd3786"
            ],
            [
             0.5555555555555556,
             "#d8576b"
            ],
            [
             0.6666666666666666,
             "#ed7953"
            ],
            [
             0.7777777777777778,
             "#fb9f3a"
            ],
            [
             0.8888888888888888,
             "#fdca26"
            ],
            [
             1,
             "#f0f921"
            ]
           ]
          },
          "colorway": [
           "#636efa",
           "#EF553B",
           "#00cc96",
           "#ab63fa",
           "#FFA15A",
           "#19d3f3",
           "#FF6692",
           "#B6E880",
           "#FF97FF",
           "#FECB52"
          ],
          "font": {
           "color": "#2a3f5f"
          },
          "geo": {
           "bgcolor": "white",
           "lakecolor": "white",
           "landcolor": "#E5ECF6",
           "showlakes": true,
           "showland": true,
           "subunitcolor": "white"
          },
          "hoverlabel": {
           "align": "left"
          },
          "hovermode": "closest",
          "mapbox": {
           "style": "light"
          },
          "paper_bgcolor": "white",
          "plot_bgcolor": "#E5ECF6",
          "polar": {
           "angularaxis": {
            "gridcolor": "white",
            "linecolor": "white",
            "ticks": ""
           },
           "bgcolor": "#E5ECF6",
           "radialaxis": {
            "gridcolor": "white",
            "linecolor": "white",
            "ticks": ""
           }
          },
          "scene": {
           "xaxis": {
            "backgroundcolor": "#E5ECF6",
            "gridcolor": "white",
            "gridwidth": 2,
            "linecolor": "white",
            "showbackground": true,
            "ticks": "",
            "zerolinecolor": "white"
           },
           "yaxis": {
            "backgroundcolor": "#E5ECF6",
            "gridcolor": "white",
            "gridwidth": 2,
            "linecolor": "white",
            "showbackground": true,
            "ticks": "",
            "zerolinecolor": "white"
           },
           "zaxis": {
            "backgroundcolor": "#E5ECF6",
            "gridcolor": "white",
            "gridwidth": 2,
            "linecolor": "white",
            "showbackground": true,
            "ticks": "",
            "zerolinecolor": "white"
           }
          },
          "shapedefaults": {
           "line": {
            "color": "#2a3f5f"
           }
          },
          "ternary": {
           "aaxis": {
            "gridcolor": "white",
            "linecolor": "white",
            "ticks": ""
           },
           "baxis": {
            "gridcolor": "white",
            "linecolor": "white",
            "ticks": ""
           },
           "bgcolor": "#E5ECF6",
           "caxis": {
            "gridcolor": "white",
            "linecolor": "white",
            "ticks": ""
           }
          },
          "title": {
           "x": 0.05
          },
          "xaxis": {
           "automargin": true,
           "gridcolor": "white",
           "linecolor": "white",
           "ticks": "",
           "title": {
            "standoff": 15
           },
           "zerolinecolor": "white",
           "zerolinewidth": 2
          },
          "yaxis": {
           "automargin": true,
           "gridcolor": "white",
           "linecolor": "white",
           "ticks": "",
           "title": {
            "standoff": 15
           },
           "zerolinecolor": "white",
           "zerolinewidth": 2
          }
         }
        },
        "title": {
         "font": {
          "size": 20
         },
         "text": "Nigeria",
         "x": 0.5,
         "y": 0.97
        },
        "xaxis": {
         "anchor": "y",
         "domain": [
          0,
          1
         ]
        },
        "xaxis2": {
         "anchor": "y2",
         "domain": [
          0,
          1
         ]
        },
        "yaxis": {
         "anchor": "x",
         "domain": [
          0.55,
          1
         ]
        },
        "yaxis2": {
         "anchor": "x2",
         "domain": [
          0,
          0.45
         ]
        }
       }
      },
      "text/html": [
       "<div>                            <div id=\"ae2e6404-f07b-4e82-8d8a-f1e5260446c6\" class=\"plotly-graph-div\" style=\"height:525px; width:100%;\"></div>            <script type=\"text/javascript\">                require([\"plotly\"], function(Plotly) {                    window.PLOTLYENV=window.PLOTLYENV || {};                                    if (document.getElementById(\"ae2e6404-f07b-4e82-8d8a-f1e5260446c6\")) {                    Plotly.newPlot(                        \"ae2e6404-f07b-4e82-8d8a-f1e5260446c6\",                        [{\"marker\":{\"color\":\"#4C78A8\"},\"name\":\"actual\",\"showlegend\":true,\"x\":[\"2020-01-22T00:00:00\",\"2020-01-23T00:00:00\",\"2020-01-24T00:00:00\",\"2020-01-25T00:00:00\",\"2020-01-26T00:00:00\",\"2020-01-27T00:00:00\",\"2020-01-28T00:00:00\",\"2020-01-29T00:00:00\",\"2020-01-30T00:00:00\",\"2020-01-31T00:00:00\",\"2020-02-01T00:00:00\",\"2020-02-02T00:00:00\",\"2020-02-03T00:00:00\",\"2020-02-04T00:00:00\",\"2020-02-05T00:00:00\",\"2020-02-06T00:00:00\",\"2020-02-07T00:00:00\",\"2020-02-08T00:00:00\",\"2020-02-09T00:00:00\",\"2020-02-10T00:00:00\",\"2020-02-11T00:00:00\",\"2020-02-12T00:00:00\",\"2020-02-13T00:00:00\",\"2020-02-14T00:00:00\",\"2020-02-15T00:00:00\",\"2020-02-16T00:00:00\",\"2020-02-17T00:00:00\",\"2020-02-18T00:00:00\",\"2020-02-19T00:00:00\",\"2020-02-20T00:00:00\",\"2020-02-21T00:00:00\",\"2020-02-22T00:00:00\",\"2020-02-23T00:00:00\",\"2020-02-24T00:00:00\",\"2020-02-25T00:00:00\",\"2020-02-26T00:00:00\",\"2020-02-27T00:00:00\",\"2020-02-28T00:00:00\",\"2020-02-29T00:00:00\",\"2020-03-01T00:00:00\",\"2020-03-02T00:00:00\",\"2020-03-03T00:00:00\",\"2020-03-04T00:00:00\",\"2020-03-05T00:00:00\",\"2020-03-06T00:00:00\",\"2020-03-07T00:00:00\",\"2020-03-08T00:00:00\",\"2020-03-09T00:00:00\",\"2020-03-10T00:00:00\",\"2020-03-11T00:00:00\",\"2020-03-12T00:00:00\",\"2020-03-13T00:00:00\",\"2020-03-14T00:00:00\",\"2020-03-15T00:00:00\",\"2020-03-16T00:00:00\",\"2020-03-17T00:00:00\",\"2020-03-18T00:00:00\",\"2020-03-19T00:00:00\",\"2020-03-20T00:00:00\",\"2020-03-21T00:00:00\",\"2020-03-22T00:00:00\",\"2020-03-23T00:00:00\",\"2020-03-24T00:00:00\",\"2020-03-25T00:00:00\",\"2020-03-26T00:00:00\",\"2020-03-27T00:00:00\",\"2020-03-28T00:00:00\",\"2020-03-29T00:00:00\",\"2020-03-30T00:00:00\",\"2020-03-31T00:00:00\",\"2020-04-01T00:00:00\",\"2020-04-02T00:00:00\",\"2020-04-03T00:00:00\",\"2020-04-04T00:00:00\",\"2020-04-05T00:00:00\",\"2020-04-06T00:00:00\",\"2020-04-07T00:00:00\",\"2020-04-08T00:00:00\",\"2020-04-09T00:00:00\",\"2020-04-10T00:00:00\",\"2020-04-11T00:00:00\",\"2020-04-12T00:00:00\",\"2020-04-13T00:00:00\",\"2020-04-14T00:00:00\",\"2020-04-15T00:00:00\",\"2020-04-16T00:00:00\",\"2020-04-17T00:00:00\",\"2020-04-18T00:00:00\",\"2020-04-19T00:00:00\",\"2020-04-20T00:00:00\",\"2020-04-21T00:00:00\",\"2020-04-22T00:00:00\",\"2020-04-23T00:00:00\",\"2020-04-24T00:00:00\",\"2020-04-25T00:00:00\",\"2020-04-26T00:00:00\",\"2020-04-27T00:00:00\",\"2020-04-28T00:00:00\",\"2020-04-29T00:00:00\",\"2020-04-30T00:00:00\",\"2020-05-01T00:00:00\",\"2020-05-02T00:00:00\",\"2020-05-03T00:00:00\",\"2020-05-04T00:00:00\",\"2020-05-05T00:00:00\",\"2020-05-06T00:00:00\",\"2020-05-07T00:00:00\",\"2020-05-08T00:00:00\",\"2020-05-09T00:00:00\",\"2020-05-10T00:00:00\",\"2020-05-11T00:00:00\",\"2020-05-12T00:00:00\",\"2020-05-13T00:00:00\",\"2020-05-14T00:00:00\",\"2020-05-15T00:00:00\",\"2020-05-16T00:00:00\",\"2020-05-17T00:00:00\",\"2020-05-18T00:00:00\",\"2020-05-19T00:00:00\",\"2020-05-20T00:00:00\",\"2020-05-21T00:00:00\",\"2020-05-22T00:00:00\",\"2020-05-23T00:00:00\",\"2020-05-24T00:00:00\",\"2020-05-25T00:00:00\",\"2020-05-26T00:00:00\",\"2020-05-27T00:00:00\",\"2020-05-28T00:00:00\",\"2020-05-29T00:00:00\",\"2020-05-30T00:00:00\",\"2020-05-31T00:00:00\",\"2020-06-01T00:00:00\",\"2020-06-02T00:00:00\",\"2020-06-03T00:00:00\",\"2020-06-04T00:00:00\",\"2020-06-05T00:00:00\",\"2020-06-06T00:00:00\",\"2020-06-07T00:00:00\",\"2020-06-08T00:00:00\",\"2020-06-09T00:00:00\",\"2020-06-10T00:00:00\",\"2020-06-11T00:00:00\",\"2020-06-12T00:00:00\",\"2020-06-13T00:00:00\",\"2020-06-14T00:00:00\",\"2020-06-15T00:00:00\",\"2020-06-16T00:00:00\",\"2020-06-17T00:00:00\",\"2020-06-18T00:00:00\",\"2020-06-19T00:00:00\",\"2020-06-20T00:00:00\",\"2020-06-21T00:00:00\",\"2020-06-22T00:00:00\",\"2020-06-23T00:00:00\",\"2020-06-24T00:00:00\",\"2020-06-25T00:00:00\",\"2020-06-26T00:00:00\",\"2020-06-27T00:00:00\",\"2020-06-28T00:00:00\",\"2020-06-29T00:00:00\",\"2020-06-30T00:00:00\",\"2020-07-01T00:00:00\",\"2020-07-02T00:00:00\",\"2020-07-03T00:00:00\",\"2020-07-04T00:00:00\",\"2020-07-05T00:00:00\",\"2020-07-06T00:00:00\",\"2020-07-07T00:00:00\",\"2020-07-08T00:00:00\",\"2020-07-09T00:00:00\",\"2020-07-10T00:00:00\",\"2020-07-11T00:00:00\",\"2020-07-12T00:00:00\",\"2020-07-13T00:00:00\",\"2020-07-14T00:00:00\",\"2020-07-15T00:00:00\",\"2020-07-16T00:00:00\",\"2020-07-17T00:00:00\",\"2020-07-18T00:00:00\",\"2020-07-19T00:00:00\",\"2020-07-20T00:00:00\",\"2020-07-21T00:00:00\",\"2020-07-22T00:00:00\",\"2020-07-23T00:00:00\",\"2020-07-24T00:00:00\",\"2020-07-25T00:00:00\",\"2020-07-26T00:00:00\",\"2020-07-27T00:00:00\",\"2020-07-28T00:00:00\",\"2020-07-29T00:00:00\",\"2020-07-30T00:00:00\",\"2020-07-31T00:00:00\",\"2020-08-01T00:00:00\",\"2020-08-02T00:00:00\",\"2020-08-03T00:00:00\",\"2020-08-04T00:00:00\",\"2020-08-05T00:00:00\",\"2020-08-06T00:00:00\",\"2020-08-07T00:00:00\",\"2020-08-08T00:00:00\",\"2020-08-09T00:00:00\",\"2020-08-10T00:00:00\",\"2020-08-11T00:00:00\",\"2020-08-12T00:00:00\",\"2020-08-13T00:00:00\",\"2020-08-14T00:00:00\",\"2020-08-15T00:00:00\",\"2020-08-16T00:00:00\",\"2020-08-17T00:00:00\",\"2020-08-18T00:00:00\",\"2020-08-19T00:00:00\",\"2020-08-20T00:00:00\",\"2020-08-21T00:00:00\",\"2020-08-22T00:00:00\",\"2020-08-23T00:00:00\",\"2020-08-24T00:00:00\",\"2020-08-25T00:00:00\",\"2020-08-26T00:00:00\",\"2020-08-27T00:00:00\",\"2020-08-28T00:00:00\",\"2020-08-29T00:00:00\",\"2020-08-30T00:00:00\",\"2020-08-31T00:00:00\",\"2020-09-01T00:00:00\",\"2020-09-02T00:00:00\",\"2020-09-03T00:00:00\",\"2020-09-04T00:00:00\",\"2020-09-05T00:00:00\",\"2020-09-06T00:00:00\",\"2020-09-07T00:00:00\",\"2020-09-08T00:00:00\",\"2020-09-09T00:00:00\",\"2020-09-10T00:00:00\",\"2020-09-11T00:00:00\",\"2020-09-12T00:00:00\",\"2020-09-13T00:00:00\",\"2020-09-14T00:00:00\",\"2020-09-15T00:00:00\",\"2020-09-16T00:00:00\",\"2020-09-17T00:00:00\",\"2020-09-18T00:00:00\",\"2020-09-19T00:00:00\",\"2020-09-20T00:00:00\",\"2020-09-21T00:00:00\",\"2020-09-22T00:00:00\",\"2020-09-23T00:00:00\",\"2020-09-24T00:00:00\",\"2020-09-25T00:00:00\",\"2020-09-26T00:00:00\",\"2020-09-27T00:00:00\",\"2020-09-28T00:00:00\",\"2020-09-29T00:00:00\",\"2020-09-30T00:00:00\",\"2020-10-01T00:00:00\",\"2020-10-02T00:00:00\",\"2020-10-03T00:00:00\",\"2020-10-04T00:00:00\",\"2020-10-05T00:00:00\",\"2020-10-06T00:00:00\",\"2020-10-07T00:00:00\",\"2020-10-08T00:00:00\",\"2020-10-09T00:00:00\",\"2020-10-10T00:00:00\",\"2020-10-11T00:00:00\",\"2020-10-12T00:00:00\",\"2020-10-13T00:00:00\",\"2020-10-14T00:00:00\",\"2020-10-15T00:00:00\",\"2020-10-16T00:00:00\",\"2020-10-17T00:00:00\",\"2020-10-18T00:00:00\",\"2020-10-19T00:00:00\",\"2020-10-20T00:00:00\",\"2020-10-21T00:00:00\",\"2020-10-22T00:00:00\",\"2020-10-23T00:00:00\",\"2020-10-24T00:00:00\",\"2020-10-25T00:00:00\",\"2020-10-26T00:00:00\",\"2020-10-27T00:00:00\",\"2020-10-28T00:00:00\",\"2020-10-29T00:00:00\",\"2020-10-30T00:00:00\",\"2020-10-31T00:00:00\",\"2020-11-01T00:00:00\",\"2020-11-02T00:00:00\",\"2020-11-03T00:00:00\",\"2020-11-04T00:00:00\",\"2020-11-05T00:00:00\"],\"y\":[0,0,0,0,0,0,0,0,0,0,0,0,0,0,0,0,0,0,0,0,0,0,0,0,0,0,0,0,0,0,0,0,0,0,0,0,0,0,0,0,0,0,0,0,0,0,0,0,0,0,0,0,0,0,0,0,0,0,0,0,0,1,0,0,0,0,0,0,1,0,0,0,2,0,1,0,1,0,1,0,3,0,0,1,1,1,4,2,2,1,0,6,3,1,3,5,0,4,7,7,10,17,2,6,5,5,4,10,11,15,7,8,6,3,4,5,6,9,1,8,11,10,0,5,7,16,5,5,2,12,14,12,15,1,8,10,9,12,7,4,17,5,12,8,13,4,31,14,6,12,19,12,7,8,9,7,5,4,7,8,17,13,13,12,6,11,9,15,15,5,20,15,16,4,10,6,9,3,6,11,12,4,8,20,12,11,2,2,8,5,5,1,4,5,8,14,17,3,6,6,3,5,6,0,10,7,1,1,2,4,4,7,4,1,5,2,3,3,1,0,0,2,0,10,4,21,3,3,3,4,6,3,5,1,2,4,1,5,3,2,1,1,3,2,0,2,0,1,3,2,3,0,1,0,0,1,0,0,0,0,0,0,2,0,0,1,0,0,3,4,2,0,0,0,2,2,0,1,2,3,4,2,3,0,2,1,4,4,0],\"type\":\"bar\",\"xaxis\":\"x\",\"yaxis\":\"y\"},{\"marker\":{\"color\":\"#F58518\"},\"name\":\"prediction\",\"showlegend\":true,\"x\":[\"2020-11-06T00:00:00\",\"2020-11-07T00:00:00\",\"2020-11-08T00:00:00\",\"2020-11-09T00:00:00\",\"2020-11-10T00:00:00\",\"2020-11-11T00:00:00\",\"2020-11-12T00:00:00\",\"2020-11-13T00:00:00\",\"2020-11-14T00:00:00\",\"2020-11-15T00:00:00\",\"2020-11-16T00:00:00\",\"2020-11-17T00:00:00\",\"2020-11-18T00:00:00\",\"2020-11-19T00:00:00\",\"2020-11-20T00:00:00\",\"2020-11-21T00:00:00\",\"2020-11-22T00:00:00\",\"2020-11-23T00:00:00\",\"2020-11-24T00:00:00\",\"2020-11-25T00:00:00\",\"2020-11-26T00:00:00\",\"2020-11-27T00:00:00\",\"2020-11-28T00:00:00\",\"2020-11-29T00:00:00\",\"2020-11-30T00:00:00\",\"2020-12-01T00:00:00\",\"2020-12-02T00:00:00\",\"2020-12-03T00:00:00\",\"2020-12-04T00:00:00\",\"2020-12-05T00:00:00\"],\"y\":[1,1,1,1,1,1,1,1,1,1,1,1,1,1,1,1,1,1,1,1,1,1,1,1,1,1,1,1,1,1],\"type\":\"bar\",\"xaxis\":\"x\",\"yaxis\":\"y\"},{\"marker\":{\"color\":\"#4C78A8\"},\"name\":\"actual\",\"showlegend\":false,\"x\":[\"2020-01-22T00:00:00\",\"2020-01-23T00:00:00\",\"2020-01-24T00:00:00\",\"2020-01-25T00:00:00\",\"2020-01-26T00:00:00\",\"2020-01-27T00:00:00\",\"2020-01-28T00:00:00\",\"2020-01-29T00:00:00\",\"2020-01-30T00:00:00\",\"2020-01-31T00:00:00\",\"2020-02-01T00:00:00\",\"2020-02-02T00:00:00\",\"2020-02-03T00:00:00\",\"2020-02-04T00:00:00\",\"2020-02-05T00:00:00\",\"2020-02-06T00:00:00\",\"2020-02-07T00:00:00\",\"2020-02-08T00:00:00\",\"2020-02-09T00:00:00\",\"2020-02-10T00:00:00\",\"2020-02-11T00:00:00\",\"2020-02-12T00:00:00\",\"2020-02-13T00:00:00\",\"2020-02-14T00:00:00\",\"2020-02-15T00:00:00\",\"2020-02-16T00:00:00\",\"2020-02-17T00:00:00\",\"2020-02-18T00:00:00\",\"2020-02-19T00:00:00\",\"2020-02-20T00:00:00\",\"2020-02-21T00:00:00\",\"2020-02-22T00:00:00\",\"2020-02-23T00:00:00\",\"2020-02-24T00:00:00\",\"2020-02-25T00:00:00\",\"2020-02-26T00:00:00\",\"2020-02-27T00:00:00\",\"2020-02-28T00:00:00\",\"2020-02-29T00:00:00\",\"2020-03-01T00:00:00\",\"2020-03-02T00:00:00\",\"2020-03-03T00:00:00\",\"2020-03-04T00:00:00\",\"2020-03-05T00:00:00\",\"2020-03-06T00:00:00\",\"2020-03-07T00:00:00\",\"2020-03-08T00:00:00\",\"2020-03-09T00:00:00\",\"2020-03-10T00:00:00\",\"2020-03-11T00:00:00\",\"2020-03-12T00:00:00\",\"2020-03-13T00:00:00\",\"2020-03-14T00:00:00\",\"2020-03-15T00:00:00\",\"2020-03-16T00:00:00\",\"2020-03-17T00:00:00\",\"2020-03-18T00:00:00\",\"2020-03-19T00:00:00\",\"2020-03-20T00:00:00\",\"2020-03-21T00:00:00\",\"2020-03-22T00:00:00\",\"2020-03-23T00:00:00\",\"2020-03-24T00:00:00\",\"2020-03-25T00:00:00\",\"2020-03-26T00:00:00\",\"2020-03-27T00:00:00\",\"2020-03-28T00:00:00\",\"2020-03-29T00:00:00\",\"2020-03-30T00:00:00\",\"2020-03-31T00:00:00\",\"2020-04-01T00:00:00\",\"2020-04-02T00:00:00\",\"2020-04-03T00:00:00\",\"2020-04-04T00:00:00\",\"2020-04-05T00:00:00\",\"2020-04-06T00:00:00\",\"2020-04-07T00:00:00\",\"2020-04-08T00:00:00\",\"2020-04-09T00:00:00\",\"2020-04-10T00:00:00\",\"2020-04-11T00:00:00\",\"2020-04-12T00:00:00\",\"2020-04-13T00:00:00\",\"2020-04-14T00:00:00\",\"2020-04-15T00:00:00\",\"2020-04-16T00:00:00\",\"2020-04-17T00:00:00\",\"2020-04-18T00:00:00\",\"2020-04-19T00:00:00\",\"2020-04-20T00:00:00\",\"2020-04-21T00:00:00\",\"2020-04-22T00:00:00\",\"2020-04-23T00:00:00\",\"2020-04-24T00:00:00\",\"2020-04-25T00:00:00\",\"2020-04-26T00:00:00\",\"2020-04-27T00:00:00\",\"2020-04-28T00:00:00\",\"2020-04-29T00:00:00\",\"2020-04-30T00:00:00\",\"2020-05-01T00:00:00\",\"2020-05-02T00:00:00\",\"2020-05-03T00:00:00\",\"2020-05-04T00:00:00\",\"2020-05-05T00:00:00\",\"2020-05-06T00:00:00\",\"2020-05-07T00:00:00\",\"2020-05-08T00:00:00\",\"2020-05-09T00:00:00\",\"2020-05-10T00:00:00\",\"2020-05-11T00:00:00\",\"2020-05-12T00:00:00\",\"2020-05-13T00:00:00\",\"2020-05-14T00:00:00\",\"2020-05-15T00:00:00\",\"2020-05-16T00:00:00\",\"2020-05-17T00:00:00\",\"2020-05-18T00:00:00\",\"2020-05-19T00:00:00\",\"2020-05-20T00:00:00\",\"2020-05-21T00:00:00\",\"2020-05-22T00:00:00\",\"2020-05-23T00:00:00\",\"2020-05-24T00:00:00\",\"2020-05-25T00:00:00\",\"2020-05-26T00:00:00\",\"2020-05-27T00:00:00\",\"2020-05-28T00:00:00\",\"2020-05-29T00:00:00\",\"2020-05-30T00:00:00\",\"2020-05-31T00:00:00\",\"2020-06-01T00:00:00\",\"2020-06-02T00:00:00\",\"2020-06-03T00:00:00\",\"2020-06-04T00:00:00\",\"2020-06-05T00:00:00\",\"2020-06-06T00:00:00\",\"2020-06-07T00:00:00\",\"2020-06-08T00:00:00\",\"2020-06-09T00:00:00\",\"2020-06-10T00:00:00\",\"2020-06-11T00:00:00\",\"2020-06-12T00:00:00\",\"2020-06-13T00:00:00\",\"2020-06-14T00:00:00\",\"2020-06-15T00:00:00\",\"2020-06-16T00:00:00\",\"2020-06-17T00:00:00\",\"2020-06-18T00:00:00\",\"2020-06-19T00:00:00\",\"2020-06-20T00:00:00\",\"2020-06-21T00:00:00\",\"2020-06-22T00:00:00\",\"2020-06-23T00:00:00\",\"2020-06-24T00:00:00\",\"2020-06-25T00:00:00\",\"2020-06-26T00:00:00\",\"2020-06-27T00:00:00\",\"2020-06-28T00:00:00\",\"2020-06-29T00:00:00\",\"2020-06-30T00:00:00\",\"2020-07-01T00:00:00\",\"2020-07-02T00:00:00\",\"2020-07-03T00:00:00\",\"2020-07-04T00:00:00\",\"2020-07-05T00:00:00\",\"2020-07-06T00:00:00\",\"2020-07-07T00:00:00\",\"2020-07-08T00:00:00\",\"2020-07-09T00:00:00\",\"2020-07-10T00:00:00\",\"2020-07-11T00:00:00\",\"2020-07-12T00:00:00\",\"2020-07-13T00:00:00\",\"2020-07-14T00:00:00\",\"2020-07-15T00:00:00\",\"2020-07-16T00:00:00\",\"2020-07-17T00:00:00\",\"2020-07-18T00:00:00\",\"2020-07-19T00:00:00\",\"2020-07-20T00:00:00\",\"2020-07-21T00:00:00\",\"2020-07-22T00:00:00\",\"2020-07-23T00:00:00\",\"2020-07-24T00:00:00\",\"2020-07-25T00:00:00\",\"2020-07-26T00:00:00\",\"2020-07-27T00:00:00\",\"2020-07-28T00:00:00\",\"2020-07-29T00:00:00\",\"2020-07-30T00:00:00\",\"2020-07-31T00:00:00\",\"2020-08-01T00:00:00\",\"2020-08-02T00:00:00\",\"2020-08-03T00:00:00\",\"2020-08-04T00:00:00\",\"2020-08-05T00:00:00\",\"2020-08-06T00:00:00\",\"2020-08-07T00:00:00\",\"2020-08-08T00:00:00\",\"2020-08-09T00:00:00\",\"2020-08-10T00:00:00\",\"2020-08-11T00:00:00\",\"2020-08-12T00:00:00\",\"2020-08-13T00:00:00\",\"2020-08-14T00:00:00\",\"2020-08-15T00:00:00\",\"2020-08-16T00:00:00\",\"2020-08-17T00:00:00\",\"2020-08-18T00:00:00\",\"2020-08-19T00:00:00\",\"2020-08-20T00:00:00\",\"2020-08-21T00:00:00\",\"2020-08-22T00:00:00\",\"2020-08-23T00:00:00\",\"2020-08-24T00:00:00\",\"2020-08-25T00:00:00\",\"2020-08-26T00:00:00\",\"2020-08-27T00:00:00\",\"2020-08-28T00:00:00\",\"2020-08-29T00:00:00\",\"2020-08-30T00:00:00\",\"2020-08-31T00:00:00\",\"2020-09-01T00:00:00\",\"2020-09-02T00:00:00\",\"2020-09-03T00:00:00\",\"2020-09-04T00:00:00\",\"2020-09-05T00:00:00\",\"2020-09-06T00:00:00\",\"2020-09-07T00:00:00\",\"2020-09-08T00:00:00\",\"2020-09-09T00:00:00\",\"2020-09-10T00:00:00\",\"2020-09-11T00:00:00\",\"2020-09-12T00:00:00\",\"2020-09-13T00:00:00\",\"2020-09-14T00:00:00\",\"2020-09-15T00:00:00\",\"2020-09-16T00:00:00\",\"2020-09-17T00:00:00\",\"2020-09-18T00:00:00\",\"2020-09-19T00:00:00\",\"2020-09-20T00:00:00\",\"2020-09-21T00:00:00\",\"2020-09-22T00:00:00\",\"2020-09-23T00:00:00\",\"2020-09-24T00:00:00\",\"2020-09-25T00:00:00\",\"2020-09-26T00:00:00\",\"2020-09-27T00:00:00\",\"2020-09-28T00:00:00\",\"2020-09-29T00:00:00\",\"2020-09-30T00:00:00\",\"2020-10-01T00:00:00\",\"2020-10-02T00:00:00\",\"2020-10-03T00:00:00\",\"2020-10-04T00:00:00\",\"2020-10-05T00:00:00\",\"2020-10-06T00:00:00\",\"2020-10-07T00:00:00\",\"2020-10-08T00:00:00\",\"2020-10-09T00:00:00\",\"2020-10-10T00:00:00\",\"2020-10-11T00:00:00\",\"2020-10-12T00:00:00\",\"2020-10-13T00:00:00\",\"2020-10-14T00:00:00\",\"2020-10-15T00:00:00\",\"2020-10-16T00:00:00\",\"2020-10-17T00:00:00\",\"2020-10-18T00:00:00\",\"2020-10-19T00:00:00\",\"2020-10-20T00:00:00\",\"2020-10-21T00:00:00\",\"2020-10-22T00:00:00\",\"2020-10-23T00:00:00\",\"2020-10-24T00:00:00\",\"2020-10-25T00:00:00\",\"2020-10-26T00:00:00\",\"2020-10-27T00:00:00\",\"2020-10-28T00:00:00\",\"2020-10-29T00:00:00\",\"2020-10-30T00:00:00\",\"2020-10-31T00:00:00\",\"2020-11-01T00:00:00\",\"2020-11-02T00:00:00\",\"2020-11-03T00:00:00\",\"2020-11-04T00:00:00\",\"2020-11-05T00:00:00\"],\"y\":[0,0,0,0,0,0,0,0,0,0,0,0,0,0,0,0,0,0,0,0,0,0,0,0,0,0,0,0,0,0,0,0,0,0,0,0,0,1,0,0,0,0,0,0,0,0,0,1,0,0,0,0,0,0,0,1,5,0,4,10,8,10,4,7,14,5,19,22,20,4,39,10,26,4,18,6,16,22,12,17,13,5,20,30,34,35,51,49,85,38,0,208,108,114,87,91,64,195,196,204,238,218,170,244,148,195,381,386,239,248,242,146,184,191,288,171,338,216,226,276,339,245,265,313,229,276,389,182,387,553,307,416,241,347,350,328,389,253,315,663,409,681,627,501,403,573,490,587,745,667,661,436,675,452,649,594,684,779,490,566,561,790,626,454,603,544,575,503,460,499,575,664,571,595,463,643,595,600,653,556,562,576,543,604,591,438,555,648,624,404,481,462,386,304,288,304,457,354,443,453,437,290,423,453,373,329,325,298,417,410,593,476,340,601,322,321,252,221,296,160,250,138,143,239,216,125,155,162,100,155,296,176,197,188,160,79,132,90,126,131,221,189,97,195,176,111,125,213,136,126,136,187,201,153,126,160,58,120,118,155,103,151,111,163,164,225,179,148,212,113,133,118,72,37,138,77,48,62,119,113,147,150,170,162,111,72,137,155,180],\"type\":\"bar\",\"xaxis\":\"x2\",\"yaxis\":\"y2\"},{\"marker\":{\"color\":\"#F58518\"},\"name\":\"prediction\",\"showlegend\":false,\"x\":[\"2020-11-06T00:00:00\",\"2020-11-07T00:00:00\",\"2020-11-08T00:00:00\",\"2020-11-09T00:00:00\",\"2020-11-10T00:00:00\",\"2020-11-11T00:00:00\",\"2020-11-12T00:00:00\",\"2020-11-13T00:00:00\",\"2020-11-14T00:00:00\",\"2020-11-15T00:00:00\",\"2020-11-16T00:00:00\",\"2020-11-17T00:00:00\",\"2020-11-18T00:00:00\",\"2020-11-19T00:00:00\",\"2020-11-20T00:00:00\",\"2020-11-21T00:00:00\",\"2020-11-22T00:00:00\",\"2020-11-23T00:00:00\",\"2020-11-24T00:00:00\",\"2020-11-25T00:00:00\",\"2020-11-26T00:00:00\",\"2020-11-27T00:00:00\",\"2020-11-28T00:00:00\",\"2020-11-29T00:00:00\",\"2020-11-30T00:00:00\",\"2020-12-01T00:00:00\",\"2020-12-02T00:00:00\",\"2020-12-03T00:00:00\",\"2020-12-04T00:00:00\",\"2020-12-05T00:00:00\"],\"y\":[108,107,105,104,103,101,100,99,97,96,95,94,92,91,90,88,87,86,85,83,82,81,80,78,77,76,75,74,72,71],\"type\":\"bar\",\"xaxis\":\"x2\",\"yaxis\":\"y2\"}],                        {\"template\":{\"data\":{\"histogram2dcontour\":[{\"type\":\"histogram2dcontour\",\"colorbar\":{\"outlinewidth\":0,\"ticks\":\"\"},\"colorscale\":[[0.0,\"#0d0887\"],[0.1111111111111111,\"#46039f\"],[0.2222222222222222,\"#7201a8\"],[0.3333333333333333,\"#9c179e\"],[0.4444444444444444,\"#bd3786\"],[0.5555555555555556,\"#d8576b\"],[0.6666666666666666,\"#ed7953\"],[0.7777777777777778,\"#fb9f3a\"],[0.8888888888888888,\"#fdca26\"],[1.0,\"#f0f921\"]]}],\"choropleth\":[{\"type\":\"choropleth\",\"colorbar\":{\"outlinewidth\":0,\"ticks\":\"\"}}],\"histogram2d\":[{\"type\":\"histogram2d\",\"colorbar\":{\"outlinewidth\":0,\"ticks\":\"\"},\"colorscale\":[[0.0,\"#0d0887\"],[0.1111111111111111,\"#46039f\"],[0.2222222222222222,\"#7201a8\"],[0.3333333333333333,\"#9c179e\"],[0.4444444444444444,\"#bd3786\"],[0.5555555555555556,\"#d8576b\"],[0.6666666666666666,\"#ed7953\"],[0.7777777777777778,\"#fb9f3a\"],[0.8888888888888888,\"#fdca26\"],[1.0,\"#f0f921\"]]}],\"heatmap\":[{\"type\":\"heatmap\",\"colorbar\":{\"outlinewidth\":0,\"ticks\":\"\"},\"colorscale\":[[0.0,\"#0d0887\"],[0.1111111111111111,\"#46039f\"],[0.2222222222222222,\"#7201a8\"],[0.3333333333333333,\"#9c179e\"],[0.4444444444444444,\"#bd3786\"],[0.5555555555555556,\"#d8576b\"],[0.6666666666666666,\"#ed7953\"],[0.7777777777777778,\"#fb9f3a\"],[0.8888888888888888,\"#fdca26\"],[1.0,\"#f0f921\"]]}],\"heatmapgl\":[{\"type\":\"heatmapgl\",\"colorbar\":{\"outlinewidth\":0,\"ticks\":\"\"},\"colorscale\":[[0.0,\"#0d0887\"],[0.1111111111111111,\"#46039f\"],[0.2222222222222222,\"#7201a8\"],[0.3333333333333333,\"#9c179e\"],[0.4444444444444444,\"#bd3786\"],[0.5555555555555556,\"#d8576b\"],[0.6666666666666666,\"#ed7953\"],[0.7777777777777778,\"#fb9f3a\"],[0.8888888888888888,\"#fdca26\"],[1.0,\"#f0f921\"]]}],\"contourcarpet\":[{\"type\":\"contourcarpet\",\"colorbar\":{\"outlinewidth\":0,\"ticks\":\"\"}}],\"contour\":[{\"type\":\"contour\",\"colorbar\":{\"outlinewidth\":0,\"ticks\":\"\"},\"colorscale\":[[0.0,\"#0d0887\"],[0.1111111111111111,\"#46039f\"],[0.2222222222222222,\"#7201a8\"],[0.3333333333333333,\"#9c179e\"],[0.4444444444444444,\"#bd3786\"],[0.5555555555555556,\"#d8576b\"],[0.6666666666666666,\"#ed7953\"],[0.7777777777777778,\"#fb9f3a\"],[0.8888888888888888,\"#fdca26\"],[1.0,\"#f0f921\"]]}],\"surface\":[{\"type\":\"surface\",\"colorbar\":{\"outlinewidth\":0,\"ticks\":\"\"},\"colorscale\":[[0.0,\"#0d0887\"],[0.1111111111111111,\"#46039f\"],[0.2222222222222222,\"#7201a8\"],[0.3333333333333333,\"#9c179e\"],[0.4444444444444444,\"#bd3786\"],[0.5555555555555556,\"#d8576b\"],[0.6666666666666666,\"#ed7953\"],[0.7777777777777778,\"#fb9f3a\"],[0.8888888888888888,\"#fdca26\"],[1.0,\"#f0f921\"]]}],\"mesh3d\":[{\"type\":\"mesh3d\",\"colorbar\":{\"outlinewidth\":0,\"ticks\":\"\"}}],\"scatter\":[{\"fillpattern\":{\"fillmode\":\"overlay\",\"size\":10,\"solidity\":0.2},\"type\":\"scatter\"}],\"parcoords\":[{\"type\":\"parcoords\",\"line\":{\"colorbar\":{\"outlinewidth\":0,\"ticks\":\"\"}}}],\"scatterpolargl\":[{\"type\":\"scatterpolargl\",\"marker\":{\"colorbar\":{\"outlinewidth\":0,\"ticks\":\"\"}}}],\"bar\":[{\"error_x\":{\"color\":\"#2a3f5f\"},\"error_y\":{\"color\":\"#2a3f5f\"},\"marker\":{\"line\":{\"color\":\"#E5ECF6\",\"width\":0.5},\"pattern\":{\"fillmode\":\"overlay\",\"size\":10,\"solidity\":0.2}},\"type\":\"bar\"}],\"scattergeo\":[{\"type\":\"scattergeo\",\"marker\":{\"colorbar\":{\"outlinewidth\":0,\"ticks\":\"\"}}}],\"scatterpolar\":[{\"type\":\"scatterpolar\",\"marker\":{\"colorbar\":{\"outlinewidth\":0,\"ticks\":\"\"}}}],\"histogram\":[{\"marker\":{\"pattern\":{\"fillmode\":\"overlay\",\"size\":10,\"solidity\":0.2}},\"type\":\"histogram\"}],\"scattergl\":[{\"type\":\"scattergl\",\"marker\":{\"colorbar\":{\"outlinewidth\":0,\"ticks\":\"\"}}}],\"scatter3d\":[{\"type\":\"scatter3d\",\"line\":{\"colorbar\":{\"outlinewidth\":0,\"ticks\":\"\"}},\"marker\":{\"colorbar\":{\"outlinewidth\":0,\"ticks\":\"\"}}}],\"scattermapbox\":[{\"type\":\"scattermapbox\",\"marker\":{\"colorbar\":{\"outlinewidth\":0,\"ticks\":\"\"}}}],\"scatterternary\":[{\"type\":\"scatterternary\",\"marker\":{\"colorbar\":{\"outlinewidth\":0,\"ticks\":\"\"}}}],\"scattercarpet\":[{\"type\":\"scattercarpet\",\"marker\":{\"colorbar\":{\"outlinewidth\":0,\"ticks\":\"\"}}}],\"carpet\":[{\"aaxis\":{\"endlinecolor\":\"#2a3f5f\",\"gridcolor\":\"white\",\"linecolor\":\"white\",\"minorgridcolor\":\"white\",\"startlinecolor\":\"#2a3f5f\"},\"baxis\":{\"endlinecolor\":\"#2a3f5f\",\"gridcolor\":\"white\",\"linecolor\":\"white\",\"minorgridcolor\":\"white\",\"startlinecolor\":\"#2a3f5f\"},\"type\":\"carpet\"}],\"table\":[{\"cells\":{\"fill\":{\"color\":\"#EBF0F8\"},\"line\":{\"color\":\"white\"}},\"header\":{\"fill\":{\"color\":\"#C8D4E3\"},\"line\":{\"color\":\"white\"}},\"type\":\"table\"}],\"barpolar\":[{\"marker\":{\"line\":{\"color\":\"#E5ECF6\",\"width\":0.5},\"pattern\":{\"fillmode\":\"overlay\",\"size\":10,\"solidity\":0.2}},\"type\":\"barpolar\"}],\"pie\":[{\"automargin\":true,\"type\":\"pie\"}]},\"layout\":{\"autotypenumbers\":\"strict\",\"colorway\":[\"#636efa\",\"#EF553B\",\"#00cc96\",\"#ab63fa\",\"#FFA15A\",\"#19d3f3\",\"#FF6692\",\"#B6E880\",\"#FF97FF\",\"#FECB52\"],\"font\":{\"color\":\"#2a3f5f\"},\"hovermode\":\"closest\",\"hoverlabel\":{\"align\":\"left\"},\"paper_bgcolor\":\"white\",\"plot_bgcolor\":\"#E5ECF6\",\"polar\":{\"bgcolor\":\"#E5ECF6\",\"angularaxis\":{\"gridcolor\":\"white\",\"linecolor\":\"white\",\"ticks\":\"\"},\"radialaxis\":{\"gridcolor\":\"white\",\"linecolor\":\"white\",\"ticks\":\"\"}},\"ternary\":{\"bgcolor\":\"#E5ECF6\",\"aaxis\":{\"gridcolor\":\"white\",\"linecolor\":\"white\",\"ticks\":\"\"},\"baxis\":{\"gridcolor\":\"white\",\"linecolor\":\"white\",\"ticks\":\"\"},\"caxis\":{\"gridcolor\":\"white\",\"linecolor\":\"white\",\"ticks\":\"\"}},\"coloraxis\":{\"colorbar\":{\"outlinewidth\":0,\"ticks\":\"\"}},\"colorscale\":{\"sequential\":[[0.0,\"#0d0887\"],[0.1111111111111111,\"#46039f\"],[0.2222222222222222,\"#7201a8\"],[0.3333333333333333,\"#9c179e\"],[0.4444444444444444,\"#bd3786\"],[0.5555555555555556,\"#d8576b\"],[0.6666666666666666,\"#ed7953\"],[0.7777777777777778,\"#fb9f3a\"],[0.8888888888888888,\"#fdca26\"],[1.0,\"#f0f921\"]],\"sequentialminus\":[[0.0,\"#0d0887\"],[0.1111111111111111,\"#46039f\"],[0.2222222222222222,\"#7201a8\"],[0.3333333333333333,\"#9c179e\"],[0.4444444444444444,\"#bd3786\"],[0.5555555555555556,\"#d8576b\"],[0.6666666666666666,\"#ed7953\"],[0.7777777777777778,\"#fb9f3a\"],[0.8888888888888888,\"#fdca26\"],[1.0,\"#f0f921\"]],\"diverging\":[[0,\"#8e0152\"],[0.1,\"#c51b7d\"],[0.2,\"#de77ae\"],[0.3,\"#f1b6da\"],[0.4,\"#fde0ef\"],[0.5,\"#f7f7f7\"],[0.6,\"#e6f5d0\"],[0.7,\"#b8e186\"],[0.8,\"#7fbc41\"],[0.9,\"#4d9221\"],[1,\"#276419\"]]},\"xaxis\":{\"gridcolor\":\"white\",\"linecolor\":\"white\",\"ticks\":\"\",\"title\":{\"standoff\":15},\"zerolinecolor\":\"white\",\"automargin\":true,\"zerolinewidth\":2},\"yaxis\":{\"gridcolor\":\"white\",\"linecolor\":\"white\",\"ticks\":\"\",\"title\":{\"standoff\":15},\"zerolinecolor\":\"white\",\"automargin\":true,\"zerolinewidth\":2},\"scene\":{\"xaxis\":{\"backgroundcolor\":\"#E5ECF6\",\"gridcolor\":\"white\",\"linecolor\":\"white\",\"showbackground\":true,\"ticks\":\"\",\"zerolinecolor\":\"white\",\"gridwidth\":2},\"yaxis\":{\"backgroundcolor\":\"#E5ECF6\",\"gridcolor\":\"white\",\"linecolor\":\"white\",\"showbackground\":true,\"ticks\":\"\",\"zerolinecolor\":\"white\",\"gridwidth\":2},\"zaxis\":{\"backgroundcolor\":\"#E5ECF6\",\"gridcolor\":\"white\",\"linecolor\":\"white\",\"showbackground\":true,\"ticks\":\"\",\"zerolinecolor\":\"white\",\"gridwidth\":2}},\"shapedefaults\":{\"line\":{\"color\":\"#2a3f5f\"}},\"annotationdefaults\":{\"arrowcolor\":\"#2a3f5f\",\"arrowhead\":0,\"arrowwidth\":1},\"geo\":{\"bgcolor\":\"white\",\"landcolor\":\"#E5ECF6\",\"subunitcolor\":\"white\",\"showland\":true,\"showlakes\":true,\"lakecolor\":\"white\"},\"title\":{\"x\":0.05},\"mapbox\":{\"style\":\"light\"}}},\"xaxis\":{\"anchor\":\"y\",\"domain\":[0.0,1.0]},\"yaxis\":{\"anchor\":\"x\",\"domain\":[0.55,1.0]},\"xaxis2\":{\"anchor\":\"y2\",\"domain\":[0.0,1.0]},\"yaxis2\":{\"anchor\":\"x2\",\"domain\":[0.0,0.45]},\"title\":{\"font\":{\"size\":20},\"text\":\"Nigeria\",\"x\":0.5,\"y\":0.97},\"margin\":{\"t\":40,\"l\":50,\"r\":10,\"b\":0},\"legend\":{\"font\":{\"size\":15},\"x\":0.5,\"y\":-0.05,\"xanchor\":\"center\",\"orientation\":\"h\"},\"annotations\":[{\"text\":\"<b>Deaths</b>\",\"y\":0.95,\"font\":{\"size\":18},\"x\":0.1,\"xref\":\"paper\",\"yref\":\"paper\",\"xanchor\":\"left\",\"showarrow\":false},{\"text\":\"<b>Cases</b>\",\"y\":0.3,\"font\":{\"size\":18},\"x\":0.1,\"xref\":\"paper\",\"yref\":\"paper\",\"xanchor\":\"left\",\"showarrow\":false}]},                        {\"responsive\": true}                    ).then(function(){\n",
       "                            \n",
       "var gd = document.getElementById('ae2e6404-f07b-4e82-8d8a-f1e5260446c6');\n",
       "var x = new MutationObserver(function (mutations, observer) {{\n",
       "        var display = window.getComputedStyle(gd).display;\n",
       "        if (!display || display === 'none') {{\n",
       "            console.log([gd, 'removed!']);\n",
       "            Plotly.purge(gd);\n",
       "            observer.disconnect();\n",
       "        }}\n",
       "}});\n",
       "\n",
       "// Listen for the removal of the full notebook cells\n",
       "var notebookContainer = gd.closest('#notebook-container');\n",
       "if (notebookContainer) {{\n",
       "    x.observe(notebookContainer, {childList: true});\n",
       "}}\n",
       "\n",
       "// Listen for the clearing of the current output cell\n",
       "var outputEl = gd.closest('.output');\n",
       "if (outputEl) {{\n",
       "    x.observe(outputEl, {childList: true});\n",
       "}}\n",
       "\n",
       "                        })                };                });            </script>        </div>"
      ]
     },
     "metadata": {},
     "output_type": "display_data"
    }
   ],
   "source": [
    "figs[1]"
   ]
  },
  {
   "cell_type": "markdown",
   "metadata": {},
   "source": [
    "Weekly aggregate line graph:"
   ]
  },
  {
   "cell_type": "code",
   "execution_count": 38,
   "metadata": {
    "scrolled": false
   },
   "outputs": [
    {
     "data": {
      "application/vnd.plotly.v1+json": {
       "config": {
        "plotlyServerURL": "https://plot.ly"
       },
       "data": [
        {
         "line": {
          "color": "#4C78A8"
         },
         "mode": "lines+markers",
         "name": "actual",
         "showlegend": true,
         "type": "scatter",
         "x": [
          "2020-01-23T00:00:00",
          "2020-01-30T00:00:00",
          "2020-02-06T00:00:00",
          "2020-02-13T00:00:00",
          "2020-02-20T00:00:00",
          "2020-02-27T00:00:00",
          "2020-03-05T00:00:00",
          "2020-03-12T00:00:00",
          "2020-03-19T00:00:00",
          "2020-03-26T00:00:00",
          "2020-04-02T00:00:00",
          "2020-04-09T00:00:00",
          "2020-04-16T00:00:00",
          "2020-04-23T00:00:00",
          "2020-04-30T00:00:00",
          "2020-05-07T00:00:00",
          "2020-05-14T00:00:00",
          "2020-05-21T00:00:00",
          "2020-05-28T00:00:00",
          "2020-06-04T00:00:00",
          "2020-06-11T00:00:00",
          "2020-06-18T00:00:00",
          "2020-06-25T00:00:00",
          "2020-07-02T00:00:00",
          "2020-07-09T00:00:00",
          "2020-07-16T00:00:00",
          "2020-07-23T00:00:00",
          "2020-07-30T00:00:00",
          "2020-08-06T00:00:00",
          "2020-08-13T00:00:00",
          "2020-08-20T00:00:00",
          "2020-08-27T00:00:00",
          "2020-09-03T00:00:00",
          "2020-09-10T00:00:00",
          "2020-09-17T00:00:00",
          "2020-09-24T00:00:00",
          "2020-10-01T00:00:00",
          "2020-10-08T00:00:00",
          "2020-10-15T00:00:00",
          "2020-10-22T00:00:00",
          "2020-10-29T00:00:00",
          "2020-11-05T00:00:00"
         ],
         "xaxis": "x",
         "y": [
          0,
          0,
          0,
          0,
          0,
          0,
          0,
          0,
          0,
          1,
          1,
          5,
          6,
          18,
          27,
          49,
          60,
          44,
          48,
          64,
          64,
          88,
          74,
          67,
          73,
          80,
          64,
          45,
          52,
          36,
          26,
          19,
          37,
          27,
          18,
          9,
          10,
          1,
          3,
          11,
          14,
          14
         ],
         "yaxis": "y"
        },
        {
         "line": {
          "color": "#F58518"
         },
         "mode": "lines+markers",
         "name": "prediction",
         "showlegend": true,
         "type": "scatter",
         "x": [
          "2020-11-12T00:00:00",
          "2020-11-19T00:00:00",
          "2020-11-26T00:00:00",
          "2020-12-03T00:00:00",
          "2020-12-10T00:00:00"
         ],
         "xaxis": "x",
         "y": [
          7,
          7,
          7,
          7,
          2
         ],
         "yaxis": "y"
        },
        {
         "line": {
          "color": "#4C78A8"
         },
         "mode": "lines+markers",
         "name": "actual",
         "showlegend": false,
         "type": "scatter",
         "x": [
          "2020-01-23T00:00:00",
          "2020-01-30T00:00:00",
          "2020-02-06T00:00:00",
          "2020-02-13T00:00:00",
          "2020-02-20T00:00:00",
          "2020-02-27T00:00:00",
          "2020-03-05T00:00:00",
          "2020-03-12T00:00:00",
          "2020-03-19T00:00:00",
          "2020-03-26T00:00:00",
          "2020-04-02T00:00:00",
          "2020-04-09T00:00:00",
          "2020-04-16T00:00:00",
          "2020-04-23T00:00:00",
          "2020-04-30T00:00:00",
          "2020-05-07T00:00:00",
          "2020-05-14T00:00:00",
          "2020-05-21T00:00:00",
          "2020-05-28T00:00:00",
          "2020-06-04T00:00:00",
          "2020-06-11T00:00:00",
          "2020-06-18T00:00:00",
          "2020-06-25T00:00:00",
          "2020-07-02T00:00:00",
          "2020-07-09T00:00:00",
          "2020-07-16T00:00:00",
          "2020-07-23T00:00:00",
          "2020-07-30T00:00:00",
          "2020-08-06T00:00:00",
          "2020-08-13T00:00:00",
          "2020-08-20T00:00:00",
          "2020-08-27T00:00:00",
          "2020-09-03T00:00:00",
          "2020-09-10T00:00:00",
          "2020-09-17T00:00:00",
          "2020-09-24T00:00:00",
          "2020-10-01T00:00:00",
          "2020-10-08T00:00:00",
          "2020-10-15T00:00:00",
          "2020-10-22T00:00:00",
          "2020-10-29T00:00:00",
          "2020-11-05T00:00:00"
         ],
         "xaxis": "x2",
         "y": [
          0,
          0,
          0,
          0,
          0,
          0,
          1,
          1,
          6,
          57,
          119,
          104,
          154,
          539,
          951,
          1594,
          1636,
          1854,
          1899,
          2601,
          3038,
          3926,
          4134,
          4496,
          3638,
          4106,
          4094,
          3741,
          2555,
          2872,
          2848,
          2353,
          1271,
          1241,
          906,
          1114,
          1152,
          840,
          1141,
          823,
          716,
          987
         ],
         "yaxis": "y2"
        },
        {
         "line": {
          "color": "#F58518"
         },
         "mode": "lines+markers",
         "name": "prediction",
         "showlegend": false,
         "type": "scatter",
         "x": [
          "2020-11-12T00:00:00",
          "2020-11-19T00:00:00",
          "2020-11-26T00:00:00",
          "2020-12-03T00:00:00",
          "2020-12-10T00:00:00"
         ],
         "xaxis": "x2",
         "y": [
          728,
          664,
          601,
          541,
          143
         ],
         "yaxis": "y2"
        }
       ],
       "layout": {
        "annotations": [
         {
          "font": {
           "size": 18
          },
          "showarrow": false,
          "text": "<b>Deaths</b>",
          "x": 0.1,
          "xanchor": "left",
          "xref": "paper",
          "y": 0.95,
          "yref": "paper"
         },
         {
          "font": {
           "size": 18
          },
          "showarrow": false,
          "text": "<b>Cases</b>",
          "x": 0.1,
          "xanchor": "left",
          "xref": "paper",
          "y": 0.3,
          "yref": "paper"
         }
        ],
        "legend": {
         "font": {
          "size": 15
         },
         "orientation": "h",
         "x": 0.5,
         "xanchor": "center",
         "y": -0.05
        },
        "margin": {
         "b": 0,
         "l": 50,
         "r": 10,
         "t": 40
        },
        "template": {
         "data": {
          "bar": [
           {
            "error_x": {
             "color": "#2a3f5f"
            },
            "error_y": {
             "color": "#2a3f5f"
            },
            "marker": {
             "line": {
              "color": "#E5ECF6",
              "width": 0.5
             },
             "pattern": {
              "fillmode": "overlay",
              "size": 10,
              "solidity": 0.2
             }
            },
            "type": "bar"
           }
          ],
          "barpolar": [
           {
            "marker": {
             "line": {
              "color": "#E5ECF6",
              "width": 0.5
             },
             "pattern": {
              "fillmode": "overlay",
              "size": 10,
              "solidity": 0.2
             }
            },
            "type": "barpolar"
           }
          ],
          "carpet": [
           {
            "aaxis": {
             "endlinecolor": "#2a3f5f",
             "gridcolor": "white",
             "linecolor": "white",
             "minorgridcolor": "white",
             "startlinecolor": "#2a3f5f"
            },
            "baxis": {
             "endlinecolor": "#2a3f5f",
             "gridcolor": "white",
             "linecolor": "white",
             "minorgridcolor": "white",
             "startlinecolor": "#2a3f5f"
            },
            "type": "carpet"
           }
          ],
          "choropleth": [
           {
            "colorbar": {
             "outlinewidth": 0,
             "ticks": ""
            },
            "type": "choropleth"
           }
          ],
          "contour": [
           {
            "colorbar": {
             "outlinewidth": 0,
             "ticks": ""
            },
            "colorscale": [
             [
              0,
              "#0d0887"
             ],
             [
              0.1111111111111111,
              "#46039f"
             ],
             [
              0.2222222222222222,
              "#7201a8"
             ],
             [
              0.3333333333333333,
              "#9c179e"
             ],
             [
              0.4444444444444444,
              "#bd3786"
             ],
             [
              0.5555555555555556,
              "#d8576b"
             ],
             [
              0.6666666666666666,
              "#ed7953"
             ],
             [
              0.7777777777777778,
              "#fb9f3a"
             ],
             [
              0.8888888888888888,
              "#fdca26"
             ],
             [
              1,
              "#f0f921"
             ]
            ],
            "type": "contour"
           }
          ],
          "contourcarpet": [
           {
            "colorbar": {
             "outlinewidth": 0,
             "ticks": ""
            },
            "type": "contourcarpet"
           }
          ],
          "heatmap": [
           {
            "colorbar": {
             "outlinewidth": 0,
             "ticks": ""
            },
            "colorscale": [
             [
              0,
              "#0d0887"
             ],
             [
              0.1111111111111111,
              "#46039f"
             ],
             [
              0.2222222222222222,
              "#7201a8"
             ],
             [
              0.3333333333333333,
              "#9c179e"
             ],
             [
              0.4444444444444444,
              "#bd3786"
             ],
             [
              0.5555555555555556,
              "#d8576b"
             ],
             [
              0.6666666666666666,
              "#ed7953"
             ],
             [
              0.7777777777777778,
              "#fb9f3a"
             ],
             [
              0.8888888888888888,
              "#fdca26"
             ],
             [
              1,
              "#f0f921"
             ]
            ],
            "type": "heatmap"
           }
          ],
          "heatmapgl": [
           {
            "colorbar": {
             "outlinewidth": 0,
             "ticks": ""
            },
            "colorscale": [
             [
              0,
              "#0d0887"
             ],
             [
              0.1111111111111111,
              "#46039f"
             ],
             [
              0.2222222222222222,
              "#7201a8"
             ],
             [
              0.3333333333333333,
              "#9c179e"
             ],
             [
              0.4444444444444444,
              "#bd3786"
             ],
             [
              0.5555555555555556,
              "#d8576b"
             ],
             [
              0.6666666666666666,
              "#ed7953"
             ],
             [
              0.7777777777777778,
              "#fb9f3a"
             ],
             [
              0.8888888888888888,
              "#fdca26"
             ],
             [
              1,
              "#f0f921"
             ]
            ],
            "type": "heatmapgl"
           }
          ],
          "histogram": [
           {
            "marker": {
             "pattern": {
              "fillmode": "overlay",
              "size": 10,
              "solidity": 0.2
             }
            },
            "type": "histogram"
           }
          ],
          "histogram2d": [
           {
            "colorbar": {
             "outlinewidth": 0,
             "ticks": ""
            },
            "colorscale": [
             [
              0,
              "#0d0887"
             ],
             [
              0.1111111111111111,
              "#46039f"
             ],
             [
              0.2222222222222222,
              "#7201a8"
             ],
             [
              0.3333333333333333,
              "#9c179e"
             ],
             [
              0.4444444444444444,
              "#bd3786"
             ],
             [
              0.5555555555555556,
              "#d8576b"
             ],
             [
              0.6666666666666666,
              "#ed7953"
             ],
             [
              0.7777777777777778,
              "#fb9f3a"
             ],
             [
              0.8888888888888888,
              "#fdca26"
             ],
             [
              1,
              "#f0f921"
             ]
            ],
            "type": "histogram2d"
           }
          ],
          "histogram2dcontour": [
           {
            "colorbar": {
             "outlinewidth": 0,
             "ticks": ""
            },
            "colorscale": [
             [
              0,
              "#0d0887"
             ],
             [
              0.1111111111111111,
              "#46039f"
             ],
             [
              0.2222222222222222,
              "#7201a8"
             ],
             [
              0.3333333333333333,
              "#9c179e"
             ],
             [
              0.4444444444444444,
              "#bd3786"
             ],
             [
              0.5555555555555556,
              "#d8576b"
             ],
             [
              0.6666666666666666,
              "#ed7953"
             ],
             [
              0.7777777777777778,
              "#fb9f3a"
             ],
             [
              0.8888888888888888,
              "#fdca26"
             ],
             [
              1,
              "#f0f921"
             ]
            ],
            "type": "histogram2dcontour"
           }
          ],
          "mesh3d": [
           {
            "colorbar": {
             "outlinewidth": 0,
             "ticks": ""
            },
            "type": "mesh3d"
           }
          ],
          "parcoords": [
           {
            "line": {
             "colorbar": {
              "outlinewidth": 0,
              "ticks": ""
             }
            },
            "type": "parcoords"
           }
          ],
          "pie": [
           {
            "automargin": true,
            "type": "pie"
           }
          ],
          "scatter": [
           {
            "fillpattern": {
             "fillmode": "overlay",
             "size": 10,
             "solidity": 0.2
            },
            "type": "scatter"
           }
          ],
          "scatter3d": [
           {
            "line": {
             "colorbar": {
              "outlinewidth": 0,
              "ticks": ""
             }
            },
            "marker": {
             "colorbar": {
              "outlinewidth": 0,
              "ticks": ""
             }
            },
            "type": "scatter3d"
           }
          ],
          "scattercarpet": [
           {
            "marker": {
             "colorbar": {
              "outlinewidth": 0,
              "ticks": ""
             }
            },
            "type": "scattercarpet"
           }
          ],
          "scattergeo": [
           {
            "marker": {
             "colorbar": {
              "outlinewidth": 0,
              "ticks": ""
             }
            },
            "type": "scattergeo"
           }
          ],
          "scattergl": [
           {
            "marker": {
             "colorbar": {
              "outlinewidth": 0,
              "ticks": ""
             }
            },
            "type": "scattergl"
           }
          ],
          "scattermapbox": [
           {
            "marker": {
             "colorbar": {
              "outlinewidth": 0,
              "ticks": ""
             }
            },
            "type": "scattermapbox"
           }
          ],
          "scatterpolar": [
           {
            "marker": {
             "colorbar": {
              "outlinewidth": 0,
              "ticks": ""
             }
            },
            "type": "scatterpolar"
           }
          ],
          "scatterpolargl": [
           {
            "marker": {
             "colorbar": {
              "outlinewidth": 0,
              "ticks": ""
             }
            },
            "type": "scatterpolargl"
           }
          ],
          "scatterternary": [
           {
            "marker": {
             "colorbar": {
              "outlinewidth": 0,
              "ticks": ""
             }
            },
            "type": "scatterternary"
           }
          ],
          "surface": [
           {
            "colorbar": {
             "outlinewidth": 0,
             "ticks": ""
            },
            "colorscale": [
             [
              0,
              "#0d0887"
             ],
             [
              0.1111111111111111,
              "#46039f"
             ],
             [
              0.2222222222222222,
              "#7201a8"
             ],
             [
              0.3333333333333333,
              "#9c179e"
             ],
             [
              0.4444444444444444,
              "#bd3786"
             ],
             [
              0.5555555555555556,
              "#d8576b"
             ],
             [
              0.6666666666666666,
              "#ed7953"
             ],
             [
              0.7777777777777778,
              "#fb9f3a"
             ],
             [
              0.8888888888888888,
              "#fdca26"
             ],
             [
              1,
              "#f0f921"
             ]
            ],
            "type": "surface"
           }
          ],
          "table": [
           {
            "cells": {
             "fill": {
              "color": "#EBF0F8"
             },
             "line": {
              "color": "white"
             }
            },
            "header": {
             "fill": {
              "color": "#C8D4E3"
             },
             "line": {
              "color": "white"
             }
            },
            "type": "table"
           }
          ]
         },
         "layout": {
          "annotationdefaults": {
           "arrowcolor": "#2a3f5f",
           "arrowhead": 0,
           "arrowwidth": 1
          },
          "autotypenumbers": "strict",
          "coloraxis": {
           "colorbar": {
            "outlinewidth": 0,
            "ticks": ""
           }
          },
          "colorscale": {
           "diverging": [
            [
             0,
             "#8e0152"
            ],
            [
             0.1,
             "#c51b7d"
            ],
            [
             0.2,
             "#de77ae"
            ],
            [
             0.3,
             "#f1b6da"
            ],
            [
             0.4,
             "#fde0ef"
            ],
            [
             0.5,
             "#f7f7f7"
            ],
            [
             0.6,
             "#e6f5d0"
            ],
            [
             0.7,
             "#b8e186"
            ],
            [
             0.8,
             "#7fbc41"
            ],
            [
             0.9,
             "#4d9221"
            ],
            [
             1,
             "#276419"
            ]
           ],
           "sequential": [
            [
             0,
             "#0d0887"
            ],
            [
             0.1111111111111111,
             "#46039f"
            ],
            [
             0.2222222222222222,
             "#7201a8"
            ],
            [
             0.3333333333333333,
             "#9c179e"
            ],
            [
             0.4444444444444444,
             "#bd3786"
            ],
            [
             0.5555555555555556,
             "#d8576b"
            ],
            [
             0.6666666666666666,
             "#ed7953"
            ],
            [
             0.7777777777777778,
             "#fb9f3a"
            ],
            [
             0.8888888888888888,
             "#fdca26"
            ],
            [
             1,
             "#f0f921"
            ]
           ],
           "sequentialminus": [
            [
             0,
             "#0d0887"
            ],
            [
             0.1111111111111111,
             "#46039f"
            ],
            [
             0.2222222222222222,
             "#7201a8"
            ],
            [
             0.3333333333333333,
             "#9c179e"
            ],
            [
             0.4444444444444444,
             "#bd3786"
            ],
            [
             0.5555555555555556,
             "#d8576b"
            ],
            [
             0.6666666666666666,
             "#ed7953"
            ],
            [
             0.7777777777777778,
             "#fb9f3a"
            ],
            [
             0.8888888888888888,
             "#fdca26"
            ],
            [
             1,
             "#f0f921"
            ]
           ]
          },
          "colorway": [
           "#636efa",
           "#EF553B",
           "#00cc96",
           "#ab63fa",
           "#FFA15A",
           "#19d3f3",
           "#FF6692",
           "#B6E880",
           "#FF97FF",
           "#FECB52"
          ],
          "font": {
           "color": "#2a3f5f"
          },
          "geo": {
           "bgcolor": "white",
           "lakecolor": "white",
           "landcolor": "#E5ECF6",
           "showlakes": true,
           "showland": true,
           "subunitcolor": "white"
          },
          "hoverlabel": {
           "align": "left"
          },
          "hovermode": "closest",
          "mapbox": {
           "style": "light"
          },
          "paper_bgcolor": "white",
          "plot_bgcolor": "#E5ECF6",
          "polar": {
           "angularaxis": {
            "gridcolor": "white",
            "linecolor": "white",
            "ticks": ""
           },
           "bgcolor": "#E5ECF6",
           "radialaxis": {
            "gridcolor": "white",
            "linecolor": "white",
            "ticks": ""
           }
          },
          "scene": {
           "xaxis": {
            "backgroundcolor": "#E5ECF6",
            "gridcolor": "white",
            "gridwidth": 2,
            "linecolor": "white",
            "showbackground": true,
            "ticks": "",
            "zerolinecolor": "white"
           },
           "yaxis": {
            "backgroundcolor": "#E5ECF6",
            "gridcolor": "white",
            "gridwidth": 2,
            "linecolor": "white",
            "showbackground": true,
            "ticks": "",
            "zerolinecolor": "white"
           },
           "zaxis": {
            "backgroundcolor": "#E5ECF6",
            "gridcolor": "white",
            "gridwidth": 2,
            "linecolor": "white",
            "showbackground": true,
            "ticks": "",
            "zerolinecolor": "white"
           }
          },
          "shapedefaults": {
           "line": {
            "color": "#2a3f5f"
           }
          },
          "ternary": {
           "aaxis": {
            "gridcolor": "white",
            "linecolor": "white",
            "ticks": ""
           },
           "baxis": {
            "gridcolor": "white",
            "linecolor": "white",
            "ticks": ""
           },
           "bgcolor": "#E5ECF6",
           "caxis": {
            "gridcolor": "white",
            "linecolor": "white",
            "ticks": ""
           }
          },
          "title": {
           "x": 0.05
          },
          "xaxis": {
           "automargin": true,
           "gridcolor": "white",
           "linecolor": "white",
           "ticks": "",
           "title": {
            "standoff": 15
           },
           "zerolinecolor": "white",
           "zerolinewidth": 2
          },
          "yaxis": {
           "automargin": true,
           "gridcolor": "white",
           "linecolor": "white",
           "ticks": "",
           "title": {
            "standoff": 15
           },
           "zerolinecolor": "white",
           "zerolinewidth": 2
          }
         }
        },
        "title": {
         "font": {
          "size": 20
         },
         "text": "Nigeria",
         "x": 0.5,
         "y": 0.97
        },
        "xaxis": {
         "anchor": "y",
         "domain": [
          0,
          1
         ]
        },
        "xaxis2": {
         "anchor": "y2",
         "domain": [
          0,
          1
         ]
        },
        "yaxis": {
         "anchor": "x",
         "domain": [
          0.55,
          1
         ]
        },
        "yaxis2": {
         "anchor": "x2",
         "domain": [
          0,
          0.45
         ]
        }
       }
      },
      "text/html": [
       "<div>                            <div id=\"48c3d5c0-4f51-47e2-94e6-a0ac68847aa5\" class=\"plotly-graph-div\" style=\"height:525px; width:100%;\"></div>            <script type=\"text/javascript\">                require([\"plotly\"], function(Plotly) {                    window.PLOTLYENV=window.PLOTLYENV || {};                                    if (document.getElementById(\"48c3d5c0-4f51-47e2-94e6-a0ac68847aa5\")) {                    Plotly.newPlot(                        \"48c3d5c0-4f51-47e2-94e6-a0ac68847aa5\",                        [{\"line\":{\"color\":\"#4C78A8\"},\"mode\":\"lines+markers\",\"name\":\"actual\",\"showlegend\":true,\"x\":[\"2020-01-23T00:00:00\",\"2020-01-30T00:00:00\",\"2020-02-06T00:00:00\",\"2020-02-13T00:00:00\",\"2020-02-20T00:00:00\",\"2020-02-27T00:00:00\",\"2020-03-05T00:00:00\",\"2020-03-12T00:00:00\",\"2020-03-19T00:00:00\",\"2020-03-26T00:00:00\",\"2020-04-02T00:00:00\",\"2020-04-09T00:00:00\",\"2020-04-16T00:00:00\",\"2020-04-23T00:00:00\",\"2020-04-30T00:00:00\",\"2020-05-07T00:00:00\",\"2020-05-14T00:00:00\",\"2020-05-21T00:00:00\",\"2020-05-28T00:00:00\",\"2020-06-04T00:00:00\",\"2020-06-11T00:00:00\",\"2020-06-18T00:00:00\",\"2020-06-25T00:00:00\",\"2020-07-02T00:00:00\",\"2020-07-09T00:00:00\",\"2020-07-16T00:00:00\",\"2020-07-23T00:00:00\",\"2020-07-30T00:00:00\",\"2020-08-06T00:00:00\",\"2020-08-13T00:00:00\",\"2020-08-20T00:00:00\",\"2020-08-27T00:00:00\",\"2020-09-03T00:00:00\",\"2020-09-10T00:00:00\",\"2020-09-17T00:00:00\",\"2020-09-24T00:00:00\",\"2020-10-01T00:00:00\",\"2020-10-08T00:00:00\",\"2020-10-15T00:00:00\",\"2020-10-22T00:00:00\",\"2020-10-29T00:00:00\",\"2020-11-05T00:00:00\"],\"y\":[0,0,0,0,0,0,0,0,0,1,1,5,6,18,27,49,60,44,48,64,64,88,74,67,73,80,64,45,52,36,26,19,37,27,18,9,10,1,3,11,14,14],\"type\":\"scatter\",\"xaxis\":\"x\",\"yaxis\":\"y\"},{\"line\":{\"color\":\"#F58518\"},\"mode\":\"lines+markers\",\"name\":\"prediction\",\"showlegend\":true,\"x\":[\"2020-11-12T00:00:00\",\"2020-11-19T00:00:00\",\"2020-11-26T00:00:00\",\"2020-12-03T00:00:00\",\"2020-12-10T00:00:00\"],\"y\":[7,7,7,7,2],\"type\":\"scatter\",\"xaxis\":\"x\",\"yaxis\":\"y\"},{\"line\":{\"color\":\"#4C78A8\"},\"mode\":\"lines+markers\",\"name\":\"actual\",\"showlegend\":false,\"x\":[\"2020-01-23T00:00:00\",\"2020-01-30T00:00:00\",\"2020-02-06T00:00:00\",\"2020-02-13T00:00:00\",\"2020-02-20T00:00:00\",\"2020-02-27T00:00:00\",\"2020-03-05T00:00:00\",\"2020-03-12T00:00:00\",\"2020-03-19T00:00:00\",\"2020-03-26T00:00:00\",\"2020-04-02T00:00:00\",\"2020-04-09T00:00:00\",\"2020-04-16T00:00:00\",\"2020-04-23T00:00:00\",\"2020-04-30T00:00:00\",\"2020-05-07T00:00:00\",\"2020-05-14T00:00:00\",\"2020-05-21T00:00:00\",\"2020-05-28T00:00:00\",\"2020-06-04T00:00:00\",\"2020-06-11T00:00:00\",\"2020-06-18T00:00:00\",\"2020-06-25T00:00:00\",\"2020-07-02T00:00:00\",\"2020-07-09T00:00:00\",\"2020-07-16T00:00:00\",\"2020-07-23T00:00:00\",\"2020-07-30T00:00:00\",\"2020-08-06T00:00:00\",\"2020-08-13T00:00:00\",\"2020-08-20T00:00:00\",\"2020-08-27T00:00:00\",\"2020-09-03T00:00:00\",\"2020-09-10T00:00:00\",\"2020-09-17T00:00:00\",\"2020-09-24T00:00:00\",\"2020-10-01T00:00:00\",\"2020-10-08T00:00:00\",\"2020-10-15T00:00:00\",\"2020-10-22T00:00:00\",\"2020-10-29T00:00:00\",\"2020-11-05T00:00:00\"],\"y\":[0,0,0,0,0,0,1,1,6,57,119,104,154,539,951,1594,1636,1854,1899,2601,3038,3926,4134,4496,3638,4106,4094,3741,2555,2872,2848,2353,1271,1241,906,1114,1152,840,1141,823,716,987],\"type\":\"scatter\",\"xaxis\":\"x2\",\"yaxis\":\"y2\"},{\"line\":{\"color\":\"#F58518\"},\"mode\":\"lines+markers\",\"name\":\"prediction\",\"showlegend\":false,\"x\":[\"2020-11-12T00:00:00\",\"2020-11-19T00:00:00\",\"2020-11-26T00:00:00\",\"2020-12-03T00:00:00\",\"2020-12-10T00:00:00\"],\"y\":[728,664,601,541,143],\"type\":\"scatter\",\"xaxis\":\"x2\",\"yaxis\":\"y2\"}],                        {\"template\":{\"data\":{\"histogram2dcontour\":[{\"type\":\"histogram2dcontour\",\"colorbar\":{\"outlinewidth\":0,\"ticks\":\"\"},\"colorscale\":[[0.0,\"#0d0887\"],[0.1111111111111111,\"#46039f\"],[0.2222222222222222,\"#7201a8\"],[0.3333333333333333,\"#9c179e\"],[0.4444444444444444,\"#bd3786\"],[0.5555555555555556,\"#d8576b\"],[0.6666666666666666,\"#ed7953\"],[0.7777777777777778,\"#fb9f3a\"],[0.8888888888888888,\"#fdca26\"],[1.0,\"#f0f921\"]]}],\"choropleth\":[{\"type\":\"choropleth\",\"colorbar\":{\"outlinewidth\":0,\"ticks\":\"\"}}],\"histogram2d\":[{\"type\":\"histogram2d\",\"colorbar\":{\"outlinewidth\":0,\"ticks\":\"\"},\"colorscale\":[[0.0,\"#0d0887\"],[0.1111111111111111,\"#46039f\"],[0.2222222222222222,\"#7201a8\"],[0.3333333333333333,\"#9c179e\"],[0.4444444444444444,\"#bd3786\"],[0.5555555555555556,\"#d8576b\"],[0.6666666666666666,\"#ed7953\"],[0.7777777777777778,\"#fb9f3a\"],[0.8888888888888888,\"#fdca26\"],[1.0,\"#f0f921\"]]}],\"heatmap\":[{\"type\":\"heatmap\",\"colorbar\":{\"outlinewidth\":0,\"ticks\":\"\"},\"colorscale\":[[0.0,\"#0d0887\"],[0.1111111111111111,\"#46039f\"],[0.2222222222222222,\"#7201a8\"],[0.3333333333333333,\"#9c179e\"],[0.4444444444444444,\"#bd3786\"],[0.5555555555555556,\"#d8576b\"],[0.6666666666666666,\"#ed7953\"],[0.7777777777777778,\"#fb9f3a\"],[0.8888888888888888,\"#fdca26\"],[1.0,\"#f0f921\"]]}],\"heatmapgl\":[{\"type\":\"heatmapgl\",\"colorbar\":{\"outlinewidth\":0,\"ticks\":\"\"},\"colorscale\":[[0.0,\"#0d0887\"],[0.1111111111111111,\"#46039f\"],[0.2222222222222222,\"#7201a8\"],[0.3333333333333333,\"#9c179e\"],[0.4444444444444444,\"#bd3786\"],[0.5555555555555556,\"#d8576b\"],[0.6666666666666666,\"#ed7953\"],[0.7777777777777778,\"#fb9f3a\"],[0.8888888888888888,\"#fdca26\"],[1.0,\"#f0f921\"]]}],\"contourcarpet\":[{\"type\":\"contourcarpet\",\"colorbar\":{\"outlinewidth\":0,\"ticks\":\"\"}}],\"contour\":[{\"type\":\"contour\",\"colorbar\":{\"outlinewidth\":0,\"ticks\":\"\"},\"colorscale\":[[0.0,\"#0d0887\"],[0.1111111111111111,\"#46039f\"],[0.2222222222222222,\"#7201a8\"],[0.3333333333333333,\"#9c179e\"],[0.4444444444444444,\"#bd3786\"],[0.5555555555555556,\"#d8576b\"],[0.6666666666666666,\"#ed7953\"],[0.7777777777777778,\"#fb9f3a\"],[0.8888888888888888,\"#fdca26\"],[1.0,\"#f0f921\"]]}],\"surface\":[{\"type\":\"surface\",\"colorbar\":{\"outlinewidth\":0,\"ticks\":\"\"},\"colorscale\":[[0.0,\"#0d0887\"],[0.1111111111111111,\"#46039f\"],[0.2222222222222222,\"#7201a8\"],[0.3333333333333333,\"#9c179e\"],[0.4444444444444444,\"#bd3786\"],[0.5555555555555556,\"#d8576b\"],[0.6666666666666666,\"#ed7953\"],[0.7777777777777778,\"#fb9f3a\"],[0.8888888888888888,\"#fdca26\"],[1.0,\"#f0f921\"]]}],\"mesh3d\":[{\"type\":\"mesh3d\",\"colorbar\":{\"outlinewidth\":0,\"ticks\":\"\"}}],\"scatter\":[{\"fillpattern\":{\"fillmode\":\"overlay\",\"size\":10,\"solidity\":0.2},\"type\":\"scatter\"}],\"parcoords\":[{\"type\":\"parcoords\",\"line\":{\"colorbar\":{\"outlinewidth\":0,\"ticks\":\"\"}}}],\"scatterpolargl\":[{\"type\":\"scatterpolargl\",\"marker\":{\"colorbar\":{\"outlinewidth\":0,\"ticks\":\"\"}}}],\"bar\":[{\"error_x\":{\"color\":\"#2a3f5f\"},\"error_y\":{\"color\":\"#2a3f5f\"},\"marker\":{\"line\":{\"color\":\"#E5ECF6\",\"width\":0.5},\"pattern\":{\"fillmode\":\"overlay\",\"size\":10,\"solidity\":0.2}},\"type\":\"bar\"}],\"scattergeo\":[{\"type\":\"scattergeo\",\"marker\":{\"colorbar\":{\"outlinewidth\":0,\"ticks\":\"\"}}}],\"scatterpolar\":[{\"type\":\"scatterpolar\",\"marker\":{\"colorbar\":{\"outlinewidth\":0,\"ticks\":\"\"}}}],\"histogram\":[{\"marker\":{\"pattern\":{\"fillmode\":\"overlay\",\"size\":10,\"solidity\":0.2}},\"type\":\"histogram\"}],\"scattergl\":[{\"type\":\"scattergl\",\"marker\":{\"colorbar\":{\"outlinewidth\":0,\"ticks\":\"\"}}}],\"scatter3d\":[{\"type\":\"scatter3d\",\"line\":{\"colorbar\":{\"outlinewidth\":0,\"ticks\":\"\"}},\"marker\":{\"colorbar\":{\"outlinewidth\":0,\"ticks\":\"\"}}}],\"scattermapbox\":[{\"type\":\"scattermapbox\",\"marker\":{\"colorbar\":{\"outlinewidth\":0,\"ticks\":\"\"}}}],\"scatterternary\":[{\"type\":\"scatterternary\",\"marker\":{\"colorbar\":{\"outlinewidth\":0,\"ticks\":\"\"}}}],\"scattercarpet\":[{\"type\":\"scattercarpet\",\"marker\":{\"colorbar\":{\"outlinewidth\":0,\"ticks\":\"\"}}}],\"carpet\":[{\"aaxis\":{\"endlinecolor\":\"#2a3f5f\",\"gridcolor\":\"white\",\"linecolor\":\"white\",\"minorgridcolor\":\"white\",\"startlinecolor\":\"#2a3f5f\"},\"baxis\":{\"endlinecolor\":\"#2a3f5f\",\"gridcolor\":\"white\",\"linecolor\":\"white\",\"minorgridcolor\":\"white\",\"startlinecolor\":\"#2a3f5f\"},\"type\":\"carpet\"}],\"table\":[{\"cells\":{\"fill\":{\"color\":\"#EBF0F8\"},\"line\":{\"color\":\"white\"}},\"header\":{\"fill\":{\"color\":\"#C8D4E3\"},\"line\":{\"color\":\"white\"}},\"type\":\"table\"}],\"barpolar\":[{\"marker\":{\"line\":{\"color\":\"#E5ECF6\",\"width\":0.5},\"pattern\":{\"fillmode\":\"overlay\",\"size\":10,\"solidity\":0.2}},\"type\":\"barpolar\"}],\"pie\":[{\"automargin\":true,\"type\":\"pie\"}]},\"layout\":{\"autotypenumbers\":\"strict\",\"colorway\":[\"#636efa\",\"#EF553B\",\"#00cc96\",\"#ab63fa\",\"#FFA15A\",\"#19d3f3\",\"#FF6692\",\"#B6E880\",\"#FF97FF\",\"#FECB52\"],\"font\":{\"color\":\"#2a3f5f\"},\"hovermode\":\"closest\",\"hoverlabel\":{\"align\":\"left\"},\"paper_bgcolor\":\"white\",\"plot_bgcolor\":\"#E5ECF6\",\"polar\":{\"bgcolor\":\"#E5ECF6\",\"angularaxis\":{\"gridcolor\":\"white\",\"linecolor\":\"white\",\"ticks\":\"\"},\"radialaxis\":{\"gridcolor\":\"white\",\"linecolor\":\"white\",\"ticks\":\"\"}},\"ternary\":{\"bgcolor\":\"#E5ECF6\",\"aaxis\":{\"gridcolor\":\"white\",\"linecolor\":\"white\",\"ticks\":\"\"},\"baxis\":{\"gridcolor\":\"white\",\"linecolor\":\"white\",\"ticks\":\"\"},\"caxis\":{\"gridcolor\":\"white\",\"linecolor\":\"white\",\"ticks\":\"\"}},\"coloraxis\":{\"colorbar\":{\"outlinewidth\":0,\"ticks\":\"\"}},\"colorscale\":{\"sequential\":[[0.0,\"#0d0887\"],[0.1111111111111111,\"#46039f\"],[0.2222222222222222,\"#7201a8\"],[0.3333333333333333,\"#9c179e\"],[0.4444444444444444,\"#bd3786\"],[0.5555555555555556,\"#d8576b\"],[0.6666666666666666,\"#ed7953\"],[0.7777777777777778,\"#fb9f3a\"],[0.8888888888888888,\"#fdca26\"],[1.0,\"#f0f921\"]],\"sequentialminus\":[[0.0,\"#0d0887\"],[0.1111111111111111,\"#46039f\"],[0.2222222222222222,\"#7201a8\"],[0.3333333333333333,\"#9c179e\"],[0.4444444444444444,\"#bd3786\"],[0.5555555555555556,\"#d8576b\"],[0.6666666666666666,\"#ed7953\"],[0.7777777777777778,\"#fb9f3a\"],[0.8888888888888888,\"#fdca26\"],[1.0,\"#f0f921\"]],\"diverging\":[[0,\"#8e0152\"],[0.1,\"#c51b7d\"],[0.2,\"#de77ae\"],[0.3,\"#f1b6da\"],[0.4,\"#fde0ef\"],[0.5,\"#f7f7f7\"],[0.6,\"#e6f5d0\"],[0.7,\"#b8e186\"],[0.8,\"#7fbc41\"],[0.9,\"#4d9221\"],[1,\"#276419\"]]},\"xaxis\":{\"gridcolor\":\"white\",\"linecolor\":\"white\",\"ticks\":\"\",\"title\":{\"standoff\":15},\"zerolinecolor\":\"white\",\"automargin\":true,\"zerolinewidth\":2},\"yaxis\":{\"gridcolor\":\"white\",\"linecolor\":\"white\",\"ticks\":\"\",\"title\":{\"standoff\":15},\"zerolinecolor\":\"white\",\"automargin\":true,\"zerolinewidth\":2},\"scene\":{\"xaxis\":{\"backgroundcolor\":\"#E5ECF6\",\"gridcolor\":\"white\",\"linecolor\":\"white\",\"showbackground\":true,\"ticks\":\"\",\"zerolinecolor\":\"white\",\"gridwidth\":2},\"yaxis\":{\"backgroundcolor\":\"#E5ECF6\",\"gridcolor\":\"white\",\"linecolor\":\"white\",\"showbackground\":true,\"ticks\":\"\",\"zerolinecolor\":\"white\",\"gridwidth\":2},\"zaxis\":{\"backgroundcolor\":\"#E5ECF6\",\"gridcolor\":\"white\",\"linecolor\":\"white\",\"showbackground\":true,\"ticks\":\"\",\"zerolinecolor\":\"white\",\"gridwidth\":2}},\"shapedefaults\":{\"line\":{\"color\":\"#2a3f5f\"}},\"annotationdefaults\":{\"arrowcolor\":\"#2a3f5f\",\"arrowhead\":0,\"arrowwidth\":1},\"geo\":{\"bgcolor\":\"white\",\"landcolor\":\"#E5ECF6\",\"subunitcolor\":\"white\",\"showland\":true,\"showlakes\":true,\"lakecolor\":\"white\"},\"title\":{\"x\":0.05},\"mapbox\":{\"style\":\"light\"}}},\"xaxis\":{\"anchor\":\"y\",\"domain\":[0.0,1.0]},\"yaxis\":{\"anchor\":\"x\",\"domain\":[0.55,1.0]},\"xaxis2\":{\"anchor\":\"y2\",\"domain\":[0.0,1.0]},\"yaxis2\":{\"anchor\":\"x2\",\"domain\":[0.0,0.45]},\"title\":{\"font\":{\"size\":20},\"text\":\"Nigeria\",\"x\":0.5,\"y\":0.97},\"margin\":{\"t\":40,\"l\":50,\"r\":10,\"b\":0},\"legend\":{\"font\":{\"size\":15},\"x\":0.5,\"y\":-0.05,\"xanchor\":\"center\",\"orientation\":\"h\"},\"annotations\":[{\"text\":\"<b>Deaths</b>\",\"y\":0.95,\"font\":{\"size\":18},\"x\":0.1,\"xref\":\"paper\",\"yref\":\"paper\",\"xanchor\":\"left\",\"showarrow\":false},{\"text\":\"<b>Cases</b>\",\"y\":0.3,\"font\":{\"size\":18},\"x\":0.1,\"xref\":\"paper\",\"yref\":\"paper\",\"xanchor\":\"left\",\"showarrow\":false}]},                        {\"responsive\": true}                    ).then(function(){\n",
       "                            \n",
       "var gd = document.getElementById('48c3d5c0-4f51-47e2-94e6-a0ac68847aa5');\n",
       "var x = new MutationObserver(function (mutations, observer) {{\n",
       "        var display = window.getComputedStyle(gd).display;\n",
       "        if (!display || display === 'none') {{\n",
       "            console.log([gd, 'removed!']);\n",
       "            Plotly.purge(gd);\n",
       "            observer.disconnect();\n",
       "        }}\n",
       "}});\n",
       "\n",
       "// Listen for the removal of the full notebook cells\n",
       "var notebookContainer = gd.closest('#notebook-container');\n",
       "if (notebookContainer) {{\n",
       "    x.observe(notebookContainer, {childList: true});\n",
       "}}\n",
       "\n",
       "// Listen for the clearing of the current output cell\n",
       "var outputEl = gd.closest('.output');\n",
       "if (outputEl) {{\n",
       "    x.observe(outputEl, {childList: true});\n",
       "}}\n",
       "\n",
       "                        })                };                });            </script>        </div>"
      ]
     },
     "metadata": {},
     "output_type": "display_data"
    }
   ],
   "source": [
    "figs[2]"
   ]
  },
  {
   "cell_type": "markdown",
   "metadata": {},
   "source": [
    "We set the `figure` parameter of `dcc.Graph` to be one of the figures and then place that object in our layout. This new object would appear under the table by default, since it's a block-level element. To display it to the side of the table, we place the tabs and graph within a div and set its `display` property to `grid`. A 2 x 2 grid is created using the following `gridTemplateAreas`.\n",
    "\n",
    "```css\n",
    "\"tables graphs\"\n",
    "\"tables maps\"\n",
    "```\n",
    "\n",
    "Each column is set to be 50% of the viewport width, `vw`. The graph is given the `gridArea` of \"graphs\", while the style of `table_tables` is updated so that it's `gridArea` is \"tables\". Lastly, `columnGap` is used to separate the left and right columns by 10 pixels."
   ]
  },
  {
   "cell_type": "code",
   "execution_count": 42,
   "metadata": {
    "tags": [
     "6"
    ]
   },
   "outputs": [
    {
     "data": {
      "text/html": [
       "\n",
       "        <iframe\n",
       "            width=\"100%\"\n",
       "            height=\"600\"\n",
       "            src=\"http://127.0.0.1:8050/\"\n",
       "            frameborder=\"0\"\n",
       "            allowfullscreen\n",
       "            \n",
       "        ></iframe>\n",
       "        "
      ],
      "text/plain": [
       "<IPython.lib.display.IFrame at 0x1df463cc430>"
      ]
     },
     "metadata": {},
     "output_type": "display_data"
    }
   ],
   "source": [
    "cumulative_graph = dcc.Graph(figure=figs[0], style={'gridArea': \"graphs\"})\n",
    "table_tabs.style = {'gridArea': \"tables\"}\n",
    "container = html.Div([table_tabs, cumulative_graph], \n",
    "                     style={'display': 'grid',\n",
    "                            'gridTemplateAreas': '\"tables graphs\" \"tables maps\"',\n",
    "                            'gridTemplateColumns': \"50vw 50vw\",\n",
    "                            'columnGap': '10px'})\n",
    "layout = html.Div([title, container])\n",
    "\n",
    "app = JupyterDash(__name__)\n",
    "app.layout = layout\n",
    "app.run_server(mode='inline', height=600)"
   ]
  },
  {
   "cell_type": "markdown",
   "metadata": {},
   "source": [
    "In the actual dashboard, we have tabs to cycle through each graph. We'll duplicate the procedure from above, adding each graph to its own tab."
   ]
  },
  {
   "cell_type": "code",
   "execution_count": 43,
   "metadata": {
    "tags": [
     "7"
    ]
   },
   "outputs": [
    {
     "data": {
      "text/html": [
       "\n",
       "        <iframe\n",
       "            width=\"100%\"\n",
       "            height=\"600\"\n",
       "            src=\"http://127.0.0.1:8050/\"\n",
       "            frameborder=\"0\"\n",
       "            allowfullscreen\n",
       "            \n",
       "        ></iframe>\n",
       "        "
      ],
      "text/plain": [
       "<IPython.lib.display.IFrame at 0x1df46eb4550>"
      ]
     },
     "metadata": {},
     "output_type": "display_data"
    }
   ],
   "source": [
    "cumulative_graph = dcc.Graph(figure=figs[0], id=\"cumulative-graph\")\n",
    "daily_graph = dcc.Graph(figure=figs[1], id=\"daily-graph\")\n",
    "weekly_graph = dcc.Graph(figure=figs[2], id=\"weekly-graph\")\n",
    "\n",
    "cumulative_tab = create_tab(cumulative_graph, \"Cumulative\", \"cumulative\")\n",
    "daily_tab = create_tab(daily_graph, \"Daily\", \"daily\")\n",
    "weekly_tab = create_tab(weekly_graph, \"Weekly\", \"weekly\")\n",
    "\n",
    "graph_tabs = dcc.Tabs(\n",
    "    [cumulative_tab, daily_tab, weekly_tab],\n",
    "    className=\"tabs-container\",\n",
    "    id=\"graph-tabs\",\n",
    "    value=\"cumulative\",\n",
    "    style={'gridArea': 'graphs', 'margin': '0px'}\n",
    ")\n",
    "\n",
    "container = html.Div([table_tabs, graph_tabs], \n",
    "                     style={'display': 'grid',\n",
    "                            'gridTemplateAreas': '\"tables graphs\" \"tables maps\"',\n",
    "                            'gridTemplateColumns': \"50vw 50vw\",\n",
    "                            'columnGap': '10px'})\n",
    "layout = html.Div([title, container])\n",
    "\n",
    "app = JupyterDash(__name__)\n",
    "app.layout = layout\n",
    "app.run_server(mode='inline', height=600)"
   ]
  },
  {
   "cell_type": "markdown",
   "metadata": {},
   "source": [
    "## Adding the maps\n",
    "\n",
    "The last main component of the dashboard are the world and USA maps. Here, we copy the code from a previous chapter that creates the maps with custom hover text."
   ]
  },
  {
   "cell_type": "code",
   "execution_count": 44,
   "metadata": {},
   "outputs": [],
   "source": [
    "import plotly.graph_objects as go\n",
    "\n",
    "def hover_text(x):\n",
    "    name = x[\"area\"]\n",
    "    deaths = x[\"Deaths\"]\n",
    "    cases = x[\"Cases\"]\n",
    "    deathsm = x[\"Deaths per Million\"]\n",
    "    casesm = x[\"Cases per Million\"]\n",
    "    return (\n",
    "        f\"<b>{name}</b><br>\"\n",
    "        f\"Deaths - {deaths:,.0f}<br>\"\n",
    "        f\"Cases - {cases:,.0f}<br>\"\n",
    "        f\"Deaths per Million - {deathsm:,.0f}<br>\"\n",
    "        f\"Cases per Million - {casesm:,.0f}<br>\"\n",
    "    )\n",
    "\n",
    "def create_map(group, radio_value):\n",
    "    df = SUMMARY.loc[group].query(\"population > 0.5\")\n",
    "    lm = None if group == \"world\" else \"USA-states\"\n",
    "    proj = \"robinson\" if group == \"world\" else \"albers usa\"\n",
    "\n",
    "    fig = go.Figure()\n",
    "    fig.add_choropleth(\n",
    "        locations=df[\"code\"],\n",
    "        z=df[radio_value],\n",
    "        zmin=0,\n",
    "        locationmode=lm,\n",
    "        colorscale=\"orrd\",\n",
    "        marker_line_width=0.5,\n",
    "        text=df.apply(hover_text, axis=1),\n",
    "        hoverinfo=\"text\",\n",
    "        colorbar=dict(len=0.6, x=1, y=0.5),\n",
    "    )\n",
    "    fig.update_layout(\n",
    "        geo={\n",
    "            \"lataxis\": {\"range\": [-50, 68]},\n",
    "            \"lonaxis\": {\"range\": [-130, 150]},\n",
    "            \"projection\": {\"type\": proj},\n",
    "            \"showframe\": False,\n",
    "        },\n",
    "        margin={\"t\": 0, \"l\": 10, \"r\": 10, \"b\": 0},\n",
    "    )\n",
    "    return fig"
   ]
  },
  {
   "cell_type": "markdown",
   "metadata": {},
   "source": [
    "Now we create a single map and color it by deaths per million."
   ]
  },
  {
   "cell_type": "code",
   "execution_count": 45,
   "metadata": {},
   "outputs": [
    {
     "data": {
      "application/vnd.plotly.v1+json": {
       "config": {
        "plotlyServerURL": "https://plot.ly"
       },
       "data": [
        {
         "colorbar": {
          "len": 0.6,
          "x": 1,
          "y": 0.5
         },
         "colorscale": [
          [
           0,
           "rgb(255,247,236)"
          ],
          [
           0.125,
           "rgb(254,232,200)"
          ],
          [
           0.25,
           "rgb(253,212,158)"
          ],
          [
           0.375,
           "rgb(253,187,132)"
          ],
          [
           0.5,
           "rgb(252,141,89)"
          ],
          [
           0.625,
           "rgb(239,101,72)"
          ],
          [
           0.75,
           "rgb(215,48,31)"
          ],
          [
           0.875,
           "rgb(179,0,0)"
          ],
          [
           1,
           "rgb(127,0,0)"
          ]
         ],
         "hoverinfo": "text",
         "locations": [
          "AFG",
          "ALB",
          "DZA",
          "AGO",
          "ARG",
          "ARM",
          "AUS",
          "AUT",
          "AZE",
          "BHR",
          "BGD",
          "BLR",
          "BEL",
          "BEN",
          "BTN",
          "BOL",
          "BIH",
          "BWA",
          "BRA",
          "BGR",
          "BFA",
          "BDI",
          "CPV",
          "KHM",
          "CMR",
          "CAN",
          "CAF",
          "TCD",
          "CHL",
          "CHN",
          "COL",
          "COM",
          "COG",
          "COD",
          "CRI",
          "CIV",
          "HRV",
          "CUB",
          "CYP",
          "CZE",
          "DNK",
          "DJI",
          "DOM",
          "ECU",
          "EGY",
          "SLV",
          "GNQ",
          "ERI",
          "EST",
          "SWZ",
          "ETH",
          "FJI",
          "FIN",
          "FRA",
          "GAB",
          "GMB",
          "GEO",
          "DEU",
          "GHA",
          "GRC",
          "GTM",
          "GIN",
          "GNB",
          "GUY",
          "HTI",
          "HND",
          "HUN",
          "IND",
          "IDN",
          "IRN",
          "IRQ",
          "IRL",
          "ISR",
          "ITA",
          "JAM",
          "JPN",
          "JOR",
          "KAZ",
          "KEN",
          "XKS",
          "KWT",
          "KGZ",
          "LAO",
          "LVA",
          "LBN",
          "LSO",
          "LBR",
          "LBY",
          "LTU",
          "LUX",
          "MDG",
          "MWI",
          "MYS",
          "MDV",
          "MLI",
          "MRT",
          "MUS",
          "MEX",
          "MDA",
          "MNG",
          "MNE",
          "MAR",
          "MOZ",
          "MMR",
          "NAM",
          "NPL",
          "NLD",
          "NZL",
          "NIC",
          "NER",
          "NGA",
          "MKD",
          "NOR",
          "OMN",
          "PAK",
          "PAN",
          "PNG",
          "PRY",
          "PER",
          "PHL",
          "POL",
          "PRT",
          "QAT",
          "ROU",
          "RUS",
          "RWA",
          "SAU",
          "SEN",
          "SRB",
          "SLE",
          "SGP",
          "SVK",
          "SVN",
          "SOM",
          "ZAF",
          "KOR",
          "SSD",
          "ESP",
          "LKA",
          "SDN",
          "SUR",
          "SWE",
          "CHE",
          "SYR",
          "TWN",
          "TJK",
          "TZA",
          "THA",
          "TLS",
          "TGO",
          "TTO",
          "TUN",
          "TUR",
          "UGA",
          "UKR",
          "ARE",
          "GBR",
          "URY",
          "UZB",
          "VEN",
          "VNM",
          "PSE",
          "YEM",
          "ZMB",
          "ZWE",
          "USA"
         ],
         "marker": {
          "line": {
           "width": 0.5
          }
         },
         "text": [
          "<b>Afghanistan</b><br>Deaths - 1,548<br>Cases - 41,814<br>Deaths per Million - 40<br>Cases per Million - 1,070<br>",
          "<b>Albania</b><br>Deaths - 543<br>Cases - 22,721<br>Deaths per Million - 189<br>Cases per Million - 7,900<br>",
          "<b>Algeria</b><br>Deaths - 2,011<br>Cases - 60,169<br>Deaths per Million - 46<br>Cases per Million - 1,370<br>",
          "<b>Angola</b><br>Deaths - 299<br>Cases - 12,102<br>Deaths per Million - 9<br>Cases per Million - 370<br>",
          "<b>Argentina</b><br>Deaths - 32,766<br>Cases - 1,217,028<br>Deaths per Million - 725<br>Cases per Million - 26,930<br>",
          "<b>Armenia</b><br>Deaths - 1,476<br>Cases - 99,563<br>Deaths per Million - 498<br>Cases per Million - 33,600<br>",
          "<b>Australia</b><br>Deaths - 907<br>Cases - 27,644<br>Deaths per Million - 36<br>Cases per Million - 1,090<br>",
          "<b>Austria</b><br>Deaths - 1,654<br>Cases - 128,005<br>Deaths per Million - 184<br>Cases per Million - 14,210<br>",
          "<b>Azerbaijan</b><br>Deaths - 794<br>Cases - 60,873<br>Deaths per Million - 78<br>Cases per Million - 6,000<br>",
          "<b>Bahrain</b><br>Deaths - 328<br>Cases - 82,786<br>Deaths per Million - 193<br>Cases per Million - 48,650<br>",
          "<b>Bangladesh</b><br>Deaths - 6,021<br>Cases - 416,006<br>Deaths per Million - 37<br>Cases per Million - 2,530<br>",
          "<b>Belarus</b><br>Deaths - 998<br>Cases - 103,295<br>Deaths per Million - 106<br>Cases per Million - 10,930<br>",
          "<b>Belgium</b><br>Deaths - 12,520<br>Cases - 479,341<br>Deaths per Million - 1,080<br>Cases per Million - 41,360<br>",
          "<b>Benin</b><br>Deaths - 43<br>Cases - 2,745<br>Deaths per Million - 4<br>Cases per Million - 230<br>",
          "<b>Bhutan</b><br>Deaths - 0<br>Cases - 358<br>Deaths per Million - 0<br>Cases per Million - 460<br>",
          "<b>Bolivia</b><br>Deaths - 8,768<br>Cases - 142,201<br>Deaths per Million - 751<br>Cases per Million - 12,180<br>",
          "<b>Bosnia and Herzegovina</b><br>Deaths - 1,402<br>Cases - 57,506<br>Deaths per Million - 427<br>Cases per Million - 17,530<br>",
          "<b>Botswana</b><br>Deaths - 27<br>Cases - 7,835<br>Deaths per Million - 11<br>Cases per Million - 3,330<br>",
          "<b>Brazil</b><br>Deaths - 161,849<br>Cases - 5,617,943<br>Deaths per Million - 761<br>Cases per Million - 26,430<br>",
          "<b>Bulgaria</b><br>Deaths - 1,518<br>Cases - 68,345<br>Deaths per Million - 218<br>Cases per Million - 9,840<br>",
          "<b>Burkina Faso</b><br>Deaths - 67<br>Cases - 2,550<br>Deaths per Million - 3<br>Cases per Million - 120<br>",
          "<b>Burundi</b><br>Deaths - 1<br>Cases - 606<br>Deaths per Million - 0<br>Cases per Million - 50<br>",
          "<b>Cabo Verde</b><br>Deaths - 97<br>Cases - 9,149<br>Deaths per Million - 174<br>Cases per Million - 16,460<br>",
          "<b>Cambodia</b><br>Deaths - 0<br>Cases - 292<br>Deaths per Million - 0<br>Cases per Million - 20<br>",
          "<b>Cameroon</b><br>Deaths - 429<br>Cases - 22,103<br>Deaths per Million - 16<br>Cases per Million - 830<br>",
          "<b>Canada</b><br>Deaths - 10,434<br>Cases - 255,285<br>Deaths per Million - 276<br>Cases per Million - 6,740<br>",
          "<b>Central African Republic</b><br>Deaths - 62<br>Cases - 4,866<br>Deaths per Million - 13<br>Cases per Million - 1,010<br>",
          "<b>Chad</b><br>Deaths - 99<br>Cases - 1,529<br>Deaths per Million - 6<br>Cases per Million - 90<br>",
          "<b>Chile</b><br>Deaths - 14,404<br>Cases - 516,582<br>Deaths per Million - 753<br>Cases per Million - 27,020<br>",
          "<b>China</b><br>Deaths - 4,740<br>Cases - 97,622<br>Deaths per Million - 3<br>Cases per Million - 70<br>",
          "<b>Colombia</b><br>Deaths - 32,209<br>Cases - 1,117,977<br>Deaths per Million - 633<br>Cases per Million - 21,970<br>",
          "<b>Comoros</b><br>Deaths - 7<br>Cases - 557<br>Deaths per Million - 8<br>Cases per Million - 640<br>",
          "<b>Congo (Brazzaville)</b><br>Deaths - 114<br>Cases - 5,348<br>Deaths per Million - 21<br>Cases per Million - 970<br>",
          "<b>Congo (Kinshasa)</b><br>Deaths - 315<br>Cases - 11,450<br>Deaths per Million - 4<br>Cases per Million - 130<br>",
          "<b>Costa Rica</b><br>Deaths - 1,444<br>Cases - 114,367<br>Deaths per Million - 283<br>Cases per Million - 22,450<br>",
          "<b>Cote d'Ivoire</b><br>Deaths - 126<br>Cases - 20,789<br>Deaths per Million - 5<br>Cases per Million - 790<br>",
          "<b>Croatia</b><br>Deaths - 683<br>Cases - 59,415<br>Deaths per Million - 166<br>Cases per Million - 14,470<br>",
          "<b>Cuba</b><br>Deaths - 129<br>Cases - 7,184<br>Deaths per Million - 11<br>Cases per Million - 630<br>",
          "<b>Cyprus</b><br>Deaths - 26<br>Cases - 5,100<br>Deaths per Million - 22<br>Cases per Million - 4,220<br>",
          "<b>Czechia</b><br>Deaths - 4,330<br>Cases - 391,945<br>Deaths per Million - 404<br>Cases per Million - 36,600<br>",
          "<b>Denmark</b><br>Deaths - 733<br>Cases - 52,265<br>Deaths per Million - 127<br>Cases per Million - 9,020<br>",
          "<b>Djibouti</b><br>Deaths - 61<br>Cases - 5,599<br>Deaths per Million - 62<br>Cases per Million - 5,670<br>",
          "<b>Dominican Republic</b><br>Deaths - 2,260<br>Cases - 128,824<br>Deaths per Million - 208<br>Cases per Million - 11,880<br>",
          "<b>Ecuador</b><br>Deaths - 12,730<br>Cases - 171,783<br>Deaths per Million - 722<br>Cases per Million - 9,740<br>",
          "<b>Egypt</b><br>Deaths - 6,329<br>Cases - 108,530<br>Deaths per Million - 62<br>Cases per Million - 1,060<br>",
          "<b>El Salvador</b><br>Deaths - 997<br>Cases - 34,782<br>Deaths per Million - 154<br>Cases per Million - 5,360<br>",
          "<b>Equatorial Guinea</b><br>Deaths - 85<br>Cases - 5,092<br>Deaths per Million - 61<br>Cases per Million - 3,630<br>",
          "<b>Eritrea</b><br>Deaths - 0<br>Cases - 484<br>Deaths per Million - 0<br>Cases per Million - 140<br>",
          "<b>Estonia</b><br>Deaths - 73<br>Cases - 5,464<br>Deaths per Million - 55<br>Cases per Million - 4,120<br>",
          "<b>Eswatini</b><br>Deaths - 117<br>Cases - 5,967<br>Deaths per Million - 101<br>Cases per Million - 5,140<br>",
          "<b>Ethiopia</b><br>Deaths - 1,508<br>Cases - 98,391<br>Deaths per Million - 13<br>Cases per Million - 860<br>",
          "<b>Fiji</b><br>Deaths - 2<br>Cases - 34<br>Deaths per Million - 2<br>Cases per Million - 40<br>",
          "<b>Finland</b><br>Deaths - 350<br>Cases - 17,458<br>Deaths per Million - 63<br>Cases per Million - 3,150<br>",
          "<b>France</b><br>Deaths - 39,088<br>Cases - 1,650,966<br>Deaths per Million - 599<br>Cases per Million - 25,290<br>",
          "<b>Gabon</b><br>Deaths - 55<br>Cases - 9,005<br>Deaths per Million - 25<br>Cases per Million - 4,050<br>",
          "<b>Gambia</b><br>Deaths - 120<br>Cases - 3,681<br>Deaths per Million - 50<br>Cases per Million - 1,520<br>",
          "<b>Georgia</b><br>Deaths - 401<br>Cases - 49,218<br>Deaths per Million - 101<br>Cases per Million - 12,340<br>",
          "<b>Germany</b><br>Deaths - 10,930<br>Cases - 597,583<br>Deaths per Million - 130<br>Cases per Million - 7,130<br>",
          "<b>Ghana</b><br>Deaths - 320<br>Cases - 48,788<br>Deaths per Million - 10<br>Cases per Million - 1,570<br>",
          "<b>Greece</b><br>Deaths - 702<br>Cases - 49,807<br>Deaths per Million - 67<br>Cases per Million - 4,780<br>",
          "<b>Guatemala</b><br>Deaths - 3,766<br>Cases - 109,849<br>Deaths per Million - 210<br>Cases per Million - 6,130<br>",
          "<b>Guinea</b><br>Deaths - 73<br>Cases - 12,363<br>Deaths per Million - 6<br>Cases per Million - 940<br>",
          "<b>Guinea-Bissau</b><br>Deaths - 42<br>Cases - 2,414<br>Deaths per Million - 21<br>Cases per Million - 1,230<br>",
          "<b>Guyana</b><br>Deaths - 130<br>Cases - 4,393<br>Deaths per Million - 165<br>Cases per Million - 5,590<br>",
          "<b>Haiti</b><br>Deaths - 232<br>Cases - 9,100<br>Deaths per Million - 20<br>Cases per Million - 800<br>",
          "<b>Honduras</b><br>Deaths - 2,736<br>Cases - 99,347<br>Deaths per Million - 276<br>Cases per Million - 10,030<br>",
          "<b>Hungary</b><br>Deaths - 2,147<br>Cases - 94,916<br>Deaths per Million - 222<br>Cases per Million - 9,830<br>",
          "<b>India</b><br>Deaths - 124,985<br>Cases - 8,411,724<br>Deaths per Million - 91<br>Cases per Million - 6,100<br>",
          "<b>Indonesia</b><br>Deaths - 14,348<br>Cases - 425,796<br>Deaths per Million - 52<br>Cases per Million - 1,560<br>",
          "<b>Iran</b><br>Deaths - 36,985<br>Cases - 654,936<br>Deaths per Million - 440<br>Cases per Million - 7,800<br>",
          "<b>Iraq</b><br>Deaths - 11,175<br>Cases - 489,571<br>Deaths per Million - 278<br>Cases per Million - 12,170<br>",
          "<b>Ireland</b><br>Deaths - 1,933<br>Cases - 64,046<br>Deaths per Million - 391<br>Cases per Million - 12,970<br>",
          "<b>Israel</b><br>Deaths - 2,652<br>Cases - 317,980<br>Deaths per Million - 306<br>Cases per Million - 36,740<br>",
          "<b>Italy</b><br>Deaths - 40,192<br>Cases - 824,879<br>Deaths per Million - 665<br>Cases per Million - 13,640<br>",
          "<b>Jamaica</b><br>Deaths - 217<br>Cases - 9,373<br>Deaths per Million - 73<br>Cases per Million - 3,170<br>",
          "<b>Japan</b><br>Deaths - 1,808<br>Cases - 104,960<br>Deaths per Million - 14<br>Cases per Million - 830<br>",
          "<b>Jordan</b><br>Deaths - 1,069<br>Cases - 95,864<br>Deaths per Million - 105<br>Cases per Million - 9,400<br>",
          "<b>Kazakhstan</b><br>Deaths - 2,259<br>Cases - 152,725<br>Deaths per Million - 120<br>Cases per Million - 8,130<br>",
          "<b>Kenya</b><br>Deaths - 1,072<br>Cases - 59,595<br>Deaths per Million - 20<br>Cases per Million - 1,110<br>",
          "<b>Kosovo</b><br>Deaths - 720<br>Cases - 22,206<br>Deaths per Million - 398<br>Cases per Million - 12,270<br>",
          "<b>Kuwait</b><br>Deaths - 799<br>Cases - 129,638<br>Deaths per Million - 187<br>Cases per Million - 30,360<br>",
          "<b>Kyrgyzstan</b><br>Deaths - 1,498<br>Cases - 61,309<br>Deaths per Million - 230<br>Cases per Million - 9,400<br>",
          "<b>Laos</b><br>Deaths - 0<br>Cases - 24<br>Deaths per Million - 0<br>Cases per Million - 0<br>",
          "<b>Latvia</b><br>Deaths - 88<br>Cases - 7,119<br>Deaths per Million - 47<br>Cases per Million - 3,770<br>",
          "<b>Lebanon</b><br>Deaths - 683<br>Cases - 89,186<br>Deaths per Million - 100<br>Cases per Million - 13,070<br>",
          "<b>Lesotho</b><br>Deaths - 44<br>Cases - 1,963<br>Deaths per Million - 21<br>Cases per Million - 920<br>",
          "<b>Liberia</b><br>Deaths - 82<br>Cases - 1,436<br>Deaths per Million - 16<br>Cases per Million - 280<br>",
          "<b>Libya</b><br>Deaths - 907<br>Cases - 65,440<br>Deaths per Million - 132<br>Cases per Million - 9,520<br>",
          "<b>Lithuania</b><br>Deaths - 178<br>Cases - 20,410<br>Deaths per Million - 65<br>Cases per Million - 7,500<br>",
          "<b>Luxembourg</b><br>Deaths - 177<br>Cases - 21,147<br>Deaths per Million - 283<br>Cases per Million - 33,780<br>",
          "<b>Madagascar</b><br>Deaths - 244<br>Cases - 17,111<br>Deaths per Million - 9<br>Cases per Million - 620<br>",
          "<b>Malawi</b><br>Deaths - 184<br>Cases - 5,940<br>Deaths per Million - 10<br>Cases per Million - 310<br>",
          "<b>Malaysia</b><br>Deaths - 277<br>Cases - 36,434<br>Deaths per Million - 9<br>Cases per Million - 1,130<br>",
          "<b>Maldives</b><br>Deaths - 38<br>Cases - 11,893<br>Deaths per Million - 70<br>Cases per Million - 22,000<br>",
          "<b>Mali</b><br>Deaths - 137<br>Cases - 3,633<br>Deaths per Million - 7<br>Cases per Million - 180<br>",
          "<b>Mauritania</b><br>Deaths - 165<br>Cases - 7,777<br>Deaths per Million - 35<br>Cases per Million - 1,670<br>",
          "<b>Mauritius</b><br>Deaths - 10<br>Cases - 452<br>Deaths per Million - 8<br>Cases per Million - 360<br>",
          "<b>Mexico</b><br>Deaths - 93,772<br>Cases - 949,197<br>Deaths per Million - 734<br>Cases per Million - 7,430<br>",
          "<b>Moldova</b><br>Deaths - 1,866<br>Cases - 79,566<br>Deaths per Million - 463<br>Cases per Million - 19,720<br>",
          "<b>Mongolia</b><br>Deaths - 0<br>Cases - 352<br>Deaths per Million - 0<br>Cases per Million - 110<br>",
          "<b>Montenegro</b><br>Deaths - 328<br>Cases - 21,533<br>Deaths per Million - 522<br>Cases per Million - 34,280<br>",
          "<b>Morocco</b><br>Deaths - 4,059<br>Cases - 240,951<br>Deaths per Million - 110<br>Cases per Million - 6,530<br>",
          "<b>Mozambique</b><br>Deaths - 97<br>Cases - 13,391<br>Deaths per Million - 3<br>Cases per Million - 430<br>",
          "<b>Myanmar</b><br>Deaths - 1,352<br>Cases - 57,935<br>Deaths per Million - 25<br>Cases per Million - 1,060<br>",
          "<b>Namibia</b><br>Deaths - 133<br>Cases - 13,090<br>Deaths per Million - 52<br>Cases per Million - 5,150<br>",
          "<b>Nepal</b><br>Deaths - 1,052<br>Cases - 185,974<br>Deaths per Million - 36<br>Cases per Million - 6,380<br>",
          "<b>Netherlands</b><br>Deaths - 7,836<br>Cases - 404,354<br>Deaths per Million - 457<br>Cases per Million - 23,600<br>",
          "<b>New Zealand</b><br>Deaths - 26<br>Cases - 1,974<br>Deaths per Million - 5<br>Cases per Million - 410<br>",
          "<b>Nicaragua</b><br>Deaths - 157<br>Cases - 4,480<br>Deaths per Million - 24<br>Cases per Million - 680<br>",
          "<b>Niger</b><br>Deaths - 69<br>Cases - 1,226<br>Deaths per Million - 3<br>Cases per Million - 50<br>",
          "<b>Nigeria</b><br>Deaths - 1,155<br>Cases - 63,508<br>Deaths per Million - 6<br>Cases per Million - 310<br>",
          "<b>North Macedonia</b><br>Deaths - 1,084<br>Cases - 36,372<br>Deaths per Million - 520<br>Cases per Million - 17,460<br>",
          "<b>Norway</b><br>Deaths - 284<br>Cases - 23,229<br>Deaths per Million - 52<br>Cases per Million - 4,280<br>",
          "<b>Oman</b><br>Deaths - 1,286<br>Cases - 117,167<br>Deaths per Million - 252<br>Cases per Million - 22,940<br>",
          "<b>Pakistan</b><br>Deaths - 6,923<br>Cases - 340,251<br>Deaths per Million - 31<br>Cases per Million - 1,540<br>",
          "<b>Panama</b><br>Deaths - 2,756<br>Cases - 136,567<br>Deaths per Million - 639<br>Cases per Million - 31,650<br>",
          "<b>Papua New Guinea</b><br>Deaths - 7<br>Cases - 597<br>Deaths per Million - 1<br>Cases per Million - 70<br>",
          "<b>Paraguay</b><br>Deaths - 1,462<br>Cases - 65,778<br>Deaths per Million - 205<br>Cases per Million - 9,220<br>",
          "<b>Peru</b><br>Deaths - 87,033<br>Cases - 914,722<br>Deaths per Million - 2,640<br>Cases per Million - 27,740<br>",
          "<b>Philippines</b><br>Deaths - 7,409<br>Cases - 389,725<br>Deaths per Million - 68<br>Cases per Million - 3,560<br>",
          "<b>Poland</b><br>Deaths - 6,842<br>Cases - 466,679<br>Deaths per Million - 181<br>Cases per Million - 12,330<br>",
          "<b>Portugal</b><br>Deaths - 2,740<br>Cases - 161,350<br>Deaths per Million - 269<br>Cases per Million - 15,820<br>",
          "<b>Qatar</b><br>Deaths - 232<br>Cases - 133,619<br>Deaths per Million - 81<br>Cases per Million - 46,380<br>",
          "<b>Romania</b><br>Deaths - 7,540<br>Cases - 276,802<br>Deaths per Million - 392<br>Cases per Million - 14,390<br>",
          "<b>Russia</b><br>Deaths - 29,285<br>Cases - 1,699,695<br>Deaths per Million - 201<br>Cases per Million - 11,650<br>",
          "<b>Rwanda</b><br>Deaths - 36<br>Cases - 5,192<br>Deaths per Million - 3<br>Cases per Million - 400<br>",
          "<b>Saudi Arabia</b><br>Deaths - 5,489<br>Cases - 349,386<br>Deaths per Million - 158<br>Cases per Million - 10,040<br>",
          "<b>Senegal</b><br>Deaths - 326<br>Cases - 15,668<br>Deaths per Million - 19<br>Cases per Million - 940<br>",
          "<b>Serbia</b><br>Deaths - 861<br>Cases - 55,676<br>Deaths per Million - 99<br>Cases per Million - 6,370<br>",
          "<b>Sierra Leone</b><br>Deaths - 74<br>Cases - 2,371<br>Deaths per Million - 9<br>Cases per Million - 300<br>",
          "<b>Singapore</b><br>Deaths - 28<br>Cases - 58,043<br>Deaths per Million - 5<br>Cases per Million - 9,920<br>",
          "<b>Slovakia</b><br>Deaths - 286<br>Cases - 73,755<br>Deaths per Million - 52<br>Cases per Million - 13,510<br>",
          "<b>Slovenia</b><br>Deaths - 471<br>Cases - 41,094<br>Deaths per Million - 227<br>Cases per Million - 19,770<br>",
          "<b>Somalia</b><br>Deaths - 107<br>Cases - 4,229<br>Deaths per Million - 7<br>Cases per Million - 270<br>",
          "<b>South Africa</b><br>Deaths - 19,677<br>Cases - 732,414<br>Deaths per Million - 332<br>Cases per Million - 12,350<br>",
          "<b>South Korea</b><br>Deaths - 476<br>Cases - 27,195<br>Deaths per Million - 9<br>Cases per Million - 530<br>",
          "<b>South Sudan</b><br>Deaths - 59<br>Cases - 2,943<br>Deaths per Million - 5<br>Cases per Million - 260<br>",
          "<b>Spain</b><br>Deaths - 38,486<br>Cases - 1,306,316<br>Deaths per Million - 823<br>Cases per Million - 27,940<br>",
          "<b>Sri Lanka</b><br>Deaths - 29<br>Cases - 12,570<br>Deaths per Million - 1<br>Cases per Million - 590<br>",
          "<b>Sudan</b><br>Deaths - 837<br>Cases - 13,996<br>Deaths per Million - 19<br>Cases per Million - 320<br>",
          "<b>Suriname</b><br>Deaths - 112<br>Cases - 5,225<br>Deaths per Million - 191<br>Cases per Million - 8,910<br>",
          "<b>Sweden</b><br>Deaths - 6,002<br>Cases - 141,764<br>Deaths per Million - 594<br>Cases per Million - 14,040<br>",
          "<b>Switzerland</b><br>Deaths - 2,755<br>Cases - 202,504<br>Deaths per Million - 318<br>Cases per Million - 23,400<br>",
          "<b>Syria</b><br>Deaths - 305<br>Cases - 6,040<br>Deaths per Million - 17<br>Cases per Million - 350<br>",
          "<b>Taiwan</b><br>Deaths - 7<br>Cases - 569<br>Deaths per Million - 0<br>Cases per Million - 20<br>",
          "<b>Tajikistan</b><br>Deaths - 83<br>Cases - 11,180<br>Deaths per Million - 9<br>Cases per Million - 1,170<br>",
          "<b>Tanzania</b><br>Deaths - 21<br>Cases - 509<br>Deaths per Million - 0<br>Cases per Million - 10<br>",
          "<b>Thailand</b><br>Deaths - 59<br>Cases - 3,810<br>Deaths per Million - 1<br>Cases per Million - 50<br>",
          "<b>Timor-Leste</b><br>Deaths - 0<br>Cases - 30<br>Deaths per Million - 0<br>Cases per Million - 20<br>",
          "<b>Togo</b><br>Deaths - 57<br>Cases - 2,442<br>Deaths per Million - 7<br>Cases per Million - 290<br>",
          "<b>Trinidad and Tobago</b><br>Deaths - 111<br>Cases - 5,774<br>Deaths per Million - 79<br>Cases per Million - 4,130<br>",
          "<b>Tunisia</b><br>Deaths - 1,577<br>Cases - 66,334<br>Deaths per Million - 133<br>Cases per Million - 5,610<br>",
          "<b>Turkey</b><br>Deaths - 10,639<br>Cases - 386,820<br>Deaths per Million - 126<br>Cases per Million - 4,590<br>",
          "<b>Uganda</b><br>Deaths - 117<br>Cases - 13,568<br>Deaths per Million - 3<br>Cases per Million - 300<br>",
          "<b>Ukraine</b><br>Deaths - 8,148<br>Cases - 443,630<br>Deaths per Million - 186<br>Cases per Million - 10,140<br>",
          "<b>United Arab Emirates</b><br>Deaths - 508<br>Cases - 138,599<br>Deaths per Million - 51<br>Cases per Million - 14,010<br>",
          "<b>United Kingdom</b><br>Deaths - 66,110<br>Cases - 1,126,445<br>Deaths per Million - 974<br>Cases per Million - 16,590<br>",
          "<b>Uruguay</b><br>Deaths - 61<br>Cases - 3,309<br>Deaths per Million - 18<br>Cases per Million - 950<br>",
          "<b>Uzbekistan</b><br>Deaths - 579<br>Cases - 68,009<br>Deaths per Million - 17<br>Cases per Million - 2,030<br>",
          "<b>Venezuela</b><br>Deaths - 819<br>Cases - 93,921<br>Deaths per Million - 29<br>Cases per Million - 3,300<br>",
          "<b>Vietnam</b><br>Deaths - 35<br>Cases - 1,207<br>Deaths per Million - 0<br>Cases per Million - 10<br>",
          "<b>West Bank and Gaza</b><br>Deaths - 508<br>Cases - 56,672<br>Deaths per Million - 100<br>Cases per Million - 11,110<br>",
          "<b>Yemen</b><br>Deaths - 601<br>Cases - 2,063<br>Deaths per Million - 20<br>Cases per Million - 70<br>",
          "<b>Zambia</b><br>Deaths - 349<br>Cases - 16,770<br>Deaths per Million - 19<br>Cases per Million - 910<br>",
          "<b>Zimbabwe</b><br>Deaths - 248<br>Cases - 8,444<br>Deaths per Million - 17<br>Cases per Million - 570<br>",
          "<b>USA</b><br>Deaths - 235,651<br>Cases - 9,698,153<br>Deaths per Million - 715<br>Cases per Million - 29,440<br>"
         ],
         "type": "choropleth",
         "z": [
          40,
          189,
          46,
          9,
          725,
          498,
          36,
          184,
          78,
          193,
          37,
          106,
          1080,
          4,
          0,
          751,
          427,
          11,
          761,
          218,
          3,
          0,
          174,
          0,
          16,
          276,
          13,
          6,
          753,
          3,
          633,
          8,
          21,
          4,
          283,
          5,
          166,
          11,
          22,
          404,
          127,
          62,
          208,
          722,
          62,
          154,
          61,
          0,
          55,
          101,
          13,
          2,
          63,
          599,
          25,
          50,
          101,
          130,
          10,
          67,
          210,
          6,
          21,
          165,
          20,
          276,
          222,
          91,
          52,
          440,
          278,
          391,
          306,
          665,
          73,
          14,
          105,
          120,
          20,
          398,
          187,
          230,
          0,
          47,
          100,
          21,
          16,
          132,
          65,
          283,
          9,
          10,
          9,
          70,
          7,
          35,
          8,
          734,
          463,
          0,
          522,
          110,
          3,
          25,
          52,
          36,
          457,
          5,
          24,
          3,
          6,
          520,
          52,
          252,
          31,
          639,
          1,
          205,
          2640,
          68,
          181,
          269,
          81,
          392,
          201,
          3,
          158,
          19,
          99,
          9,
          5,
          52,
          227,
          7,
          332,
          9,
          5,
          823,
          1,
          19,
          191,
          594,
          318,
          17,
          0,
          9,
          0,
          1,
          0,
          7,
          79,
          133,
          126,
          3,
          186,
          51,
          974,
          18,
          17,
          29,
          0,
          100,
          20,
          19,
          17,
          715
         ],
         "zmin": 0
        }
       ],
       "layout": {
        "geo": {
         "lataxis": {
          "range": [
           -50,
           68
          ]
         },
         "lonaxis": {
          "range": [
           -130,
           150
          ]
         },
         "projection": {
          "type": "robinson"
         },
         "showframe": false
        },
        "margin": {
         "b": 0,
         "l": 10,
         "r": 10,
         "t": 0
        },
        "template": {
         "data": {
          "bar": [
           {
            "error_x": {
             "color": "#2a3f5f"
            },
            "error_y": {
             "color": "#2a3f5f"
            },
            "marker": {
             "line": {
              "color": "#E5ECF6",
              "width": 0.5
             },
             "pattern": {
              "fillmode": "overlay",
              "size": 10,
              "solidity": 0.2
             }
            },
            "type": "bar"
           }
          ],
          "barpolar": [
           {
            "marker": {
             "line": {
              "color": "#E5ECF6",
              "width": 0.5
             },
             "pattern": {
              "fillmode": "overlay",
              "size": 10,
              "solidity": 0.2
             }
            },
            "type": "barpolar"
           }
          ],
          "carpet": [
           {
            "aaxis": {
             "endlinecolor": "#2a3f5f",
             "gridcolor": "white",
             "linecolor": "white",
             "minorgridcolor": "white",
             "startlinecolor": "#2a3f5f"
            },
            "baxis": {
             "endlinecolor": "#2a3f5f",
             "gridcolor": "white",
             "linecolor": "white",
             "minorgridcolor": "white",
             "startlinecolor": "#2a3f5f"
            },
            "type": "carpet"
           }
          ],
          "choropleth": [
           {
            "colorbar": {
             "outlinewidth": 0,
             "ticks": ""
            },
            "type": "choropleth"
           }
          ],
          "contour": [
           {
            "colorbar": {
             "outlinewidth": 0,
             "ticks": ""
            },
            "colorscale": [
             [
              0,
              "#0d0887"
             ],
             [
              0.1111111111111111,
              "#46039f"
             ],
             [
              0.2222222222222222,
              "#7201a8"
             ],
             [
              0.3333333333333333,
              "#9c179e"
             ],
             [
              0.4444444444444444,
              "#bd3786"
             ],
             [
              0.5555555555555556,
              "#d8576b"
             ],
             [
              0.6666666666666666,
              "#ed7953"
             ],
             [
              0.7777777777777778,
              "#fb9f3a"
             ],
             [
              0.8888888888888888,
              "#fdca26"
             ],
             [
              1,
              "#f0f921"
             ]
            ],
            "type": "contour"
           }
          ],
          "contourcarpet": [
           {
            "colorbar": {
             "outlinewidth": 0,
             "ticks": ""
            },
            "type": "contourcarpet"
           }
          ],
          "heatmap": [
           {
            "colorbar": {
             "outlinewidth": 0,
             "ticks": ""
            },
            "colorscale": [
             [
              0,
              "#0d0887"
             ],
             [
              0.1111111111111111,
              "#46039f"
             ],
             [
              0.2222222222222222,
              "#7201a8"
             ],
             [
              0.3333333333333333,
              "#9c179e"
             ],
             [
              0.4444444444444444,
              "#bd3786"
             ],
             [
              0.5555555555555556,
              "#d8576b"
             ],
             [
              0.6666666666666666,
              "#ed7953"
             ],
             [
              0.7777777777777778,
              "#fb9f3a"
             ],
             [
              0.8888888888888888,
              "#fdca26"
             ],
             [
              1,
              "#f0f921"
             ]
            ],
            "type": "heatmap"
           }
          ],
          "heatmapgl": [
           {
            "colorbar": {
             "outlinewidth": 0,
             "ticks": ""
            },
            "colorscale": [
             [
              0,
              "#0d0887"
             ],
             [
              0.1111111111111111,
              "#46039f"
             ],
             [
              0.2222222222222222,
              "#7201a8"
             ],
             [
              0.3333333333333333,
              "#9c179e"
             ],
             [
              0.4444444444444444,
              "#bd3786"
             ],
             [
              0.5555555555555556,
              "#d8576b"
             ],
             [
              0.6666666666666666,
              "#ed7953"
             ],
             [
              0.7777777777777778,
              "#fb9f3a"
             ],
             [
              0.8888888888888888,
              "#fdca26"
             ],
             [
              1,
              "#f0f921"
             ]
            ],
            "type": "heatmapgl"
           }
          ],
          "histogram": [
           {
            "marker": {
             "pattern": {
              "fillmode": "overlay",
              "size": 10,
              "solidity": 0.2
             }
            },
            "type": "histogram"
           }
          ],
          "histogram2d": [
           {
            "colorbar": {
             "outlinewidth": 0,
             "ticks": ""
            },
            "colorscale": [
             [
              0,
              "#0d0887"
             ],
             [
              0.1111111111111111,
              "#46039f"
             ],
             [
              0.2222222222222222,
              "#7201a8"
             ],
             [
              0.3333333333333333,
              "#9c179e"
             ],
             [
              0.4444444444444444,
              "#bd3786"
             ],
             [
              0.5555555555555556,
              "#d8576b"
             ],
             [
              0.6666666666666666,
              "#ed7953"
             ],
             [
              0.7777777777777778,
              "#fb9f3a"
             ],
             [
              0.8888888888888888,
              "#fdca26"
             ],
             [
              1,
              "#f0f921"
             ]
            ],
            "type": "histogram2d"
           }
          ],
          "histogram2dcontour": [
           {
            "colorbar": {
             "outlinewidth": 0,
             "ticks": ""
            },
            "colorscale": [
             [
              0,
              "#0d0887"
             ],
             [
              0.1111111111111111,
              "#46039f"
             ],
             [
              0.2222222222222222,
              "#7201a8"
             ],
             [
              0.3333333333333333,
              "#9c179e"
             ],
             [
              0.4444444444444444,
              "#bd3786"
             ],
             [
              0.5555555555555556,
              "#d8576b"
             ],
             [
              0.6666666666666666,
              "#ed7953"
             ],
             [
              0.7777777777777778,
              "#fb9f3a"
             ],
             [
              0.8888888888888888,
              "#fdca26"
             ],
             [
              1,
              "#f0f921"
             ]
            ],
            "type": "histogram2dcontour"
           }
          ],
          "mesh3d": [
           {
            "colorbar": {
             "outlinewidth": 0,
             "ticks": ""
            },
            "type": "mesh3d"
           }
          ],
          "parcoords": [
           {
            "line": {
             "colorbar": {
              "outlinewidth": 0,
              "ticks": ""
             }
            },
            "type": "parcoords"
           }
          ],
          "pie": [
           {
            "automargin": true,
            "type": "pie"
           }
          ],
          "scatter": [
           {
            "fillpattern": {
             "fillmode": "overlay",
             "size": 10,
             "solidity": 0.2
            },
            "type": "scatter"
           }
          ],
          "scatter3d": [
           {
            "line": {
             "colorbar": {
              "outlinewidth": 0,
              "ticks": ""
             }
            },
            "marker": {
             "colorbar": {
              "outlinewidth": 0,
              "ticks": ""
             }
            },
            "type": "scatter3d"
           }
          ],
          "scattercarpet": [
           {
            "marker": {
             "colorbar": {
              "outlinewidth": 0,
              "ticks": ""
             }
            },
            "type": "scattercarpet"
           }
          ],
          "scattergeo": [
           {
            "marker": {
             "colorbar": {
              "outlinewidth": 0,
              "ticks": ""
             }
            },
            "type": "scattergeo"
           }
          ],
          "scattergl": [
           {
            "marker": {
             "colorbar": {
              "outlinewidth": 0,
              "ticks": ""
             }
            },
            "type": "scattergl"
           }
          ],
          "scattermapbox": [
           {
            "marker": {
             "colorbar": {
              "outlinewidth": 0,
              "ticks": ""
             }
            },
            "type": "scattermapbox"
           }
          ],
          "scatterpolar": [
           {
            "marker": {
             "colorbar": {
              "outlinewidth": 0,
              "ticks": ""
             }
            },
            "type": "scatterpolar"
           }
          ],
          "scatterpolargl": [
           {
            "marker": {
             "colorbar": {
              "outlinewidth": 0,
              "ticks": ""
             }
            },
            "type": "scatterpolargl"
           }
          ],
          "scatterternary": [
           {
            "marker": {
             "colorbar": {
              "outlinewidth": 0,
              "ticks": ""
             }
            },
            "type": "scatterternary"
           }
          ],
          "surface": [
           {
            "colorbar": {
             "outlinewidth": 0,
             "ticks": ""
            },
            "colorscale": [
             [
              0,
              "#0d0887"
             ],
             [
              0.1111111111111111,
              "#46039f"
             ],
             [
              0.2222222222222222,
              "#7201a8"
             ],
             [
              0.3333333333333333,
              "#9c179e"
             ],
             [
              0.4444444444444444,
              "#bd3786"
             ],
             [
              0.5555555555555556,
              "#d8576b"
             ],
             [
              0.6666666666666666,
              "#ed7953"
             ],
             [
              0.7777777777777778,
              "#fb9f3a"
             ],
             [
              0.8888888888888888,
              "#fdca26"
             ],
             [
              1,
              "#f0f921"
             ]
            ],
            "type": "surface"
           }
          ],
          "table": [
           {
            "cells": {
             "fill": {
              "color": "#EBF0F8"
             },
             "line": {
              "color": "white"
             }
            },
            "header": {
             "fill": {
              "color": "#C8D4E3"
             },
             "line": {
              "color": "white"
             }
            },
            "type": "table"
           }
          ]
         },
         "layout": {
          "annotationdefaults": {
           "arrowcolor": "#2a3f5f",
           "arrowhead": 0,
           "arrowwidth": 1
          },
          "autotypenumbers": "strict",
          "coloraxis": {
           "colorbar": {
            "outlinewidth": 0,
            "ticks": ""
           }
          },
          "colorscale": {
           "diverging": [
            [
             0,
             "#8e0152"
            ],
            [
             0.1,
             "#c51b7d"
            ],
            [
             0.2,
             "#de77ae"
            ],
            [
             0.3,
             "#f1b6da"
            ],
            [
             0.4,
             "#fde0ef"
            ],
            [
             0.5,
             "#f7f7f7"
            ],
            [
             0.6,
             "#e6f5d0"
            ],
            [
             0.7,
             "#b8e186"
            ],
            [
             0.8,
             "#7fbc41"
            ],
            [
             0.9,
             "#4d9221"
            ],
            [
             1,
             "#276419"
            ]
           ],
           "sequential": [
            [
             0,
             "#0d0887"
            ],
            [
             0.1111111111111111,
             "#46039f"
            ],
            [
             0.2222222222222222,
             "#7201a8"
            ],
            [
             0.3333333333333333,
             "#9c179e"
            ],
            [
             0.4444444444444444,
             "#bd3786"
            ],
            [
             0.5555555555555556,
             "#d8576b"
            ],
            [
             0.6666666666666666,
             "#ed7953"
            ],
            [
             0.7777777777777778,
             "#fb9f3a"
            ],
            [
             0.8888888888888888,
             "#fdca26"
            ],
            [
             1,
             "#f0f921"
            ]
           ],
           "sequentialminus": [
            [
             0,
             "#0d0887"
            ],
            [
             0.1111111111111111,
             "#46039f"
            ],
            [
             0.2222222222222222,
             "#7201a8"
            ],
            [
             0.3333333333333333,
             "#9c179e"
            ],
            [
             0.4444444444444444,
             "#bd3786"
            ],
            [
             0.5555555555555556,
             "#d8576b"
            ],
            [
             0.6666666666666666,
             "#ed7953"
            ],
            [
             0.7777777777777778,
             "#fb9f3a"
            ],
            [
             0.8888888888888888,
             "#fdca26"
            ],
            [
             1,
             "#f0f921"
            ]
           ]
          },
          "colorway": [
           "#636efa",
           "#EF553B",
           "#00cc96",
           "#ab63fa",
           "#FFA15A",
           "#19d3f3",
           "#FF6692",
           "#B6E880",
           "#FF97FF",
           "#FECB52"
          ],
          "font": {
           "color": "#2a3f5f"
          },
          "geo": {
           "bgcolor": "white",
           "lakecolor": "white",
           "landcolor": "#E5ECF6",
           "showlakes": true,
           "showland": true,
           "subunitcolor": "white"
          },
          "hoverlabel": {
           "align": "left"
          },
          "hovermode": "closest",
          "mapbox": {
           "style": "light"
          },
          "paper_bgcolor": "white",
          "plot_bgcolor": "#E5ECF6",
          "polar": {
           "angularaxis": {
            "gridcolor": "white",
            "linecolor": "white",
            "ticks": ""
           },
           "bgcolor": "#E5ECF6",
           "radialaxis": {
            "gridcolor": "white",
            "linecolor": "white",
            "ticks": ""
           }
          },
          "scene": {
           "xaxis": {
            "backgroundcolor": "#E5ECF6",
            "gridcolor": "white",
            "gridwidth": 2,
            "linecolor": "white",
            "showbackground": true,
            "ticks": "",
            "zerolinecolor": "white"
           },
           "yaxis": {
            "backgroundcolor": "#E5ECF6",
            "gridcolor": "white",
            "gridwidth": 2,
            "linecolor": "white",
            "showbackground": true,
            "ticks": "",
            "zerolinecolor": "white"
           },
           "zaxis": {
            "backgroundcolor": "#E5ECF6",
            "gridcolor": "white",
            "gridwidth": 2,
            "linecolor": "white",
            "showbackground": true,
            "ticks": "",
            "zerolinecolor": "white"
           }
          },
          "shapedefaults": {
           "line": {
            "color": "#2a3f5f"
           }
          },
          "ternary": {
           "aaxis": {
            "gridcolor": "white",
            "linecolor": "white",
            "ticks": ""
           },
           "baxis": {
            "gridcolor": "white",
            "linecolor": "white",
            "ticks": ""
           },
           "bgcolor": "#E5ECF6",
           "caxis": {
            "gridcolor": "white",
            "linecolor": "white",
            "ticks": ""
           }
          },
          "title": {
           "x": 0.05
          },
          "xaxis": {
           "automargin": true,
           "gridcolor": "white",
           "linecolor": "white",
           "ticks": "",
           "title": {
            "standoff": 15
           },
           "zerolinecolor": "white",
           "zerolinewidth": 2
          },
          "yaxis": {
           "automargin": true,
           "gridcolor": "white",
           "linecolor": "white",
           "ticks": "",
           "title": {
            "standoff": 15
           },
           "zerolinecolor": "white",
           "zerolinewidth": 2
          }
         }
        }
       }
      },
      "text/html": [
       "<div>                            <div id=\"f67e04b1-d90f-4a7b-8425-4f4d7ab22910\" class=\"plotly-graph-div\" style=\"height:525px; width:100%;\"></div>            <script type=\"text/javascript\">                require([\"plotly\"], function(Plotly) {                    window.PLOTLYENV=window.PLOTLYENV || {};                                    if (document.getElementById(\"f67e04b1-d90f-4a7b-8425-4f4d7ab22910\")) {                    Plotly.newPlot(                        \"f67e04b1-d90f-4a7b-8425-4f4d7ab22910\",                        [{\"colorbar\":{\"len\":0.6,\"x\":1,\"y\":0.5},\"colorscale\":[[0.0,\"rgb(255,247,236)\"],[0.125,\"rgb(254,232,200)\"],[0.25,\"rgb(253,212,158)\"],[0.375,\"rgb(253,187,132)\"],[0.5,\"rgb(252,141,89)\"],[0.625,\"rgb(239,101,72)\"],[0.75,\"rgb(215,48,31)\"],[0.875,\"rgb(179,0,0)\"],[1.0,\"rgb(127,0,0)\"]],\"hoverinfo\":\"text\",\"locations\":[\"AFG\",\"ALB\",\"DZA\",\"AGO\",\"ARG\",\"ARM\",\"AUS\",\"AUT\",\"AZE\",\"BHR\",\"BGD\",\"BLR\",\"BEL\",\"BEN\",\"BTN\",\"BOL\",\"BIH\",\"BWA\",\"BRA\",\"BGR\",\"BFA\",\"BDI\",\"CPV\",\"KHM\",\"CMR\",\"CAN\",\"CAF\",\"TCD\",\"CHL\",\"CHN\",\"COL\",\"COM\",\"COG\",\"COD\",\"CRI\",\"CIV\",\"HRV\",\"CUB\",\"CYP\",\"CZE\",\"DNK\",\"DJI\",\"DOM\",\"ECU\",\"EGY\",\"SLV\",\"GNQ\",\"ERI\",\"EST\",\"SWZ\",\"ETH\",\"FJI\",\"FIN\",\"FRA\",\"GAB\",\"GMB\",\"GEO\",\"DEU\",\"GHA\",\"GRC\",\"GTM\",\"GIN\",\"GNB\",\"GUY\",\"HTI\",\"HND\",\"HUN\",\"IND\",\"IDN\",\"IRN\",\"IRQ\",\"IRL\",\"ISR\",\"ITA\",\"JAM\",\"JPN\",\"JOR\",\"KAZ\",\"KEN\",\"XKS\",\"KWT\",\"KGZ\",\"LAO\",\"LVA\",\"LBN\",\"LSO\",\"LBR\",\"LBY\",\"LTU\",\"LUX\",\"MDG\",\"MWI\",\"MYS\",\"MDV\",\"MLI\",\"MRT\",\"MUS\",\"MEX\",\"MDA\",\"MNG\",\"MNE\",\"MAR\",\"MOZ\",\"MMR\",\"NAM\",\"NPL\",\"NLD\",\"NZL\",\"NIC\",\"NER\",\"NGA\",\"MKD\",\"NOR\",\"OMN\",\"PAK\",\"PAN\",\"PNG\",\"PRY\",\"PER\",\"PHL\",\"POL\",\"PRT\",\"QAT\",\"ROU\",\"RUS\",\"RWA\",\"SAU\",\"SEN\",\"SRB\",\"SLE\",\"SGP\",\"SVK\",\"SVN\",\"SOM\",\"ZAF\",\"KOR\",\"SSD\",\"ESP\",\"LKA\",\"SDN\",\"SUR\",\"SWE\",\"CHE\",\"SYR\",\"TWN\",\"TJK\",\"TZA\",\"THA\",\"TLS\",\"TGO\",\"TTO\",\"TUN\",\"TUR\",\"UGA\",\"UKR\",\"ARE\",\"GBR\",\"URY\",\"UZB\",\"VEN\",\"VNM\",\"PSE\",\"YEM\",\"ZMB\",\"ZWE\",\"USA\"],\"marker\":{\"line\":{\"width\":0.5}},\"text\":[\"<b>Afghanistan</b><br>Deaths - 1,548<br>Cases - 41,814<br>Deaths per Million - 40<br>Cases per Million - 1,070<br>\",\"<b>Albania</b><br>Deaths - 543<br>Cases - 22,721<br>Deaths per Million - 189<br>Cases per Million - 7,900<br>\",\"<b>Algeria</b><br>Deaths - 2,011<br>Cases - 60,169<br>Deaths per Million - 46<br>Cases per Million - 1,370<br>\",\"<b>Angola</b><br>Deaths - 299<br>Cases - 12,102<br>Deaths per Million - 9<br>Cases per Million - 370<br>\",\"<b>Argentina</b><br>Deaths - 32,766<br>Cases - 1,217,028<br>Deaths per Million - 725<br>Cases per Million - 26,930<br>\",\"<b>Armenia</b><br>Deaths - 1,476<br>Cases - 99,563<br>Deaths per Million - 498<br>Cases per Million - 33,600<br>\",\"<b>Australia</b><br>Deaths - 907<br>Cases - 27,644<br>Deaths per Million - 36<br>Cases per Million - 1,090<br>\",\"<b>Austria</b><br>Deaths - 1,654<br>Cases - 128,005<br>Deaths per Million - 184<br>Cases per Million - 14,210<br>\",\"<b>Azerbaijan</b><br>Deaths - 794<br>Cases - 60,873<br>Deaths per Million - 78<br>Cases per Million - 6,000<br>\",\"<b>Bahrain</b><br>Deaths - 328<br>Cases - 82,786<br>Deaths per Million - 193<br>Cases per Million - 48,650<br>\",\"<b>Bangladesh</b><br>Deaths - 6,021<br>Cases - 416,006<br>Deaths per Million - 37<br>Cases per Million - 2,530<br>\",\"<b>Belarus</b><br>Deaths - 998<br>Cases - 103,295<br>Deaths per Million - 106<br>Cases per Million - 10,930<br>\",\"<b>Belgium</b><br>Deaths - 12,520<br>Cases - 479,341<br>Deaths per Million - 1,080<br>Cases per Million - 41,360<br>\",\"<b>Benin</b><br>Deaths - 43<br>Cases - 2,745<br>Deaths per Million - 4<br>Cases per Million - 230<br>\",\"<b>Bhutan</b><br>Deaths - 0<br>Cases - 358<br>Deaths per Million - 0<br>Cases per Million - 460<br>\",\"<b>Bolivia</b><br>Deaths - 8,768<br>Cases - 142,201<br>Deaths per Million - 751<br>Cases per Million - 12,180<br>\",\"<b>Bosnia and Herzegovina</b><br>Deaths - 1,402<br>Cases - 57,506<br>Deaths per Million - 427<br>Cases per Million - 17,530<br>\",\"<b>Botswana</b><br>Deaths - 27<br>Cases - 7,835<br>Deaths per Million - 11<br>Cases per Million - 3,330<br>\",\"<b>Brazil</b><br>Deaths - 161,849<br>Cases - 5,617,943<br>Deaths per Million - 761<br>Cases per Million - 26,430<br>\",\"<b>Bulgaria</b><br>Deaths - 1,518<br>Cases - 68,345<br>Deaths per Million - 218<br>Cases per Million - 9,840<br>\",\"<b>Burkina Faso</b><br>Deaths - 67<br>Cases - 2,550<br>Deaths per Million - 3<br>Cases per Million - 120<br>\",\"<b>Burundi</b><br>Deaths - 1<br>Cases - 606<br>Deaths per Million - 0<br>Cases per Million - 50<br>\",\"<b>Cabo Verde</b><br>Deaths - 97<br>Cases - 9,149<br>Deaths per Million - 174<br>Cases per Million - 16,460<br>\",\"<b>Cambodia</b><br>Deaths - 0<br>Cases - 292<br>Deaths per Million - 0<br>Cases per Million - 20<br>\",\"<b>Cameroon</b><br>Deaths - 429<br>Cases - 22,103<br>Deaths per Million - 16<br>Cases per Million - 830<br>\",\"<b>Canada</b><br>Deaths - 10,434<br>Cases - 255,285<br>Deaths per Million - 276<br>Cases per Million - 6,740<br>\",\"<b>Central African Republic</b><br>Deaths - 62<br>Cases - 4,866<br>Deaths per Million - 13<br>Cases per Million - 1,010<br>\",\"<b>Chad</b><br>Deaths - 99<br>Cases - 1,529<br>Deaths per Million - 6<br>Cases per Million - 90<br>\",\"<b>Chile</b><br>Deaths - 14,404<br>Cases - 516,582<br>Deaths per Million - 753<br>Cases per Million - 27,020<br>\",\"<b>China</b><br>Deaths - 4,740<br>Cases - 97,622<br>Deaths per Million - 3<br>Cases per Million - 70<br>\",\"<b>Colombia</b><br>Deaths - 32,209<br>Cases - 1,117,977<br>Deaths per Million - 633<br>Cases per Million - 21,970<br>\",\"<b>Comoros</b><br>Deaths - 7<br>Cases - 557<br>Deaths per Million - 8<br>Cases per Million - 640<br>\",\"<b>Congo (Brazzaville)</b><br>Deaths - 114<br>Cases - 5,348<br>Deaths per Million - 21<br>Cases per Million - 970<br>\",\"<b>Congo (Kinshasa)</b><br>Deaths - 315<br>Cases - 11,450<br>Deaths per Million - 4<br>Cases per Million - 130<br>\",\"<b>Costa Rica</b><br>Deaths - 1,444<br>Cases - 114,367<br>Deaths per Million - 283<br>Cases per Million - 22,450<br>\",\"<b>Cote d'Ivoire</b><br>Deaths - 126<br>Cases - 20,789<br>Deaths per Million - 5<br>Cases per Million - 790<br>\",\"<b>Croatia</b><br>Deaths - 683<br>Cases - 59,415<br>Deaths per Million - 166<br>Cases per Million - 14,470<br>\",\"<b>Cuba</b><br>Deaths - 129<br>Cases - 7,184<br>Deaths per Million - 11<br>Cases per Million - 630<br>\",\"<b>Cyprus</b><br>Deaths - 26<br>Cases - 5,100<br>Deaths per Million - 22<br>Cases per Million - 4,220<br>\",\"<b>Czechia</b><br>Deaths - 4,330<br>Cases - 391,945<br>Deaths per Million - 404<br>Cases per Million - 36,600<br>\",\"<b>Denmark</b><br>Deaths - 733<br>Cases - 52,265<br>Deaths per Million - 127<br>Cases per Million - 9,020<br>\",\"<b>Djibouti</b><br>Deaths - 61<br>Cases - 5,599<br>Deaths per Million - 62<br>Cases per Million - 5,670<br>\",\"<b>Dominican Republic</b><br>Deaths - 2,260<br>Cases - 128,824<br>Deaths per Million - 208<br>Cases per Million - 11,880<br>\",\"<b>Ecuador</b><br>Deaths - 12,730<br>Cases - 171,783<br>Deaths per Million - 722<br>Cases per Million - 9,740<br>\",\"<b>Egypt</b><br>Deaths - 6,329<br>Cases - 108,530<br>Deaths per Million - 62<br>Cases per Million - 1,060<br>\",\"<b>El Salvador</b><br>Deaths - 997<br>Cases - 34,782<br>Deaths per Million - 154<br>Cases per Million - 5,360<br>\",\"<b>Equatorial Guinea</b><br>Deaths - 85<br>Cases - 5,092<br>Deaths per Million - 61<br>Cases per Million - 3,630<br>\",\"<b>Eritrea</b><br>Deaths - 0<br>Cases - 484<br>Deaths per Million - 0<br>Cases per Million - 140<br>\",\"<b>Estonia</b><br>Deaths - 73<br>Cases - 5,464<br>Deaths per Million - 55<br>Cases per Million - 4,120<br>\",\"<b>Eswatini</b><br>Deaths - 117<br>Cases - 5,967<br>Deaths per Million - 101<br>Cases per Million - 5,140<br>\",\"<b>Ethiopia</b><br>Deaths - 1,508<br>Cases - 98,391<br>Deaths per Million - 13<br>Cases per Million - 860<br>\",\"<b>Fiji</b><br>Deaths - 2<br>Cases - 34<br>Deaths per Million - 2<br>Cases per Million - 40<br>\",\"<b>Finland</b><br>Deaths - 350<br>Cases - 17,458<br>Deaths per Million - 63<br>Cases per Million - 3,150<br>\",\"<b>France</b><br>Deaths - 39,088<br>Cases - 1,650,966<br>Deaths per Million - 599<br>Cases per Million - 25,290<br>\",\"<b>Gabon</b><br>Deaths - 55<br>Cases - 9,005<br>Deaths per Million - 25<br>Cases per Million - 4,050<br>\",\"<b>Gambia</b><br>Deaths - 120<br>Cases - 3,681<br>Deaths per Million - 50<br>Cases per Million - 1,520<br>\",\"<b>Georgia</b><br>Deaths - 401<br>Cases - 49,218<br>Deaths per Million - 101<br>Cases per Million - 12,340<br>\",\"<b>Germany</b><br>Deaths - 10,930<br>Cases - 597,583<br>Deaths per Million - 130<br>Cases per Million - 7,130<br>\",\"<b>Ghana</b><br>Deaths - 320<br>Cases - 48,788<br>Deaths per Million - 10<br>Cases per Million - 1,570<br>\",\"<b>Greece</b><br>Deaths - 702<br>Cases - 49,807<br>Deaths per Million - 67<br>Cases per Million - 4,780<br>\",\"<b>Guatemala</b><br>Deaths - 3,766<br>Cases - 109,849<br>Deaths per Million - 210<br>Cases per Million - 6,130<br>\",\"<b>Guinea</b><br>Deaths - 73<br>Cases - 12,363<br>Deaths per Million - 6<br>Cases per Million - 940<br>\",\"<b>Guinea-Bissau</b><br>Deaths - 42<br>Cases - 2,414<br>Deaths per Million - 21<br>Cases per Million - 1,230<br>\",\"<b>Guyana</b><br>Deaths - 130<br>Cases - 4,393<br>Deaths per Million - 165<br>Cases per Million - 5,590<br>\",\"<b>Haiti</b><br>Deaths - 232<br>Cases - 9,100<br>Deaths per Million - 20<br>Cases per Million - 800<br>\",\"<b>Honduras</b><br>Deaths - 2,736<br>Cases - 99,347<br>Deaths per Million - 276<br>Cases per Million - 10,030<br>\",\"<b>Hungary</b><br>Deaths - 2,147<br>Cases - 94,916<br>Deaths per Million - 222<br>Cases per Million - 9,830<br>\",\"<b>India</b><br>Deaths - 124,985<br>Cases - 8,411,724<br>Deaths per Million - 91<br>Cases per Million - 6,100<br>\",\"<b>Indonesia</b><br>Deaths - 14,348<br>Cases - 425,796<br>Deaths per Million - 52<br>Cases per Million - 1,560<br>\",\"<b>Iran</b><br>Deaths - 36,985<br>Cases - 654,936<br>Deaths per Million - 440<br>Cases per Million - 7,800<br>\",\"<b>Iraq</b><br>Deaths - 11,175<br>Cases - 489,571<br>Deaths per Million - 278<br>Cases per Million - 12,170<br>\",\"<b>Ireland</b><br>Deaths - 1,933<br>Cases - 64,046<br>Deaths per Million - 391<br>Cases per Million - 12,970<br>\",\"<b>Israel</b><br>Deaths - 2,652<br>Cases - 317,980<br>Deaths per Million - 306<br>Cases per Million - 36,740<br>\",\"<b>Italy</b><br>Deaths - 40,192<br>Cases - 824,879<br>Deaths per Million - 665<br>Cases per Million - 13,640<br>\",\"<b>Jamaica</b><br>Deaths - 217<br>Cases - 9,373<br>Deaths per Million - 73<br>Cases per Million - 3,170<br>\",\"<b>Japan</b><br>Deaths - 1,808<br>Cases - 104,960<br>Deaths per Million - 14<br>Cases per Million - 830<br>\",\"<b>Jordan</b><br>Deaths - 1,069<br>Cases - 95,864<br>Deaths per Million - 105<br>Cases per Million - 9,400<br>\",\"<b>Kazakhstan</b><br>Deaths - 2,259<br>Cases - 152,725<br>Deaths per Million - 120<br>Cases per Million - 8,130<br>\",\"<b>Kenya</b><br>Deaths - 1,072<br>Cases - 59,595<br>Deaths per Million - 20<br>Cases per Million - 1,110<br>\",\"<b>Kosovo</b><br>Deaths - 720<br>Cases - 22,206<br>Deaths per Million - 398<br>Cases per Million - 12,270<br>\",\"<b>Kuwait</b><br>Deaths - 799<br>Cases - 129,638<br>Deaths per Million - 187<br>Cases per Million - 30,360<br>\",\"<b>Kyrgyzstan</b><br>Deaths - 1,498<br>Cases - 61,309<br>Deaths per Million - 230<br>Cases per Million - 9,400<br>\",\"<b>Laos</b><br>Deaths - 0<br>Cases - 24<br>Deaths per Million - 0<br>Cases per Million - 0<br>\",\"<b>Latvia</b><br>Deaths - 88<br>Cases - 7,119<br>Deaths per Million - 47<br>Cases per Million - 3,770<br>\",\"<b>Lebanon</b><br>Deaths - 683<br>Cases - 89,186<br>Deaths per Million - 100<br>Cases per Million - 13,070<br>\",\"<b>Lesotho</b><br>Deaths - 44<br>Cases - 1,963<br>Deaths per Million - 21<br>Cases per Million - 920<br>\",\"<b>Liberia</b><br>Deaths - 82<br>Cases - 1,436<br>Deaths per Million - 16<br>Cases per Million - 280<br>\",\"<b>Libya</b><br>Deaths - 907<br>Cases - 65,440<br>Deaths per Million - 132<br>Cases per Million - 9,520<br>\",\"<b>Lithuania</b><br>Deaths - 178<br>Cases - 20,410<br>Deaths per Million - 65<br>Cases per Million - 7,500<br>\",\"<b>Luxembourg</b><br>Deaths - 177<br>Cases - 21,147<br>Deaths per Million - 283<br>Cases per Million - 33,780<br>\",\"<b>Madagascar</b><br>Deaths - 244<br>Cases - 17,111<br>Deaths per Million - 9<br>Cases per Million - 620<br>\",\"<b>Malawi</b><br>Deaths - 184<br>Cases - 5,940<br>Deaths per Million - 10<br>Cases per Million - 310<br>\",\"<b>Malaysia</b><br>Deaths - 277<br>Cases - 36,434<br>Deaths per Million - 9<br>Cases per Million - 1,130<br>\",\"<b>Maldives</b><br>Deaths - 38<br>Cases - 11,893<br>Deaths per Million - 70<br>Cases per Million - 22,000<br>\",\"<b>Mali</b><br>Deaths - 137<br>Cases - 3,633<br>Deaths per Million - 7<br>Cases per Million - 180<br>\",\"<b>Mauritania</b><br>Deaths - 165<br>Cases - 7,777<br>Deaths per Million - 35<br>Cases per Million - 1,670<br>\",\"<b>Mauritius</b><br>Deaths - 10<br>Cases - 452<br>Deaths per Million - 8<br>Cases per Million - 360<br>\",\"<b>Mexico</b><br>Deaths - 93,772<br>Cases - 949,197<br>Deaths per Million - 734<br>Cases per Million - 7,430<br>\",\"<b>Moldova</b><br>Deaths - 1,866<br>Cases - 79,566<br>Deaths per Million - 463<br>Cases per Million - 19,720<br>\",\"<b>Mongolia</b><br>Deaths - 0<br>Cases - 352<br>Deaths per Million - 0<br>Cases per Million - 110<br>\",\"<b>Montenegro</b><br>Deaths - 328<br>Cases - 21,533<br>Deaths per Million - 522<br>Cases per Million - 34,280<br>\",\"<b>Morocco</b><br>Deaths - 4,059<br>Cases - 240,951<br>Deaths per Million - 110<br>Cases per Million - 6,530<br>\",\"<b>Mozambique</b><br>Deaths - 97<br>Cases - 13,391<br>Deaths per Million - 3<br>Cases per Million - 430<br>\",\"<b>Myanmar</b><br>Deaths - 1,352<br>Cases - 57,935<br>Deaths per Million - 25<br>Cases per Million - 1,060<br>\",\"<b>Namibia</b><br>Deaths - 133<br>Cases - 13,090<br>Deaths per Million - 52<br>Cases per Million - 5,150<br>\",\"<b>Nepal</b><br>Deaths - 1,052<br>Cases - 185,974<br>Deaths per Million - 36<br>Cases per Million - 6,380<br>\",\"<b>Netherlands</b><br>Deaths - 7,836<br>Cases - 404,354<br>Deaths per Million - 457<br>Cases per Million - 23,600<br>\",\"<b>New Zealand</b><br>Deaths - 26<br>Cases - 1,974<br>Deaths per Million - 5<br>Cases per Million - 410<br>\",\"<b>Nicaragua</b><br>Deaths - 157<br>Cases - 4,480<br>Deaths per Million - 24<br>Cases per Million - 680<br>\",\"<b>Niger</b><br>Deaths - 69<br>Cases - 1,226<br>Deaths per Million - 3<br>Cases per Million - 50<br>\",\"<b>Nigeria</b><br>Deaths - 1,155<br>Cases - 63,508<br>Deaths per Million - 6<br>Cases per Million - 310<br>\",\"<b>North Macedonia</b><br>Deaths - 1,084<br>Cases - 36,372<br>Deaths per Million - 520<br>Cases per Million - 17,460<br>\",\"<b>Norway</b><br>Deaths - 284<br>Cases - 23,229<br>Deaths per Million - 52<br>Cases per Million - 4,280<br>\",\"<b>Oman</b><br>Deaths - 1,286<br>Cases - 117,167<br>Deaths per Million - 252<br>Cases per Million - 22,940<br>\",\"<b>Pakistan</b><br>Deaths - 6,923<br>Cases - 340,251<br>Deaths per Million - 31<br>Cases per Million - 1,540<br>\",\"<b>Panama</b><br>Deaths - 2,756<br>Cases - 136,567<br>Deaths per Million - 639<br>Cases per Million - 31,650<br>\",\"<b>Papua New Guinea</b><br>Deaths - 7<br>Cases - 597<br>Deaths per Million - 1<br>Cases per Million - 70<br>\",\"<b>Paraguay</b><br>Deaths - 1,462<br>Cases - 65,778<br>Deaths per Million - 205<br>Cases per Million - 9,220<br>\",\"<b>Peru</b><br>Deaths - 87,033<br>Cases - 914,722<br>Deaths per Million - 2,640<br>Cases per Million - 27,740<br>\",\"<b>Philippines</b><br>Deaths - 7,409<br>Cases - 389,725<br>Deaths per Million - 68<br>Cases per Million - 3,560<br>\",\"<b>Poland</b><br>Deaths - 6,842<br>Cases - 466,679<br>Deaths per Million - 181<br>Cases per Million - 12,330<br>\",\"<b>Portugal</b><br>Deaths - 2,740<br>Cases - 161,350<br>Deaths per Million - 269<br>Cases per Million - 15,820<br>\",\"<b>Qatar</b><br>Deaths - 232<br>Cases - 133,619<br>Deaths per Million - 81<br>Cases per Million - 46,380<br>\",\"<b>Romania</b><br>Deaths - 7,540<br>Cases - 276,802<br>Deaths per Million - 392<br>Cases per Million - 14,390<br>\",\"<b>Russia</b><br>Deaths - 29,285<br>Cases - 1,699,695<br>Deaths per Million - 201<br>Cases per Million - 11,650<br>\",\"<b>Rwanda</b><br>Deaths - 36<br>Cases - 5,192<br>Deaths per Million - 3<br>Cases per Million - 400<br>\",\"<b>Saudi Arabia</b><br>Deaths - 5,489<br>Cases - 349,386<br>Deaths per Million - 158<br>Cases per Million - 10,040<br>\",\"<b>Senegal</b><br>Deaths - 326<br>Cases - 15,668<br>Deaths per Million - 19<br>Cases per Million - 940<br>\",\"<b>Serbia</b><br>Deaths - 861<br>Cases - 55,676<br>Deaths per Million - 99<br>Cases per Million - 6,370<br>\",\"<b>Sierra Leone</b><br>Deaths - 74<br>Cases - 2,371<br>Deaths per Million - 9<br>Cases per Million - 300<br>\",\"<b>Singapore</b><br>Deaths - 28<br>Cases - 58,043<br>Deaths per Million - 5<br>Cases per Million - 9,920<br>\",\"<b>Slovakia</b><br>Deaths - 286<br>Cases - 73,755<br>Deaths per Million - 52<br>Cases per Million - 13,510<br>\",\"<b>Slovenia</b><br>Deaths - 471<br>Cases - 41,094<br>Deaths per Million - 227<br>Cases per Million - 19,770<br>\",\"<b>Somalia</b><br>Deaths - 107<br>Cases - 4,229<br>Deaths per Million - 7<br>Cases per Million - 270<br>\",\"<b>South Africa</b><br>Deaths - 19,677<br>Cases - 732,414<br>Deaths per Million - 332<br>Cases per Million - 12,350<br>\",\"<b>South Korea</b><br>Deaths - 476<br>Cases - 27,195<br>Deaths per Million - 9<br>Cases per Million - 530<br>\",\"<b>South Sudan</b><br>Deaths - 59<br>Cases - 2,943<br>Deaths per Million - 5<br>Cases per Million - 260<br>\",\"<b>Spain</b><br>Deaths - 38,486<br>Cases - 1,306,316<br>Deaths per Million - 823<br>Cases per Million - 27,940<br>\",\"<b>Sri Lanka</b><br>Deaths - 29<br>Cases - 12,570<br>Deaths per Million - 1<br>Cases per Million - 590<br>\",\"<b>Sudan</b><br>Deaths - 837<br>Cases - 13,996<br>Deaths per Million - 19<br>Cases per Million - 320<br>\",\"<b>Suriname</b><br>Deaths - 112<br>Cases - 5,225<br>Deaths per Million - 191<br>Cases per Million - 8,910<br>\",\"<b>Sweden</b><br>Deaths - 6,002<br>Cases - 141,764<br>Deaths per Million - 594<br>Cases per Million - 14,040<br>\",\"<b>Switzerland</b><br>Deaths - 2,755<br>Cases - 202,504<br>Deaths per Million - 318<br>Cases per Million - 23,400<br>\",\"<b>Syria</b><br>Deaths - 305<br>Cases - 6,040<br>Deaths per Million - 17<br>Cases per Million - 350<br>\",\"<b>Taiwan</b><br>Deaths - 7<br>Cases - 569<br>Deaths per Million - 0<br>Cases per Million - 20<br>\",\"<b>Tajikistan</b><br>Deaths - 83<br>Cases - 11,180<br>Deaths per Million - 9<br>Cases per Million - 1,170<br>\",\"<b>Tanzania</b><br>Deaths - 21<br>Cases - 509<br>Deaths per Million - 0<br>Cases per Million - 10<br>\",\"<b>Thailand</b><br>Deaths - 59<br>Cases - 3,810<br>Deaths per Million - 1<br>Cases per Million - 50<br>\",\"<b>Timor-Leste</b><br>Deaths - 0<br>Cases - 30<br>Deaths per Million - 0<br>Cases per Million - 20<br>\",\"<b>Togo</b><br>Deaths - 57<br>Cases - 2,442<br>Deaths per Million - 7<br>Cases per Million - 290<br>\",\"<b>Trinidad and Tobago</b><br>Deaths - 111<br>Cases - 5,774<br>Deaths per Million - 79<br>Cases per Million - 4,130<br>\",\"<b>Tunisia</b><br>Deaths - 1,577<br>Cases - 66,334<br>Deaths per Million - 133<br>Cases per Million - 5,610<br>\",\"<b>Turkey</b><br>Deaths - 10,639<br>Cases - 386,820<br>Deaths per Million - 126<br>Cases per Million - 4,590<br>\",\"<b>Uganda</b><br>Deaths - 117<br>Cases - 13,568<br>Deaths per Million - 3<br>Cases per Million - 300<br>\",\"<b>Ukraine</b><br>Deaths - 8,148<br>Cases - 443,630<br>Deaths per Million - 186<br>Cases per Million - 10,140<br>\",\"<b>United Arab Emirates</b><br>Deaths - 508<br>Cases - 138,599<br>Deaths per Million - 51<br>Cases per Million - 14,010<br>\",\"<b>United Kingdom</b><br>Deaths - 66,110<br>Cases - 1,126,445<br>Deaths per Million - 974<br>Cases per Million - 16,590<br>\",\"<b>Uruguay</b><br>Deaths - 61<br>Cases - 3,309<br>Deaths per Million - 18<br>Cases per Million - 950<br>\",\"<b>Uzbekistan</b><br>Deaths - 579<br>Cases - 68,009<br>Deaths per Million - 17<br>Cases per Million - 2,030<br>\",\"<b>Venezuela</b><br>Deaths - 819<br>Cases - 93,921<br>Deaths per Million - 29<br>Cases per Million - 3,300<br>\",\"<b>Vietnam</b><br>Deaths - 35<br>Cases - 1,207<br>Deaths per Million - 0<br>Cases per Million - 10<br>\",\"<b>West Bank and Gaza</b><br>Deaths - 508<br>Cases - 56,672<br>Deaths per Million - 100<br>Cases per Million - 11,110<br>\",\"<b>Yemen</b><br>Deaths - 601<br>Cases - 2,063<br>Deaths per Million - 20<br>Cases per Million - 70<br>\",\"<b>Zambia</b><br>Deaths - 349<br>Cases - 16,770<br>Deaths per Million - 19<br>Cases per Million - 910<br>\",\"<b>Zimbabwe</b><br>Deaths - 248<br>Cases - 8,444<br>Deaths per Million - 17<br>Cases per Million - 570<br>\",\"<b>USA</b><br>Deaths - 235,651<br>Cases - 9,698,153<br>Deaths per Million - 715<br>Cases per Million - 29,440<br>\"],\"z\":[40.0,189.0,46.0,9.0,725.0,498.0,36.0,184.0,78.0,193.0,37.0,106.0,1080.0,4.0,0.0,751.0,427.0,11.0,761.0,218.0,3.0,0.0,174.0,0.0,16.0,276.0,13.0,6.0,753.0,3.0,633.0,8.0,21.0,4.0,283.0,5.0,166.0,11.0,22.0,404.0,127.0,62.0,208.0,722.0,62.0,154.0,61.0,0.0,55.0,101.0,13.0,2.0,63.0,599.0,25.0,50.0,101.0,130.0,10.0,67.0,210.0,6.0,21.0,165.0,20.0,276.0,222.0,91.0,52.0,440.0,278.0,391.0,306.0,665.0,73.0,14.0,105.0,120.0,20.0,398.0,187.0,230.0,0.0,47.0,100.0,21.0,16.0,132.0,65.0,283.0,9.0,10.0,9.0,70.0,7.0,35.0,8.0,734.0,463.0,0.0,522.0,110.0,3.0,25.0,52.0,36.0,457.0,5.0,24.0,3.0,6.0,520.0,52.0,252.0,31.0,639.0,1.0,205.0,2640.0,68.0,181.0,269.0,81.0,392.0,201.0,3.0,158.0,19.0,99.0,9.0,5.0,52.0,227.0,7.0,332.0,9.0,5.0,823.0,1.0,19.0,191.0,594.0,318.0,17.0,0.0,9.0,0.0,1.0,0.0,7.0,79.0,133.0,126.0,3.0,186.0,51.0,974.0,18.0,17.0,29.0,0.0,100.0,20.0,19.0,17.0,715.0],\"zmin\":0,\"type\":\"choropleth\"}],                        {\"template\":{\"data\":{\"histogram2dcontour\":[{\"type\":\"histogram2dcontour\",\"colorbar\":{\"outlinewidth\":0,\"ticks\":\"\"},\"colorscale\":[[0.0,\"#0d0887\"],[0.1111111111111111,\"#46039f\"],[0.2222222222222222,\"#7201a8\"],[0.3333333333333333,\"#9c179e\"],[0.4444444444444444,\"#bd3786\"],[0.5555555555555556,\"#d8576b\"],[0.6666666666666666,\"#ed7953\"],[0.7777777777777778,\"#fb9f3a\"],[0.8888888888888888,\"#fdca26\"],[1.0,\"#f0f921\"]]}],\"choropleth\":[{\"type\":\"choropleth\",\"colorbar\":{\"outlinewidth\":0,\"ticks\":\"\"}}],\"histogram2d\":[{\"type\":\"histogram2d\",\"colorbar\":{\"outlinewidth\":0,\"ticks\":\"\"},\"colorscale\":[[0.0,\"#0d0887\"],[0.1111111111111111,\"#46039f\"],[0.2222222222222222,\"#7201a8\"],[0.3333333333333333,\"#9c179e\"],[0.4444444444444444,\"#bd3786\"],[0.5555555555555556,\"#d8576b\"],[0.6666666666666666,\"#ed7953\"],[0.7777777777777778,\"#fb9f3a\"],[0.8888888888888888,\"#fdca26\"],[1.0,\"#f0f921\"]]}],\"heatmap\":[{\"type\":\"heatmap\",\"colorbar\":{\"outlinewidth\":0,\"ticks\":\"\"},\"colorscale\":[[0.0,\"#0d0887\"],[0.1111111111111111,\"#46039f\"],[0.2222222222222222,\"#7201a8\"],[0.3333333333333333,\"#9c179e\"],[0.4444444444444444,\"#bd3786\"],[0.5555555555555556,\"#d8576b\"],[0.6666666666666666,\"#ed7953\"],[0.7777777777777778,\"#fb9f3a\"],[0.8888888888888888,\"#fdca26\"],[1.0,\"#f0f921\"]]}],\"heatmapgl\":[{\"type\":\"heatmapgl\",\"colorbar\":{\"outlinewidth\":0,\"ticks\":\"\"},\"colorscale\":[[0.0,\"#0d0887\"],[0.1111111111111111,\"#46039f\"],[0.2222222222222222,\"#7201a8\"],[0.3333333333333333,\"#9c179e\"],[0.4444444444444444,\"#bd3786\"],[0.5555555555555556,\"#d8576b\"],[0.6666666666666666,\"#ed7953\"],[0.7777777777777778,\"#fb9f3a\"],[0.8888888888888888,\"#fdca26\"],[1.0,\"#f0f921\"]]}],\"contourcarpet\":[{\"type\":\"contourcarpet\",\"colorbar\":{\"outlinewidth\":0,\"ticks\":\"\"}}],\"contour\":[{\"type\":\"contour\",\"colorbar\":{\"outlinewidth\":0,\"ticks\":\"\"},\"colorscale\":[[0.0,\"#0d0887\"],[0.1111111111111111,\"#46039f\"],[0.2222222222222222,\"#7201a8\"],[0.3333333333333333,\"#9c179e\"],[0.4444444444444444,\"#bd3786\"],[0.5555555555555556,\"#d8576b\"],[0.6666666666666666,\"#ed7953\"],[0.7777777777777778,\"#fb9f3a\"],[0.8888888888888888,\"#fdca26\"],[1.0,\"#f0f921\"]]}],\"surface\":[{\"type\":\"surface\",\"colorbar\":{\"outlinewidth\":0,\"ticks\":\"\"},\"colorscale\":[[0.0,\"#0d0887\"],[0.1111111111111111,\"#46039f\"],[0.2222222222222222,\"#7201a8\"],[0.3333333333333333,\"#9c179e\"],[0.4444444444444444,\"#bd3786\"],[0.5555555555555556,\"#d8576b\"],[0.6666666666666666,\"#ed7953\"],[0.7777777777777778,\"#fb9f3a\"],[0.8888888888888888,\"#fdca26\"],[1.0,\"#f0f921\"]]}],\"mesh3d\":[{\"type\":\"mesh3d\",\"colorbar\":{\"outlinewidth\":0,\"ticks\":\"\"}}],\"scatter\":[{\"fillpattern\":{\"fillmode\":\"overlay\",\"size\":10,\"solidity\":0.2},\"type\":\"scatter\"}],\"parcoords\":[{\"type\":\"parcoords\",\"line\":{\"colorbar\":{\"outlinewidth\":0,\"ticks\":\"\"}}}],\"scatterpolargl\":[{\"type\":\"scatterpolargl\",\"marker\":{\"colorbar\":{\"outlinewidth\":0,\"ticks\":\"\"}}}],\"bar\":[{\"error_x\":{\"color\":\"#2a3f5f\"},\"error_y\":{\"color\":\"#2a3f5f\"},\"marker\":{\"line\":{\"color\":\"#E5ECF6\",\"width\":0.5},\"pattern\":{\"fillmode\":\"overlay\",\"size\":10,\"solidity\":0.2}},\"type\":\"bar\"}],\"scattergeo\":[{\"type\":\"scattergeo\",\"marker\":{\"colorbar\":{\"outlinewidth\":0,\"ticks\":\"\"}}}],\"scatterpolar\":[{\"type\":\"scatterpolar\",\"marker\":{\"colorbar\":{\"outlinewidth\":0,\"ticks\":\"\"}}}],\"histogram\":[{\"marker\":{\"pattern\":{\"fillmode\":\"overlay\",\"size\":10,\"solidity\":0.2}},\"type\":\"histogram\"}],\"scattergl\":[{\"type\":\"scattergl\",\"marker\":{\"colorbar\":{\"outlinewidth\":0,\"ticks\":\"\"}}}],\"scatter3d\":[{\"type\":\"scatter3d\",\"line\":{\"colorbar\":{\"outlinewidth\":0,\"ticks\":\"\"}},\"marker\":{\"colorbar\":{\"outlinewidth\":0,\"ticks\":\"\"}}}],\"scattermapbox\":[{\"type\":\"scattermapbox\",\"marker\":{\"colorbar\":{\"outlinewidth\":0,\"ticks\":\"\"}}}],\"scatterternary\":[{\"type\":\"scatterternary\",\"marker\":{\"colorbar\":{\"outlinewidth\":0,\"ticks\":\"\"}}}],\"scattercarpet\":[{\"type\":\"scattercarpet\",\"marker\":{\"colorbar\":{\"outlinewidth\":0,\"ticks\":\"\"}}}],\"carpet\":[{\"aaxis\":{\"endlinecolor\":\"#2a3f5f\",\"gridcolor\":\"white\",\"linecolor\":\"white\",\"minorgridcolor\":\"white\",\"startlinecolor\":\"#2a3f5f\"},\"baxis\":{\"endlinecolor\":\"#2a3f5f\",\"gridcolor\":\"white\",\"linecolor\":\"white\",\"minorgridcolor\":\"white\",\"startlinecolor\":\"#2a3f5f\"},\"type\":\"carpet\"}],\"table\":[{\"cells\":{\"fill\":{\"color\":\"#EBF0F8\"},\"line\":{\"color\":\"white\"}},\"header\":{\"fill\":{\"color\":\"#C8D4E3\"},\"line\":{\"color\":\"white\"}},\"type\":\"table\"}],\"barpolar\":[{\"marker\":{\"line\":{\"color\":\"#E5ECF6\",\"width\":0.5},\"pattern\":{\"fillmode\":\"overlay\",\"size\":10,\"solidity\":0.2}},\"type\":\"barpolar\"}],\"pie\":[{\"automargin\":true,\"type\":\"pie\"}]},\"layout\":{\"autotypenumbers\":\"strict\",\"colorway\":[\"#636efa\",\"#EF553B\",\"#00cc96\",\"#ab63fa\",\"#FFA15A\",\"#19d3f3\",\"#FF6692\",\"#B6E880\",\"#FF97FF\",\"#FECB52\"],\"font\":{\"color\":\"#2a3f5f\"},\"hovermode\":\"closest\",\"hoverlabel\":{\"align\":\"left\"},\"paper_bgcolor\":\"white\",\"plot_bgcolor\":\"#E5ECF6\",\"polar\":{\"bgcolor\":\"#E5ECF6\",\"angularaxis\":{\"gridcolor\":\"white\",\"linecolor\":\"white\",\"ticks\":\"\"},\"radialaxis\":{\"gridcolor\":\"white\",\"linecolor\":\"white\",\"ticks\":\"\"}},\"ternary\":{\"bgcolor\":\"#E5ECF6\",\"aaxis\":{\"gridcolor\":\"white\",\"linecolor\":\"white\",\"ticks\":\"\"},\"baxis\":{\"gridcolor\":\"white\",\"linecolor\":\"white\",\"ticks\":\"\"},\"caxis\":{\"gridcolor\":\"white\",\"linecolor\":\"white\",\"ticks\":\"\"}},\"coloraxis\":{\"colorbar\":{\"outlinewidth\":0,\"ticks\":\"\"}},\"colorscale\":{\"sequential\":[[0.0,\"#0d0887\"],[0.1111111111111111,\"#46039f\"],[0.2222222222222222,\"#7201a8\"],[0.3333333333333333,\"#9c179e\"],[0.4444444444444444,\"#bd3786\"],[0.5555555555555556,\"#d8576b\"],[0.6666666666666666,\"#ed7953\"],[0.7777777777777778,\"#fb9f3a\"],[0.8888888888888888,\"#fdca26\"],[1.0,\"#f0f921\"]],\"sequentialminus\":[[0.0,\"#0d0887\"],[0.1111111111111111,\"#46039f\"],[0.2222222222222222,\"#7201a8\"],[0.3333333333333333,\"#9c179e\"],[0.4444444444444444,\"#bd3786\"],[0.5555555555555556,\"#d8576b\"],[0.6666666666666666,\"#ed7953\"],[0.7777777777777778,\"#fb9f3a\"],[0.8888888888888888,\"#fdca26\"],[1.0,\"#f0f921\"]],\"diverging\":[[0,\"#8e0152\"],[0.1,\"#c51b7d\"],[0.2,\"#de77ae\"],[0.3,\"#f1b6da\"],[0.4,\"#fde0ef\"],[0.5,\"#f7f7f7\"],[0.6,\"#e6f5d0\"],[0.7,\"#b8e186\"],[0.8,\"#7fbc41\"],[0.9,\"#4d9221\"],[1,\"#276419\"]]},\"xaxis\":{\"gridcolor\":\"white\",\"linecolor\":\"white\",\"ticks\":\"\",\"title\":{\"standoff\":15},\"zerolinecolor\":\"white\",\"automargin\":true,\"zerolinewidth\":2},\"yaxis\":{\"gridcolor\":\"white\",\"linecolor\":\"white\",\"ticks\":\"\",\"title\":{\"standoff\":15},\"zerolinecolor\":\"white\",\"automargin\":true,\"zerolinewidth\":2},\"scene\":{\"xaxis\":{\"backgroundcolor\":\"#E5ECF6\",\"gridcolor\":\"white\",\"linecolor\":\"white\",\"showbackground\":true,\"ticks\":\"\",\"zerolinecolor\":\"white\",\"gridwidth\":2},\"yaxis\":{\"backgroundcolor\":\"#E5ECF6\",\"gridcolor\":\"white\",\"linecolor\":\"white\",\"showbackground\":true,\"ticks\":\"\",\"zerolinecolor\":\"white\",\"gridwidth\":2},\"zaxis\":{\"backgroundcolor\":\"#E5ECF6\",\"gridcolor\":\"white\",\"linecolor\":\"white\",\"showbackground\":true,\"ticks\":\"\",\"zerolinecolor\":\"white\",\"gridwidth\":2}},\"shapedefaults\":{\"line\":{\"color\":\"#2a3f5f\"}},\"annotationdefaults\":{\"arrowcolor\":\"#2a3f5f\",\"arrowhead\":0,\"arrowwidth\":1},\"geo\":{\"bgcolor\":\"white\",\"landcolor\":\"#E5ECF6\",\"subunitcolor\":\"white\",\"showland\":true,\"showlakes\":true,\"lakecolor\":\"white\"},\"title\":{\"x\":0.05},\"mapbox\":{\"style\":\"light\"}}},\"geo\":{\"lataxis\":{\"range\":[-50,68]},\"lonaxis\":{\"range\":[-130,150]},\"projection\":{\"type\":\"robinson\"},\"showframe\":false},\"margin\":{\"t\":0,\"l\":10,\"r\":10,\"b\":0}},                        {\"responsive\": true}                    ).then(function(){\n",
       "                            \n",
       "var gd = document.getElementById('f67e04b1-d90f-4a7b-8425-4f4d7ab22910');\n",
       "var x = new MutationObserver(function (mutations, observer) {{\n",
       "        var display = window.getComputedStyle(gd).display;\n",
       "        if (!display || display === 'none') {{\n",
       "            console.log([gd, 'removed!']);\n",
       "            Plotly.purge(gd);\n",
       "            observer.disconnect();\n",
       "        }}\n",
       "}});\n",
       "\n",
       "// Listen for the removal of the full notebook cells\n",
       "var notebookContainer = gd.closest('#notebook-container');\n",
       "if (notebookContainer) {{\n",
       "    x.observe(notebookContainer, {childList: true});\n",
       "}}\n",
       "\n",
       "// Listen for the clearing of the current output cell\n",
       "var outputEl = gd.closest('.output');\n",
       "if (outputEl) {{\n",
       "    x.observe(outputEl, {childList: true});\n",
       "}}\n",
       "\n",
       "                        })                };                });            </script>        </div>"
      ]
     },
     "metadata": {},
     "output_type": "display_data"
    }
   ],
   "source": [
    "fig_map = create_map('world', 'Deaths per Million')\n",
    "fig_map"
   ]
  },
  {
   "cell_type": "markdown",
   "metadata": {},
   "source": [
    "## Adding radio buttons above the map\n",
    "\n",
    "Our dashboard allows the user to choose the coloring of the map with four radio buttons. The dash core components library does have radio buttons, but does not supply an easy way to change the style whenever the radio button is checked.\n",
    "\n",
    "### Dash Bootstrap Components\n",
    "\n",
    "The third-party library [Dash Bootstrap Components][1] has many components for dash that are built using [Bootstrap][2], a very popular CSS and JavaScript library containing nicely styled HTML components. Here, we create the radio buttons, which require a list of dictionaries setting the visible `label` and internal `value` to strings for all options. The `labelCheckedStyle` allows us to apply a separate style to the checked label. We create a dashboard with just the radio buttons to view them before adding them above the map.\n",
    "\n",
    "[1]: https://dash-bootstrap-components.opensource.faculty.ai/\n",
    "[2]: https://getbootstrap.com/"
   ]
  },
  {
   "cell_type": "code",
   "execution_count": 46,
   "metadata": {
    "tags": [
     "8"
    ]
   },
   "outputs": [
    {
     "data": {
      "text/html": [
       "\n",
       "        <iframe\n",
       "            width=\"100%\"\n",
       "            height=\"50\"\n",
       "            src=\"http://127.0.0.1:8050/\"\n",
       "            frameborder=\"0\"\n",
       "            allowfullscreen\n",
       "            \n",
       "        ></iframe>\n",
       "        "
      ],
      "text/plain": [
       "<IPython.lib.display.IFrame at 0x1df46ea9fa0>"
      ]
     },
     "metadata": {},
     "output_type": "display_data"
    }
   ],
   "source": [
    "import dash_bootstrap_components as dbc\n",
    "\n",
    "radio_items = dbc.RadioItems(\n",
    "    options=[\n",
    "        {\"label\": \"Deaths\", \"value\": \"Deaths\"},\n",
    "        {\"label\": \"Cases\", \"value\": \"Cases\"},\n",
    "        {\"label\": \"Deaths per Million\", \"value\": \"Deaths per Million\"},\n",
    "        {\"label\": \"Cases per Million\", \"value\": \"Cases per Million\"},\n",
    "    ],\n",
    "    value=\"Deaths\",\n",
    "    id=\"map-radio-items\",\n",
    "    style={'display': 'flex', \n",
    "           'justifyContent': 'space-evenly', \n",
    "           'backgroundColor': '#212529', \n",
    "           'color': '#798d8f'},\n",
    "    labelCheckedStyle={'fontWeight': 800, 'color': 'white'}\n",
    ")\n",
    "\n",
    "\n",
    "app = JupyterDash(__name__)\n",
    "app.layout = radio_items\n",
    "app.run_server(mode='inline', height=50)"
   ]
  },
  {
   "cell_type": "markdown",
   "metadata": {},
   "source": [
    "The radio buttons and map are wrapped in a div and added to the bottom right corner. The buttons will have no effect until we add the interactivity. Note that we had to set the style of each graph component in order to set the height. This is a bug in dash as the graph does not expand or contract to fit the size of its container."
   ]
  },
  {
   "cell_type": "code",
   "execution_count": 48,
   "metadata": {
    "tags": [
     "9"
    ]
   },
   "outputs": [
    {
     "data": {
      "text/html": [
       "\n",
       "        <iframe\n",
       "            width=\"100%\"\n",
       "            height=\"800\"\n",
       "            src=\"http://127.0.0.1:8050/\"\n",
       "            frameborder=\"0\"\n",
       "            allowfullscreen\n",
       "            \n",
       "        ></iframe>\n",
       "        "
      ],
      "text/plain": [
       "<IPython.lib.display.IFrame at 0x1df4785c130>"
      ]
     },
     "metadata": {},
     "output_type": "display_data"
    }
   ],
   "source": [
    "cumulative_graph.style = {'height': '40vh'}\n",
    "daily_graph.style = {'height': '40vh'}\n",
    "weekly_graph.style = {'height': '40vh'}\n",
    "\n",
    "map_graph = dcc.Graph(figure=fig_map, id=\"map-graph\", style={'height': '40vh'})\n",
    "map_div = html.Div([ radio_items,map_graph], style={'gridArea': 'maps'})\n",
    "container = html.Div([table_tabs, graph_tabs, map_div], \n",
    "                     style={'display': 'grid',\n",
    "                            'gridTemplateAreas': '\"tables graphs\" \"tables maps\"',\n",
    "                            'gridTemplateColumns': \"50vw 50vw\",\n",
    "                            'gridTemplateRows': \"50vh 40vh\",\n",
    "                            'columnGap': '10px',\n",
    "                            })\n",
    "layout = html.Div([title, container])\n",
    "\n",
    "app = JupyterDash(__name__)\n",
    "app.layout = layout\n",
    "app.run_server(mode='inline', height=800)"
   ]
  },
  {
   "cell_type": "markdown",
   "metadata": {},
   "source": [
    "## Interactivity using callbacks\n",
    "\n",
    "The **layout** of our dashboard is now complete. We are ready to move on to the second half of our application, the **interactivity**. Code for the interactivity MUST appear after `app.layout` has been set or you'll get an error. The interactivity is user-defined functions named callbacks that get triggered by some event on the dashboard, usually a click.\n",
    "\n",
    "### Writing a callback\n",
    "\n",
    "A summary of the callback function is provided below:\n",
    "\n",
    "* `app.callback` method decorates the function and takes three main arguments:\n",
    "    * Outputs - A list of layout components to be changed\n",
    "    * Inputs - A list of layout components that trigger the function\n",
    "    * States - A list of non-triggered layout components to pass to the function\n",
    "* Function defined with one parameter for every input\n",
    "* Function must return the number of outputs\n",
    "\n",
    "### `Output`, `Input`, and `State`\n",
    "\n",
    "You will use the objects `Output`, `Input`, and `State` to describe the arguments to your callback function, and the return values. All three objects are found in the `dash.dependencies` module and all require two arguments, the **id** of the component, and the targeted **property**. Here are some examples:\n",
    "\n",
    "* `Output(\"cumulative-graph\", \"figure\")` - informs dash that the component with id of \"cumulative-graph\" should have its \"figure\" property replaced with a returned value.\n",
    "* `Input('world-table', 'active_cell')` - informs dash to trigger the function whenever the `active_cell` property of the component with id \"world-table\" is changed.\n",
    "* `State('world-table', 'derived_virtual_data')` - tells dash to pass the value of the property `derived_virtual_data` of the component with id \"world-table\" to the function. `State` does not trigger the function. It's just extra data to pass to the function whenever it does get triggered.\n",
    "\n",
    "Take a look at the interactivity below. We have a single function that is decorated by `app.callback`. The function name can be anything you desire. This function changes three components (the \"figure\" property of each graph in the upper right corner). From the inputs section, we see that it gets triggered when the active cell changes in the world table. Whenever this function gets triggered, it also gets passed the value of `derived_virtual_data` from the world table.\n",
    "\n",
    "### `data` vs `derived_virtual_data`\n",
    "\n",
    "You might be wondering what the difference is between the `data` and `derived_virtual_data` properties from a dash data table. They are both lists containing a dictionary for every row of data. But, the `data` property is **static** and never changes. If the table gets sorted by the user, the list from `data` remains the same. The `derived_virtual_data` is **dynamic** and always matches the data that the user sees. This is why we use it and not the value for the `data` property.\n",
    "\n",
    "### All callbacks called when dashboard starts\n",
    "\n",
    "By default, all callbacks are called at the start of the application. This may seem like undesired behavior, but it can actually save you from repeating code, as you don't have to set the components that will be changed during the callback. \n",
    "\n",
    "Our function below will be called by dash whenever the active cell changes, and will be passed two arguments. The parameter names for the function are completely arbitrary, and can be anything you choose. The order of the arguments passed comes directly from the order of the inputs and states in the decorator.\n",
    "\n",
    "Our function receives the default values for the `active_cell` and `derived_virtual_data`, in that order. The text value of `active_cell` is not provided, just a dictionary of row and column integers. We use this info to find the actual value from the list of dictionaries from `derived_virtual_data`. Once we get the country name, we call the `create_graphs` function, which returns three figures, replacing the \"figure\" property of each of the `dcc.Graph` objects. To help understand what is passed to the function, a print statement is added to show some variable values."
   ]
  },
  {
   "cell_type": "code",
   "execution_count": 49,
   "metadata": {
    "scrolled": false,
    "tags": [
     "9"
    ]
   },
   "outputs": [
    {
     "data": {
      "text/html": [
       "\n",
       "        <iframe\n",
       "            width=\"100%\"\n",
       "            height=\"800\"\n",
       "            src=\"http://127.0.0.1:8050/\"\n",
       "            frameborder=\"0\"\n",
       "            allowfullscreen\n",
       "            \n",
       "        ></iframe>\n",
       "        "
      ],
      "text/plain": [
       "<IPython.lib.display.IFrame at 0x1df46e85880>"
      ]
     },
     "metadata": {},
     "output_type": "display_data"
    }
   ],
   "source": [
    "from dash.dependencies import Output, Input, State\n",
    "\n",
    "app = JupyterDash(__name__)\n",
    "app.layout = layout\n",
    "\n",
    "@app.callback(\n",
    "    [\n",
    "        Output(\"cumulative-graph\", \"figure\"),\n",
    "        Output(\"daily-graph\", \"figure\"),\n",
    "        Output(\"weekly-graph\", \"figure\"),\n",
    "    ],\n",
    "    [\n",
    "        Input('world-table', 'active_cell')\n",
    "    ],\n",
    "    [\n",
    "        State('world-table', 'derived_virtual_data')\n",
    "    ]\n",
    ")\n",
    "def change_area_graphs(world_cell, world_data):\n",
    "    \"\"\"\n",
    "    Change the all three graphs in the upper right hand corner of the app\n",
    "    \n",
    "    Parameters\n",
    "    ----------\n",
    "    world_cell : dict with keys `row` and `cell` mapped to integers of cell location\n",
    "    \n",
    "    world_data : list of dicts of one country per row.\n",
    "                     Has keys Country, Deaths, Cases, Deaths per Million, Cases per Million\n",
    "                     \n",
    "    Returns\n",
    "    -------\n",
    "    List of three plotly figures, one for each of the `Output`\n",
    "    \"\"\"\n",
    "    row_number = world_cell[\"row\"]\n",
    "    row_data = world_data[row_number]\n",
    "    country = row_data['Country']\n",
    "    print(\"active_cell\", world_cell, \n",
    "          \"\\nrow_number\", row_number, \n",
    "          \"\\nrow_data\", row_data, \n",
    "          \"\\ncountry\", country)\n",
    "    return create_graphs('world', country)\n",
    "    \n",
    "app.run_server(mode='inline', height=800)"
   ]
  },
  {
   "cell_type": "markdown",
   "metadata": {},
   "source": [
    "### Single Callback for updating both World and USA data\n",
    "\n",
    "A component may only appear as an output in exactly **one** callback. This means we cannot write separate callbacks for the world and USA tables, as they update the same three graphs in the upper right corner. To work around this limitation, we redefine our callback to have a total of three input triggers - both data tables and the tab above them. If the active cell from either of the tables change or the tab switches, the function will be triggered. It gets passed those three inputs plus the underlying list of dictionaries (the `derived_virtual_data`) from both tables.\n",
    "\n",
    "The body of the function is updated to perform some logic to determine whether the world or USA tab is active. Since any cell can be the active cell, it only updates the graph when the first column (index equal to 0) is active. It's also possible that there is no active cell, making its value `None`. This happens whenever a sort is performed. The statement `if cell and cell[\"column\"] == 0` ensures that there is an active cell and it's in the first column. If this check fails, we must raise the `PreventUpdate` exception (that you must import from the `dash.exceptions` module) as dash expects three figures to be returned. This is a useful exception to know about, as there will be times a user triggers a callback, but the desired behavior is to not change anything."
   ]
  },
  {
   "cell_type": "code",
   "execution_count": 50,
   "metadata": {
    "scrolled": true,
    "tags": [
     "9"
    ]
   },
   "outputs": [
    {
     "data": {
      "text/html": [
       "\n",
       "        <iframe\n",
       "            width=\"100%\"\n",
       "            height=\"800\"\n",
       "            src=\"http://127.0.0.1:8050/\"\n",
       "            frameborder=\"0\"\n",
       "            allowfullscreen\n",
       "            \n",
       "        ></iframe>\n",
       "        "
      ],
      "text/plain": [
       "<IPython.lib.display.IFrame at 0x1df46e90d30>"
      ]
     },
     "metadata": {},
     "output_type": "display_data"
    }
   ],
   "source": [
    "from dash.exceptions import PreventUpdate\n",
    "\n",
    "app = JupyterDash(__name__)\n",
    "app.layout = layout\n",
    "\n",
    "@app.callback(\n",
    "    [\n",
    "        Output(\"cumulative-graph\", \"figure\"),\n",
    "        Output(\"daily-graph\", \"figure\"),\n",
    "        Output(\"weekly-graph\", \"figure\"),\n",
    "    ],\n",
    "    [\n",
    "        Input(\"world-table\", \"active_cell\"),\n",
    "        Input(\"usa-table\", \"active_cell\"),\n",
    "        Input(\"table-tabs\", \"value\"),\n",
    "    ],\n",
    "    [\n",
    "        State(\"world-table\", \"derived_virtual_data\"),\n",
    "        State(\"usa-table\", \"derived_virtual_data\"),\n",
    "    ],\n",
    ")\n",
    "def change_area_graphs(world_cell, usa_cell, group, world_data, usa_data):\n",
    "    area, cell, data = \"Country\", world_cell, world_data\n",
    "    if group == \"usa\":\n",
    "        area, cell, data = \"State\", usa_cell, usa_data\n",
    "    if cell and cell[\"column\"] == 0:\n",
    "        country_state = data[cell[\"row\"]][area]\n",
    "        return create_graphs(group, country_state)\n",
    "    else:\n",
    "        raise PreventUpdate\n",
    "        \n",
    "app.run_server(mode='inline', height=800)"
   ]
  },
  {
   "cell_type": "markdown",
   "metadata": {},
   "source": [
    "## Callback to change the map\n",
    "\n",
    "We need to add one more callback to change the map and/or its coloring.  This function gets triggered when either the tabs above the table change or one of the radio items is clicked. We return a single figure using our `create_map` function defined above."
   ]
  },
  {
   "cell_type": "code",
   "execution_count": 51,
   "metadata": {
    "tags": [
     "9"
    ]
   },
   "outputs": [
    {
     "data": {
      "text/html": [
       "\n",
       "        <iframe\n",
       "            width=\"100%\"\n",
       "            height=\"800\"\n",
       "            src=\"http://127.0.0.1:8050/\"\n",
       "            frameborder=\"0\"\n",
       "            allowfullscreen\n",
       "            \n",
       "        ></iframe>\n",
       "        "
      ],
      "text/plain": [
       "<IPython.lib.display.IFrame at 0x1df479d20a0>"
      ]
     },
     "metadata": {},
     "output_type": "display_data"
    }
   ],
   "source": [
    "app = JupyterDash(__name__)\n",
    "app.layout = layout\n",
    "\n",
    "@app.callback(\n",
    "    [\n",
    "        Output(\"cumulative-graph\", \"figure\"),\n",
    "        Output(\"daily-graph\", \"figure\"),\n",
    "        Output(\"weekly-graph\", \"figure\"),\n",
    "    ],\n",
    "    [\n",
    "        Input(\"world-table\", \"active_cell\"),\n",
    "        Input(\"usa-table\", \"active_cell\"),\n",
    "        Input(\"table-tabs\", \"value\"),\n",
    "    ],\n",
    "    [\n",
    "        State(\"world-table\", \"derived_virtual_data\"),\n",
    "        State(\"usa-table\", \"derived_virtual_data\"),\n",
    "    ],\n",
    ")\n",
    "def change_area_graphs(world_cell, usa_cell, group, world_data, usa_data):\n",
    "    area, cell, data = \"Country\", world_cell, world_data\n",
    "    if group == \"usa\":\n",
    "        area, cell, data = \"State\", usa_cell, usa_data\n",
    "    if cell and cell[\"column\"] == 0:\n",
    "        country_state = data[cell[\"row\"]][area]\n",
    "        return create_graphs(group, country_state)\n",
    "    else:\n",
    "        raise PreventUpdate\n",
    "\n",
    "@app.callback(\n",
    "    Output(\"map-graph\", \"figure\"),\n",
    "    [\n",
    "        Input(\"table-tabs\", \"value\"), \n",
    "        Input(\"map-radio-items\", \"value\")\n",
    "    ],\n",
    ")\n",
    "def change_map(group, radio_value):\n",
    "    return create_map(group, radio_value)\n",
    "\n",
    "app.run_server(mode='inline', height=800)"
   ]
  },
  {
   "cell_type": "markdown",
   "metadata": {},
   "source": [
    "### Differences between this tutorial and `dashboard.py`\n",
    "\n",
    "Open the `dashboard.py` file and review the code. It is largely the same as it was presented in this tutorial, however, there are a few differences:\n",
    "\n",
    "* The dash application is instantiated with `Dash` from the library `dash` and not `JupyterDash`\n",
    "* All of the CSS (except for the data tables) has moved to assets/style.css\n",
    "* The CSS for Bootstrap (and any other external CSS) must be linked using the `external_stylesheets` parameter when instantiating `Dash`. It is set to a list of URLs containing CSS.\n",
    "* A new column in our CSS grid is added on the left. Four bootstrap \"cards\" from `dash_bootstrap_components` are placed in this column.\n",
    "* A navigation bar is added to the top of the page using `dash_bootstrap_components`\n",
    "* CSS is added to target screens with a width less than 1000px using a media query.\n",
    "    * Take a look at the bottom of assets/style.css. You'll see the following selector \n",
    "        * `@media only screen and (max-width: 1000px)`"
   ]
  },
  {
   "cell_type": "markdown",
   "metadata": {},
   "source": [
    "## Dash Summary\n",
    "\n",
    "* Dash vs Plotly \n",
    "    * Dash builds the dashboard application with HTML components and provides interactivity with callbacks\n",
    "    * Dash does not do visualization\n",
    "    * Plotly creates all visualizations\n",
    "    * Plotly visualizations must be placed in a `dcc.Graph` component\n",
    "* Two parts of a dash application\n",
    "    * **Layout**\n",
    "        * Dash HTML Components - nearly all regular HTML components\n",
    "        * Dash Core Components - interactive widgets\n",
    "        * Dash Data Tables - two dimensional tables\n",
    "        * Dash Bootstrap Components - third-party library with more widgets styled with Bootstrap\n",
    "        * Must set `app.layout` to a dash component to finalize layout\n",
    "    * **Interactivity**\n",
    "        * Functions triggered by user events\n",
    "        * Functions receive component values as inputs\n",
    "        * Functions return new component values as outputs\n",
    "        * Interactivity must come after `app.layout` is set\n",
    "* Dash HTML Components\n",
    "    * Separate library - `dash_html_components` aliased as `html`\n",
    "    * Uses same tag names as regular HTML, but capitalized\n",
    "    * First parameter is content\n",
    "    * Provide id and class as `id` and `className` parameters\n",
    "    * Can provide CSS with `style` parameter, but better to do so in `assets/style.css`\n",
    "* Dash Core Components\n",
    "    * Separate library - `dash_core_components` aliased as `dcc`\n",
    "    * Many widgets that bundle together HTML/CSS and JavaScript\n",
    "    * Dropdown menus, radio buttons, tabs, and more\n",
    "    * Use `dcc.Graph` to add plotly figure\n",
    "* Dash Data Tables\n",
    "    * Separate Library - `dash_table`\n",
    "    * Provide data as a list of dictionaries. Use `df.to_dict('records')`\n",
    "    * Set style for whole table, each cell, just the headers, or just the data with `style_*` parameters\n",
    "* Dash Bootstrap Components\n",
    "    * Third-party library - `dash_bootstrap_components` - aliased as dbc\n",
    "    * Must set `external_stylesheets` in `Dash` constructor to a list of URLs of the specific flavor of Bootstrap you want.\n",
    "    * Many extra components not provided by `dash_core_components`\n",
    "* Callback functions\n",
    "    * Must be defined after `app.layout` is set\n",
    "    * Function and parameter names are arbitrary\n",
    "    * Decorate functions with `app.callback`\n",
    "    * Pass `app.callback` a list of the outputs, inputs, and states\n",
    "    * Use `Input`, `Output`, and `State` from `dash.dependencies` to target the component and its property\n",
    "        * Example: `Input(\"component-id\", \"component-property\")`\n",
    "    * Function must return a value for each of the outputs\n",
    "    * Raise the `dash.exceptions.PreventUpdate` exception if you don't want the function to update any component\n",
    "    * Every callback is called when the app first launches\n",
    "    * Each component may appear as an output in exactly one callback\n",
    "        * May need to combine many triggers into one function to work around this limitation\n",
    "    * Each component may appear as an input in ANY number of callbacks"
   ]
  }
 ],
 "metadata": {
  "kernelspec": {
   "display_name": "Python 3 (ipykernel)",
   "language": "python",
   "name": "python3"
  },
  "language_info": {
   "codemirror_mode": {
    "name": "ipython",
    "version": 3
   },
   "file_extension": ".py",
   "mimetype": "text/x-python",
   "name": "python",
   "nbconvert_exporter": "python",
   "pygments_lexer": "ipython3",
   "version": "3.9.13"
  },
  "toc": {
   "base_numbering": 1,
   "nav_menu": {},
   "number_sections": true,
   "sideBar": false,
   "skip_h1_title": true,
   "title_cell": "Table of Contents",
   "title_sidebar": "Contents",
   "toc_cell": false,
   "toc_position": {},
   "toc_section_display": true,
   "toc_window_display": false
  },
  "varInspector": {
   "cols": {
    "lenName": 16,
    "lenType": 16,
    "lenVar": 40
   },
   "kernels_config": {
    "python": {
     "delete_cmd_postfix": "",
     "delete_cmd_prefix": "del ",
     "library": "var_list.py",
     "varRefreshCmd": "print(var_dic_list())"
    },
    "r": {
     "delete_cmd_postfix": ") ",
     "delete_cmd_prefix": "rm(",
     "library": "var_list.r",
     "varRefreshCmd": "cat(var_dic_list()) "
    }
   },
   "types_to_exclude": [
    "module",
    "function",
    "builtin_function_or_method",
    "instance",
    "_Feature"
   ],
   "window_display": false
  }
 },
 "nbformat": 4,
 "nbformat_minor": 4
}
